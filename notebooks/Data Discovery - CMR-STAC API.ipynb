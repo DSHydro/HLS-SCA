{
 "cells": [
  {
   "cell_type": "markdown",
   "id": "serious-stanford",
   "metadata": {
    "user_expressions": []
   },
   "source": [
    "# Data Discovery: CMR-STAC API"
   ]
  },
  {
   "cell_type": "markdown",
   "id": "civil-portsmouth",
   "metadata": {
    "user_expressions": []
   },
   "source": [
    "---"
   ]
  },
  {
   "cell_type": "markdown",
   "id": "norwegian-packing",
   "metadata": {
    "user_expressions": []
   },
   "source": [
    "## Summary\n",
    "\n",
    "In this notebook we will use the [SpatioTemporal Asset Catalog (STAC)](https://stacspec.org/) and the [CMR-STAC](https://github.com/nasa/cmr-stac) API to identify Harmonized Landsat Sentinel-2 (HLS) assets that fall within our region of interest (ROI) and within our specified time range. The CMR-STAC API is NASA's implementation of the STAC API specification for all NASA data holdings within EOSDIS. The current implementation allows users to execute searches within provider catalogs (e.g., LPCLOUD) to find the STAC Items they are searching for. All the providers can be found at the CMR-STAC endpoint here: <https://cmr.earthdata.nasa.gov/stac/>. In this exercise, we will query the **LPCLOUD** provider to identify STAC Items matching our search criteria.\n",
    "\n",
    "After finding the results we are interested in, we will write a text file output with links that will allow us to access the HLS assets in the cloud. We will create an example text file of these cloud access links for use via HTTPS and Amazon Web Services s3 buckets.\n",
    "\n",
    "### What is STAC?  \n",
    "\n",
    "[SpatioTemporal Asset Catalog (STAC)](https://stacspec.org/) is a specification that provides a common language for interpreting geospatial information in order to standardize indexing and discovering data.  \n",
    "\n",
    "The [STAC specification](https://stacspec.org/core.html) is made up of a collection of related, yet independent specifications that when used together provide search and discovery capabilities for remove assets.\n",
    "\n",
    "#### Four STAC Specifications  \n",
    "\n",
    "- [STAC Item](https://github.com/radiantearth/stac-spec/blob/master/item-spec/item-spec.md)\n",
    "- [STAC Catalog](https://github.com/radiantearth/stac-spec/blob/master/catalog-spec/catalog-spec.md)\n",
    "- [STAC Collection](https://github.com/radiantearth/stac-spec/blob/master/collection-spec/collection-spec.md)\n",
    "- [STAC API](https://github.com/radiantearth/stac-api-spec)\n",
    "\n",
    "In the following sections, we will explore each of STAC element using NASA's Common Metadata Repository (CMR) STAC application programming interface (API), or [CMR-STAC API](https://github.com/nasa/cmr-stac) for short.  "
   ]
  },
  {
   "cell_type": "markdown",
   "id": "altered-lucas",
   "metadata": {
    "user_expressions": []
   },
   "source": [
    "---"
   ]
  },
  {
   "cell_type": "markdown",
   "id": "seven-touch",
   "metadata": {
    "user_expressions": []
   },
   "source": [
    "## Exercise"
   ]
  },
  {
   "cell_type": "markdown",
   "id": "racial-crawford",
   "metadata": {
    "user_expressions": []
   },
   "source": [
    "### Import Required Packages"
   ]
  },
  {
   "cell_type": "code",
   "execution_count": 1,
   "id": "collective-arthritis",
   "metadata": {},
   "outputs": [
    {
     "data": {
      "application/javascript": [
       "(function(root) {\n",
       "  function now() {\n",
       "    return new Date();\n",
       "  }\n",
       "\n",
       "  var force = true;\n",
       "  var py_version = '3.2.2'.replace('rc', '-rc.').replace('.dev', '-dev.');\n",
       "  var is_dev = py_version.indexOf(\"+\") !== -1 || py_version.indexOf(\"-\") !== -1;\n",
       "  var reloading = false;\n",
       "  var Bokeh = root.Bokeh;\n",
       "  var bokeh_loaded = Bokeh != null && (Bokeh.version === py_version || (Bokeh.versions !== undefined && Bokeh.versions.has(py_version)));\n",
       "\n",
       "  if (typeof (root._bokeh_timeout) === \"undefined\" || force) {\n",
       "    root._bokeh_timeout = Date.now() + 5000;\n",
       "    root._bokeh_failed_load = false;\n",
       "  }\n",
       "\n",
       "  function run_callbacks() {\n",
       "    try {\n",
       "      root._bokeh_onload_callbacks.forEach(function(callback) {\n",
       "        if (callback != null)\n",
       "          callback();\n",
       "      });\n",
       "    } finally {\n",
       "      delete root._bokeh_onload_callbacks;\n",
       "    }\n",
       "    console.debug(\"Bokeh: all callbacks have finished\");\n",
       "  }\n",
       "\n",
       "  function load_libs(css_urls, js_urls, js_modules, js_exports, callback) {\n",
       "    if (css_urls == null) css_urls = [];\n",
       "    if (js_urls == null) js_urls = [];\n",
       "    if (js_modules == null) js_modules = [];\n",
       "    if (js_exports == null) js_exports = {};\n",
       "\n",
       "    root._bokeh_onload_callbacks.push(callback);\n",
       "\n",
       "    if (root._bokeh_is_loading > 0) {\n",
       "      console.debug(\"Bokeh: BokehJS is being loaded, scheduling callback at\", now());\n",
       "      return null;\n",
       "    }\n",
       "    if (js_urls.length === 0 && js_modules.length === 0 && Object.keys(js_exports).length === 0) {\n",
       "      run_callbacks();\n",
       "      return null;\n",
       "    }\n",
       "    if (!reloading) {\n",
       "      console.debug(\"Bokeh: BokehJS not loaded, scheduling load and callback at\", now());\n",
       "    }\n",
       "\n",
       "    function on_load() {\n",
       "      root._bokeh_is_loading--;\n",
       "      if (root._bokeh_is_loading === 0) {\n",
       "        console.debug(\"Bokeh: all BokehJS libraries/stylesheets loaded\");\n",
       "        run_callbacks()\n",
       "      }\n",
       "    }\n",
       "    window._bokeh_on_load = on_load\n",
       "\n",
       "    function on_error() {\n",
       "      console.error(\"failed to load \" + url);\n",
       "    }\n",
       "\n",
       "    var skip = [];\n",
       "    if (window.requirejs) {\n",
       "      window.requirejs.config({'packages': {}, 'paths': {'jspanel': 'https://cdn.jsdelivr.net/npm/jspanel4@4.12.0/dist/jspanel', 'jspanel-modal': 'https://cdn.jsdelivr.net/npm/jspanel4@4.12.0/dist/extensions/modal/jspanel.modal', 'jspanel-tooltip': 'https://cdn.jsdelivr.net/npm/jspanel4@4.12.0/dist/extensions/tooltip/jspanel.tooltip', 'jspanel-hint': 'https://cdn.jsdelivr.net/npm/jspanel4@4.12.0/dist/extensions/hint/jspanel.hint', 'jspanel-layout': 'https://cdn.jsdelivr.net/npm/jspanel4@4.12.0/dist/extensions/layout/jspanel.layout', 'jspanel-contextmenu': 'https://cdn.jsdelivr.net/npm/jspanel4@4.12.0/dist/extensions/contextmenu/jspanel.contextmenu', 'jspanel-dock': 'https://cdn.jsdelivr.net/npm/jspanel4@4.12.0/dist/extensions/dock/jspanel.dock', 'gridstack': 'https://cdn.jsdelivr.net/npm/gridstack@7.2.3/dist/gridstack-all', 'notyf': 'https://cdn.jsdelivr.net/npm/notyf@3/notyf.min'}, 'shim': {'jspanel': {'exports': 'jsPanel'}, 'gridstack': {'exports': 'GridStack'}}});\n",
       "      require([\"jspanel\"], function(jsPanel) {\n",
       "\twindow.jsPanel = jsPanel\n",
       "\ton_load()\n",
       "      })\n",
       "      require([\"jspanel-modal\"], function() {\n",
       "\ton_load()\n",
       "      })\n",
       "      require([\"jspanel-tooltip\"], function() {\n",
       "\ton_load()\n",
       "      })\n",
       "      require([\"jspanel-hint\"], function() {\n",
       "\ton_load()\n",
       "      })\n",
       "      require([\"jspanel-layout\"], function() {\n",
       "\ton_load()\n",
       "      })\n",
       "      require([\"jspanel-contextmenu\"], function() {\n",
       "\ton_load()\n",
       "      })\n",
       "      require([\"jspanel-dock\"], function() {\n",
       "\ton_load()\n",
       "      })\n",
       "      require([\"gridstack\"], function(GridStack) {\n",
       "\twindow.GridStack = GridStack\n",
       "\ton_load()\n",
       "      })\n",
       "      require([\"notyf\"], function() {\n",
       "\ton_load()\n",
       "      })\n",
       "      root._bokeh_is_loading = css_urls.length + 9;\n",
       "    } else {\n",
       "      root._bokeh_is_loading = css_urls.length + js_urls.length + js_modules.length + Object.keys(js_exports).length;\n",
       "    }\n",
       "\n",
       "    var existing_stylesheets = []\n",
       "    var links = document.getElementsByTagName('link')\n",
       "    for (var i = 0; i < links.length; i++) {\n",
       "      var link = links[i]\n",
       "      if (link.href != null) {\n",
       "\texisting_stylesheets.push(link.href)\n",
       "      }\n",
       "    }\n",
       "    for (var i = 0; i < css_urls.length; i++) {\n",
       "      var url = css_urls[i];\n",
       "      if (existing_stylesheets.indexOf(url) !== -1) {\n",
       "\ton_load()\n",
       "\tcontinue;\n",
       "      }\n",
       "      const element = document.createElement(\"link\");\n",
       "      element.onload = on_load;\n",
       "      element.onerror = on_error;\n",
       "      element.rel = \"stylesheet\";\n",
       "      element.type = \"text/css\";\n",
       "      element.href = url;\n",
       "      console.debug(\"Bokeh: injecting link tag for BokehJS stylesheet: \", url);\n",
       "      document.body.appendChild(element);\n",
       "    }    if (((window['jsPanel'] !== undefined) && (!(window['jsPanel'] instanceof HTMLElement))) || window.requirejs) {\n",
       "      var urls = ['https://cdn.holoviz.org/panel/1.2.3/dist/bundled/floatpanel/jspanel4@4.12.0/dist/jspanel.js', 'https://cdn.holoviz.org/panel/1.2.3/dist/bundled/floatpanel/jspanel4@4.12.0/dist/extensions/modal/jspanel.modal.js', 'https://cdn.holoviz.org/panel/1.2.3/dist/bundled/floatpanel/jspanel4@4.12.0/dist/extensions/tooltip/jspanel.tooltip.js', 'https://cdn.holoviz.org/panel/1.2.3/dist/bundled/floatpanel/jspanel4@4.12.0/dist/extensions/hint/jspanel.hint.js', 'https://cdn.holoviz.org/panel/1.2.3/dist/bundled/floatpanel/jspanel4@4.12.0/dist/extensions/layout/jspanel.layout.js', 'https://cdn.holoviz.org/panel/1.2.3/dist/bundled/floatpanel/jspanel4@4.12.0/dist/extensions/contextmenu/jspanel.contextmenu.js', 'https://cdn.holoviz.org/panel/1.2.3/dist/bundled/floatpanel/jspanel4@4.12.0/dist/extensions/dock/jspanel.dock.js'];\n",
       "      for (var i = 0; i < urls.length; i++) {\n",
       "        skip.push(urls[i])\n",
       "      }\n",
       "    }    if (((window['GridStack'] !== undefined) && (!(window['GridStack'] instanceof HTMLElement))) || window.requirejs) {\n",
       "      var urls = ['https://cdn.holoviz.org/panel/1.2.3/dist/bundled/gridstack/gridstack@7.2.3/dist/gridstack-all.js'];\n",
       "      for (var i = 0; i < urls.length; i++) {\n",
       "        skip.push(urls[i])\n",
       "      }\n",
       "    }    if (((window['Notyf'] !== undefined) && (!(window['Notyf'] instanceof HTMLElement))) || window.requirejs) {\n",
       "      var urls = ['https://cdn.holoviz.org/panel/1.2.3/dist/bundled/notificationarea/notyf@3/notyf.min.js'];\n",
       "      for (var i = 0; i < urls.length; i++) {\n",
       "        skip.push(urls[i])\n",
       "      }\n",
       "    }    var existing_scripts = []\n",
       "    var scripts = document.getElementsByTagName('script')\n",
       "    for (var i = 0; i < scripts.length; i++) {\n",
       "      var script = scripts[i]\n",
       "      if (script.src != null) {\n",
       "\texisting_scripts.push(script.src)\n",
       "      }\n",
       "    }\n",
       "    for (var i = 0; i < js_urls.length; i++) {\n",
       "      var url = js_urls[i];\n",
       "      if (skip.indexOf(url) !== -1 || existing_scripts.indexOf(url) !== -1) {\n",
       "\tif (!window.requirejs) {\n",
       "\t  on_load();\n",
       "\t}\n",
       "\tcontinue;\n",
       "      }\n",
       "      var element = document.createElement('script');\n",
       "      element.onload = on_load;\n",
       "      element.onerror = on_error;\n",
       "      element.async = false;\n",
       "      element.src = url;\n",
       "      console.debug(\"Bokeh: injecting script tag for BokehJS library: \", url);\n",
       "      document.head.appendChild(element);\n",
       "    }\n",
       "    for (var i = 0; i < js_modules.length; i++) {\n",
       "      var url = js_modules[i];\n",
       "      if (skip.indexOf(url) !== -1 || existing_scripts.indexOf(url) !== -1) {\n",
       "\tif (!window.requirejs) {\n",
       "\t  on_load();\n",
       "\t}\n",
       "\tcontinue;\n",
       "      }\n",
       "      var element = document.createElement('script');\n",
       "      element.onload = on_load;\n",
       "      element.onerror = on_error;\n",
       "      element.async = false;\n",
       "      element.src = url;\n",
       "      element.type = \"module\";\n",
       "      console.debug(\"Bokeh: injecting script tag for BokehJS library: \", url);\n",
       "      document.head.appendChild(element);\n",
       "    }\n",
       "    for (const name in js_exports) {\n",
       "      var url = js_exports[name];\n",
       "      if (skip.indexOf(url) >= 0 || root[name] != null) {\n",
       "\tif (!window.requirejs) {\n",
       "\t  on_load();\n",
       "\t}\n",
       "\tcontinue;\n",
       "      }\n",
       "      var element = document.createElement('script');\n",
       "      element.onerror = on_error;\n",
       "      element.async = false;\n",
       "      element.type = \"module\";\n",
       "      console.debug(\"Bokeh: injecting script tag for BokehJS library: \", url);\n",
       "      element.textContent = `\n",
       "      import ${name} from \"${url}\"\n",
       "      window.${name} = ${name}\n",
       "      window._bokeh_on_load()\n",
       "      `\n",
       "      document.head.appendChild(element);\n",
       "    }\n",
       "    if (!js_urls.length && !js_modules.length) {\n",
       "      on_load()\n",
       "    }\n",
       "  };\n",
       "\n",
       "  function inject_raw_css(css) {\n",
       "    const element = document.createElement(\"style\");\n",
       "    element.appendChild(document.createTextNode(css));\n",
       "    document.body.appendChild(element);\n",
       "  }\n",
       "\n",
       "  var js_urls = [\"https://cdn.bokeh.org/bokeh/release/bokeh-3.2.2.min.js\", \"https://cdn.bokeh.org/bokeh/release/bokeh-gl-3.2.2.min.js\", \"https://cdn.bokeh.org/bokeh/release/bokeh-widgets-3.2.2.min.js\", \"https://cdn.bokeh.org/bokeh/release/bokeh-tables-3.2.2.min.js\", \"https://cdn.holoviz.org/panel/1.2.3/dist/panel.min.js\", \"https://cdn.jsdelivr.net/npm/@holoviz/geoviews@1.10.1/dist/geoviews.min.js\"];\n",
       "  var js_modules = [];\n",
       "  var js_exports = {};\n",
       "  var css_urls = [];\n",
       "  var inline_js = [    function(Bokeh) {\n",
       "      Bokeh.set_log_level(\"info\");\n",
       "    },\n",
       "function(Bokeh) {} // ensure no trailing comma for IE\n",
       "  ];\n",
       "\n",
       "  function run_inline_js() {\n",
       "    if ((root.Bokeh !== undefined) || (force === true)) {\n",
       "      for (var i = 0; i < inline_js.length; i++) {\n",
       "        inline_js[i].call(root, root.Bokeh);\n",
       "      }\n",
       "      // Cache old bokeh versions\n",
       "      if (Bokeh != undefined && !reloading) {\n",
       "\tvar NewBokeh = root.Bokeh;\n",
       "\tif (Bokeh.versions === undefined) {\n",
       "\t  Bokeh.versions = new Map();\n",
       "\t}\n",
       "\tif (NewBokeh.version !== Bokeh.version) {\n",
       "\t  Bokeh.versions.set(NewBokeh.version, NewBokeh)\n",
       "\t}\n",
       "\troot.Bokeh = Bokeh;\n",
       "      }} else if (Date.now() < root._bokeh_timeout) {\n",
       "      setTimeout(run_inline_js, 100);\n",
       "    } else if (!root._bokeh_failed_load) {\n",
       "      console.log(\"Bokeh: BokehJS failed to load within specified timeout.\");\n",
       "      root._bokeh_failed_load = true;\n",
       "    }\n",
       "    root._bokeh_is_initializing = false\n",
       "  }\n",
       "\n",
       "  function load_or_wait() {\n",
       "    // Implement a backoff loop that tries to ensure we do not load multiple\n",
       "    // versions of Bokeh and its dependencies at the same time.\n",
       "    // In recent versions we use the root._bokeh_is_initializing flag\n",
       "    // to determine whether there is an ongoing attempt to initialize\n",
       "    // bokeh, however for backward compatibility we also try to ensure\n",
       "    // that we do not start loading a newer (Panel>=1.0 and Bokeh>3) version\n",
       "    // before older versions are fully initialized.\n",
       "    if (root._bokeh_is_initializing && Date.now() > root._bokeh_timeout) {\n",
       "      root._bokeh_is_initializing = false;\n",
       "      root._bokeh_onload_callbacks = undefined;\n",
       "      console.log(\"Bokeh: BokehJS was loaded multiple times but one version failed to initialize.\");\n",
       "      load_or_wait();\n",
       "    } else if (root._bokeh_is_initializing || (typeof root._bokeh_is_initializing === \"undefined\" && root._bokeh_onload_callbacks !== undefined)) {\n",
       "      setTimeout(load_or_wait, 100);\n",
       "    } else {\n",
       "      Bokeh = root.Bokeh;\n",
       "      bokeh_loaded = Bokeh != null && (Bokeh.version === py_version || (Bokeh.versions !== undefined && Bokeh.versions.has(py_version)));\n",
       "      root._bokeh_is_initializing = true\n",
       "      root._bokeh_onload_callbacks = []\n",
       "      if (!reloading && (!bokeh_loaded || is_dev)) {\n",
       "\troot.Bokeh = undefined;\n",
       "      }\n",
       "      load_libs(css_urls, js_urls, js_modules, js_exports, function() {\n",
       "\tconsole.debug(\"Bokeh: BokehJS plotting callback run at\", now());\n",
       "\trun_inline_js();\n",
       "      });\n",
       "    }\n",
       "  }\n",
       "  // Give older versions of the autoload script a head-start to ensure\n",
       "  // they initialize before we start loading newer version.\n",
       "  setTimeout(load_or_wait, 100)\n",
       "}(window));"
      ],
      "application/vnd.holoviews_load.v0+json": "(function(root) {\n  function now() {\n    return new Date();\n  }\n\n  var force = true;\n  var py_version = '3.2.2'.replace('rc', '-rc.').replace('.dev', '-dev.');\n  var is_dev = py_version.indexOf(\"+\") !== -1 || py_version.indexOf(\"-\") !== -1;\n  var reloading = false;\n  var Bokeh = root.Bokeh;\n  var bokeh_loaded = Bokeh != null && (Bokeh.version === py_version || (Bokeh.versions !== undefined && Bokeh.versions.has(py_version)));\n\n  if (typeof (root._bokeh_timeout) === \"undefined\" || force) {\n    root._bokeh_timeout = Date.now() + 5000;\n    root._bokeh_failed_load = false;\n  }\n\n  function run_callbacks() {\n    try {\n      root._bokeh_onload_callbacks.forEach(function(callback) {\n        if (callback != null)\n          callback();\n      });\n    } finally {\n      delete root._bokeh_onload_callbacks;\n    }\n    console.debug(\"Bokeh: all callbacks have finished\");\n  }\n\n  function load_libs(css_urls, js_urls, js_modules, js_exports, callback) {\n    if (css_urls == null) css_urls = [];\n    if (js_urls == null) js_urls = [];\n    if (js_modules == null) js_modules = [];\n    if (js_exports == null) js_exports = {};\n\n    root._bokeh_onload_callbacks.push(callback);\n\n    if (root._bokeh_is_loading > 0) {\n      console.debug(\"Bokeh: BokehJS is being loaded, scheduling callback at\", now());\n      return null;\n    }\n    if (js_urls.length === 0 && js_modules.length === 0 && Object.keys(js_exports).length === 0) {\n      run_callbacks();\n      return null;\n    }\n    if (!reloading) {\n      console.debug(\"Bokeh: BokehJS not loaded, scheduling load and callback at\", now());\n    }\n\n    function on_load() {\n      root._bokeh_is_loading--;\n      if (root._bokeh_is_loading === 0) {\n        console.debug(\"Bokeh: all BokehJS libraries/stylesheets loaded\");\n        run_callbacks()\n      }\n    }\n    window._bokeh_on_load = on_load\n\n    function on_error() {\n      console.error(\"failed to load \" + url);\n    }\n\n    var skip = [];\n    if (window.requirejs) {\n      window.requirejs.config({'packages': {}, 'paths': {'jspanel': 'https://cdn.jsdelivr.net/npm/jspanel4@4.12.0/dist/jspanel', 'jspanel-modal': 'https://cdn.jsdelivr.net/npm/jspanel4@4.12.0/dist/extensions/modal/jspanel.modal', 'jspanel-tooltip': 'https://cdn.jsdelivr.net/npm/jspanel4@4.12.0/dist/extensions/tooltip/jspanel.tooltip', 'jspanel-hint': 'https://cdn.jsdelivr.net/npm/jspanel4@4.12.0/dist/extensions/hint/jspanel.hint', 'jspanel-layout': 'https://cdn.jsdelivr.net/npm/jspanel4@4.12.0/dist/extensions/layout/jspanel.layout', 'jspanel-contextmenu': 'https://cdn.jsdelivr.net/npm/jspanel4@4.12.0/dist/extensions/contextmenu/jspanel.contextmenu', 'jspanel-dock': 'https://cdn.jsdelivr.net/npm/jspanel4@4.12.0/dist/extensions/dock/jspanel.dock', 'gridstack': 'https://cdn.jsdelivr.net/npm/gridstack@7.2.3/dist/gridstack-all', 'notyf': 'https://cdn.jsdelivr.net/npm/notyf@3/notyf.min'}, 'shim': {'jspanel': {'exports': 'jsPanel'}, 'gridstack': {'exports': 'GridStack'}}});\n      require([\"jspanel\"], function(jsPanel) {\n\twindow.jsPanel = jsPanel\n\ton_load()\n      })\n      require([\"jspanel-modal\"], function() {\n\ton_load()\n      })\n      require([\"jspanel-tooltip\"], function() {\n\ton_load()\n      })\n      require([\"jspanel-hint\"], function() {\n\ton_load()\n      })\n      require([\"jspanel-layout\"], function() {\n\ton_load()\n      })\n      require([\"jspanel-contextmenu\"], function() {\n\ton_load()\n      })\n      require([\"jspanel-dock\"], function() {\n\ton_load()\n      })\n      require([\"gridstack\"], function(GridStack) {\n\twindow.GridStack = GridStack\n\ton_load()\n      })\n      require([\"notyf\"], function() {\n\ton_load()\n      })\n      root._bokeh_is_loading = css_urls.length + 9;\n    } else {\n      root._bokeh_is_loading = css_urls.length + js_urls.length + js_modules.length + Object.keys(js_exports).length;\n    }\n\n    var existing_stylesheets = []\n    var links = document.getElementsByTagName('link')\n    for (var i = 0; i < links.length; i++) {\n      var link = links[i]\n      if (link.href != null) {\n\texisting_stylesheets.push(link.href)\n      }\n    }\n    for (var i = 0; i < css_urls.length; i++) {\n      var url = css_urls[i];\n      if (existing_stylesheets.indexOf(url) !== -1) {\n\ton_load()\n\tcontinue;\n      }\n      const element = document.createElement(\"link\");\n      element.onload = on_load;\n      element.onerror = on_error;\n      element.rel = \"stylesheet\";\n      element.type = \"text/css\";\n      element.href = url;\n      console.debug(\"Bokeh: injecting link tag for BokehJS stylesheet: \", url);\n      document.body.appendChild(element);\n    }    if (((window['jsPanel'] !== undefined) && (!(window['jsPanel'] instanceof HTMLElement))) || window.requirejs) {\n      var urls = ['https://cdn.holoviz.org/panel/1.2.3/dist/bundled/floatpanel/jspanel4@4.12.0/dist/jspanel.js', 'https://cdn.holoviz.org/panel/1.2.3/dist/bundled/floatpanel/jspanel4@4.12.0/dist/extensions/modal/jspanel.modal.js', 'https://cdn.holoviz.org/panel/1.2.3/dist/bundled/floatpanel/jspanel4@4.12.0/dist/extensions/tooltip/jspanel.tooltip.js', 'https://cdn.holoviz.org/panel/1.2.3/dist/bundled/floatpanel/jspanel4@4.12.0/dist/extensions/hint/jspanel.hint.js', 'https://cdn.holoviz.org/panel/1.2.3/dist/bundled/floatpanel/jspanel4@4.12.0/dist/extensions/layout/jspanel.layout.js', 'https://cdn.holoviz.org/panel/1.2.3/dist/bundled/floatpanel/jspanel4@4.12.0/dist/extensions/contextmenu/jspanel.contextmenu.js', 'https://cdn.holoviz.org/panel/1.2.3/dist/bundled/floatpanel/jspanel4@4.12.0/dist/extensions/dock/jspanel.dock.js'];\n      for (var i = 0; i < urls.length; i++) {\n        skip.push(urls[i])\n      }\n    }    if (((window['GridStack'] !== undefined) && (!(window['GridStack'] instanceof HTMLElement))) || window.requirejs) {\n      var urls = ['https://cdn.holoviz.org/panel/1.2.3/dist/bundled/gridstack/gridstack@7.2.3/dist/gridstack-all.js'];\n      for (var i = 0; i < urls.length; i++) {\n        skip.push(urls[i])\n      }\n    }    if (((window['Notyf'] !== undefined) && (!(window['Notyf'] instanceof HTMLElement))) || window.requirejs) {\n      var urls = ['https://cdn.holoviz.org/panel/1.2.3/dist/bundled/notificationarea/notyf@3/notyf.min.js'];\n      for (var i = 0; i < urls.length; i++) {\n        skip.push(urls[i])\n      }\n    }    var existing_scripts = []\n    var scripts = document.getElementsByTagName('script')\n    for (var i = 0; i < scripts.length; i++) {\n      var script = scripts[i]\n      if (script.src != null) {\n\texisting_scripts.push(script.src)\n      }\n    }\n    for (var i = 0; i < js_urls.length; i++) {\n      var url = js_urls[i];\n      if (skip.indexOf(url) !== -1 || existing_scripts.indexOf(url) !== -1) {\n\tif (!window.requirejs) {\n\t  on_load();\n\t}\n\tcontinue;\n      }\n      var element = document.createElement('script');\n      element.onload = on_load;\n      element.onerror = on_error;\n      element.async = false;\n      element.src = url;\n      console.debug(\"Bokeh: injecting script tag for BokehJS library: \", url);\n      document.head.appendChild(element);\n    }\n    for (var i = 0; i < js_modules.length; i++) {\n      var url = js_modules[i];\n      if (skip.indexOf(url) !== -1 || existing_scripts.indexOf(url) !== -1) {\n\tif (!window.requirejs) {\n\t  on_load();\n\t}\n\tcontinue;\n      }\n      var element = document.createElement('script');\n      element.onload = on_load;\n      element.onerror = on_error;\n      element.async = false;\n      element.src = url;\n      element.type = \"module\";\n      console.debug(\"Bokeh: injecting script tag for BokehJS library: \", url);\n      document.head.appendChild(element);\n    }\n    for (const name in js_exports) {\n      var url = js_exports[name];\n      if (skip.indexOf(url) >= 0 || root[name] != null) {\n\tif (!window.requirejs) {\n\t  on_load();\n\t}\n\tcontinue;\n      }\n      var element = document.createElement('script');\n      element.onerror = on_error;\n      element.async = false;\n      element.type = \"module\";\n      console.debug(\"Bokeh: injecting script tag for BokehJS library: \", url);\n      element.textContent = `\n      import ${name} from \"${url}\"\n      window.${name} = ${name}\n      window._bokeh_on_load()\n      `\n      document.head.appendChild(element);\n    }\n    if (!js_urls.length && !js_modules.length) {\n      on_load()\n    }\n  };\n\n  function inject_raw_css(css) {\n    const element = document.createElement(\"style\");\n    element.appendChild(document.createTextNode(css));\n    document.body.appendChild(element);\n  }\n\n  var js_urls = [\"https://cdn.bokeh.org/bokeh/release/bokeh-3.2.2.min.js\", \"https://cdn.bokeh.org/bokeh/release/bokeh-gl-3.2.2.min.js\", \"https://cdn.bokeh.org/bokeh/release/bokeh-widgets-3.2.2.min.js\", \"https://cdn.bokeh.org/bokeh/release/bokeh-tables-3.2.2.min.js\", \"https://cdn.holoviz.org/panel/1.2.3/dist/panel.min.js\", \"https://cdn.jsdelivr.net/npm/@holoviz/geoviews@1.10.1/dist/geoviews.min.js\"];\n  var js_modules = [];\n  var js_exports = {};\n  var css_urls = [];\n  var inline_js = [    function(Bokeh) {\n      Bokeh.set_log_level(\"info\");\n    },\nfunction(Bokeh) {} // ensure no trailing comma for IE\n  ];\n\n  function run_inline_js() {\n    if ((root.Bokeh !== undefined) || (force === true)) {\n      for (var i = 0; i < inline_js.length; i++) {\n        inline_js[i].call(root, root.Bokeh);\n      }\n      // Cache old bokeh versions\n      if (Bokeh != undefined && !reloading) {\n\tvar NewBokeh = root.Bokeh;\n\tif (Bokeh.versions === undefined) {\n\t  Bokeh.versions = new Map();\n\t}\n\tif (NewBokeh.version !== Bokeh.version) {\n\t  Bokeh.versions.set(NewBokeh.version, NewBokeh)\n\t}\n\troot.Bokeh = Bokeh;\n      }} else if (Date.now() < root._bokeh_timeout) {\n      setTimeout(run_inline_js, 100);\n    } else if (!root._bokeh_failed_load) {\n      console.log(\"Bokeh: BokehJS failed to load within specified timeout.\");\n      root._bokeh_failed_load = true;\n    }\n    root._bokeh_is_initializing = false\n  }\n\n  function load_or_wait() {\n    // Implement a backoff loop that tries to ensure we do not load multiple\n    // versions of Bokeh and its dependencies at the same time.\n    // In recent versions we use the root._bokeh_is_initializing flag\n    // to determine whether there is an ongoing attempt to initialize\n    // bokeh, however for backward compatibility we also try to ensure\n    // that we do not start loading a newer (Panel>=1.0 and Bokeh>3) version\n    // before older versions are fully initialized.\n    if (root._bokeh_is_initializing && Date.now() > root._bokeh_timeout) {\n      root._bokeh_is_initializing = false;\n      root._bokeh_onload_callbacks = undefined;\n      console.log(\"Bokeh: BokehJS was loaded multiple times but one version failed to initialize.\");\n      load_or_wait();\n    } else if (root._bokeh_is_initializing || (typeof root._bokeh_is_initializing === \"undefined\" && root._bokeh_onload_callbacks !== undefined)) {\n      setTimeout(load_or_wait, 100);\n    } else {\n      Bokeh = root.Bokeh;\n      bokeh_loaded = Bokeh != null && (Bokeh.version === py_version || (Bokeh.versions !== undefined && Bokeh.versions.has(py_version)));\n      root._bokeh_is_initializing = true\n      root._bokeh_onload_callbacks = []\n      if (!reloading && (!bokeh_loaded || is_dev)) {\n\troot.Bokeh = undefined;\n      }\n      load_libs(css_urls, js_urls, js_modules, js_exports, function() {\n\tconsole.debug(\"Bokeh: BokehJS plotting callback run at\", now());\n\trun_inline_js();\n      });\n    }\n  }\n  // Give older versions of the autoload script a head-start to ensure\n  // they initialize before we start loading newer version.\n  setTimeout(load_or_wait, 100)\n}(window));"
     },
     "metadata": {},
     "output_type": "display_data"
    },
    {
     "data": {
      "application/javascript": [
       "\n",
       "if ((window.PyViz === undefined) || (window.PyViz instanceof HTMLElement)) {\n",
       "  window.PyViz = {comms: {}, comm_status:{}, kernels:{}, receivers: {}, plot_index: []}\n",
       "}\n",
       "\n",
       "\n",
       "    function JupyterCommManager() {\n",
       "    }\n",
       "\n",
       "    JupyterCommManager.prototype.register_target = function(plot_id, comm_id, msg_handler) {\n",
       "      if (window.comm_manager || ((window.Jupyter !== undefined) && (Jupyter.notebook.kernel != null))) {\n",
       "        var comm_manager = window.comm_manager || Jupyter.notebook.kernel.comm_manager;\n",
       "        comm_manager.register_target(comm_id, function(comm) {\n",
       "          comm.on_msg(msg_handler);\n",
       "        });\n",
       "      } else if ((plot_id in window.PyViz.kernels) && (window.PyViz.kernels[plot_id])) {\n",
       "        window.PyViz.kernels[plot_id].registerCommTarget(comm_id, function(comm) {\n",
       "          comm.onMsg = msg_handler;\n",
       "        });\n",
       "      } else if (typeof google != 'undefined' && google.colab.kernel != null) {\n",
       "        google.colab.kernel.comms.registerTarget(comm_id, (comm) => {\n",
       "          var messages = comm.messages[Symbol.asyncIterator]();\n",
       "          function processIteratorResult(result) {\n",
       "            var message = result.value;\n",
       "            console.log(message)\n",
       "            var content = {data: message.data, comm_id};\n",
       "            var buffers = []\n",
       "            for (var buffer of message.buffers || []) {\n",
       "              buffers.push(new DataView(buffer))\n",
       "            }\n",
       "            var metadata = message.metadata || {};\n",
       "            var msg = {content, buffers, metadata}\n",
       "            msg_handler(msg);\n",
       "            return messages.next().then(processIteratorResult);\n",
       "          }\n",
       "          return messages.next().then(processIteratorResult);\n",
       "        })\n",
       "      }\n",
       "    }\n",
       "\n",
       "    JupyterCommManager.prototype.get_client_comm = function(plot_id, comm_id, msg_handler) {\n",
       "      if (comm_id in window.PyViz.comms) {\n",
       "        return window.PyViz.comms[comm_id];\n",
       "      } else if (window.comm_manager || ((window.Jupyter !== undefined) && (Jupyter.notebook.kernel != null))) {\n",
       "        var comm_manager = window.comm_manager || Jupyter.notebook.kernel.comm_manager;\n",
       "        var comm = comm_manager.new_comm(comm_id, {}, {}, {}, comm_id);\n",
       "        if (msg_handler) {\n",
       "          comm.on_msg(msg_handler);\n",
       "        }\n",
       "      } else if ((plot_id in window.PyViz.kernels) && (window.PyViz.kernels[plot_id])) {\n",
       "        var comm = window.PyViz.kernels[plot_id].connectToComm(comm_id);\n",
       "        comm.open();\n",
       "        if (msg_handler) {\n",
       "          comm.onMsg = msg_handler;\n",
       "        }\n",
       "      } else if (typeof google != 'undefined' && google.colab.kernel != null) {\n",
       "        var comm_promise = google.colab.kernel.comms.open(comm_id)\n",
       "        comm_promise.then((comm) => {\n",
       "          window.PyViz.comms[comm_id] = comm;\n",
       "          if (msg_handler) {\n",
       "            var messages = comm.messages[Symbol.asyncIterator]();\n",
       "            function processIteratorResult(result) {\n",
       "              var message = result.value;\n",
       "              var content = {data: message.data};\n",
       "              var metadata = message.metadata || {comm_id};\n",
       "              var msg = {content, metadata}\n",
       "              msg_handler(msg);\n",
       "              return messages.next().then(processIteratorResult);\n",
       "            }\n",
       "            return messages.next().then(processIteratorResult);\n",
       "          }\n",
       "        }) \n",
       "        var sendClosure = (data, metadata, buffers, disposeOnDone) => {\n",
       "          return comm_promise.then((comm) => {\n",
       "            comm.send(data, metadata, buffers, disposeOnDone);\n",
       "          });\n",
       "        };\n",
       "        var comm = {\n",
       "          send: sendClosure\n",
       "        };\n",
       "      }\n",
       "      window.PyViz.comms[comm_id] = comm;\n",
       "      return comm;\n",
       "    }\n",
       "    window.PyViz.comm_manager = new JupyterCommManager();\n",
       "    \n",
       "\n",
       "\n",
       "var JS_MIME_TYPE = 'application/javascript';\n",
       "var HTML_MIME_TYPE = 'text/html';\n",
       "var EXEC_MIME_TYPE = 'application/vnd.holoviews_exec.v0+json';\n",
       "var CLASS_NAME = 'output';\n",
       "\n",
       "/**\n",
       " * Render data to the DOM node\n",
       " */\n",
       "function render(props, node) {\n",
       "  var div = document.createElement(\"div\");\n",
       "  var script = document.createElement(\"script\");\n",
       "  node.appendChild(div);\n",
       "  node.appendChild(script);\n",
       "}\n",
       "\n",
       "/**\n",
       " * Handle when a new output is added\n",
       " */\n",
       "function handle_add_output(event, handle) {\n",
       "  var output_area = handle.output_area;\n",
       "  var output = handle.output;\n",
       "  if ((output.data == undefined) || (!output.data.hasOwnProperty(EXEC_MIME_TYPE))) {\n",
       "    return\n",
       "  }\n",
       "  var id = output.metadata[EXEC_MIME_TYPE][\"id\"];\n",
       "  var toinsert = output_area.element.find(\".\" + CLASS_NAME.split(' ')[0]);\n",
       "  if (id !== undefined) {\n",
       "    var nchildren = toinsert.length;\n",
       "    var html_node = toinsert[nchildren-1].children[0];\n",
       "    html_node.innerHTML = output.data[HTML_MIME_TYPE];\n",
       "    var scripts = [];\n",
       "    var nodelist = html_node.querySelectorAll(\"script\");\n",
       "    for (var i in nodelist) {\n",
       "      if (nodelist.hasOwnProperty(i)) {\n",
       "        scripts.push(nodelist[i])\n",
       "      }\n",
       "    }\n",
       "\n",
       "    scripts.forEach( function (oldScript) {\n",
       "      var newScript = document.createElement(\"script\");\n",
       "      var attrs = [];\n",
       "      var nodemap = oldScript.attributes;\n",
       "      for (var j in nodemap) {\n",
       "        if (nodemap.hasOwnProperty(j)) {\n",
       "          attrs.push(nodemap[j])\n",
       "        }\n",
       "      }\n",
       "      attrs.forEach(function(attr) { newScript.setAttribute(attr.name, attr.value) });\n",
       "      newScript.appendChild(document.createTextNode(oldScript.innerHTML));\n",
       "      oldScript.parentNode.replaceChild(newScript, oldScript);\n",
       "    });\n",
       "    if (JS_MIME_TYPE in output.data) {\n",
       "      toinsert[nchildren-1].children[1].textContent = output.data[JS_MIME_TYPE];\n",
       "    }\n",
       "    output_area._hv_plot_id = id;\n",
       "    if ((window.Bokeh !== undefined) && (id in Bokeh.index)) {\n",
       "      window.PyViz.plot_index[id] = Bokeh.index[id];\n",
       "    } else {\n",
       "      window.PyViz.plot_index[id] = null;\n",
       "    }\n",
       "  } else if (output.metadata[EXEC_MIME_TYPE][\"server_id\"] !== undefined) {\n",
       "    var bk_div = document.createElement(\"div\");\n",
       "    bk_div.innerHTML = output.data[HTML_MIME_TYPE];\n",
       "    var script_attrs = bk_div.children[0].attributes;\n",
       "    for (var i = 0; i < script_attrs.length; i++) {\n",
       "      toinsert[toinsert.length - 1].childNodes[1].setAttribute(script_attrs[i].name, script_attrs[i].value);\n",
       "    }\n",
       "    // store reference to server id on output_area\n",
       "    output_area._bokeh_server_id = output.metadata[EXEC_MIME_TYPE][\"server_id\"];\n",
       "  }\n",
       "}\n",
       "\n",
       "/**\n",
       " * Handle when an output is cleared or removed\n",
       " */\n",
       "function handle_clear_output(event, handle) {\n",
       "  var id = handle.cell.output_area._hv_plot_id;\n",
       "  var server_id = handle.cell.output_area._bokeh_server_id;\n",
       "  if (((id === undefined) || !(id in PyViz.plot_index)) && (server_id !== undefined)) { return; }\n",
       "  var comm = window.PyViz.comm_manager.get_client_comm(\"hv-extension-comm\", \"hv-extension-comm\", function () {});\n",
       "  if (server_id !== null) {\n",
       "    comm.send({event_type: 'server_delete', 'id': server_id});\n",
       "    return;\n",
       "  } else if (comm !== null) {\n",
       "    comm.send({event_type: 'delete', 'id': id});\n",
       "  }\n",
       "  delete PyViz.plot_index[id];\n",
       "  if ((window.Bokeh !== undefined) & (id in window.Bokeh.index)) {\n",
       "    var doc = window.Bokeh.index[id].model.document\n",
       "    doc.clear();\n",
       "    const i = window.Bokeh.documents.indexOf(doc);\n",
       "    if (i > -1) {\n",
       "      window.Bokeh.documents.splice(i, 1);\n",
       "    }\n",
       "  }\n",
       "}\n",
       "\n",
       "/**\n",
       " * Handle kernel restart event\n",
       " */\n",
       "function handle_kernel_cleanup(event, handle) {\n",
       "  delete PyViz.comms[\"hv-extension-comm\"];\n",
       "  window.PyViz.plot_index = {}\n",
       "}\n",
       "\n",
       "/**\n",
       " * Handle update_display_data messages\n",
       " */\n",
       "function handle_update_output(event, handle) {\n",
       "  handle_clear_output(event, {cell: {output_area: handle.output_area}})\n",
       "  handle_add_output(event, handle)\n",
       "}\n",
       "\n",
       "function register_renderer(events, OutputArea) {\n",
       "  function append_mime(data, metadata, element) {\n",
       "    // create a DOM node to render to\n",
       "    var toinsert = this.create_output_subarea(\n",
       "    metadata,\n",
       "    CLASS_NAME,\n",
       "    EXEC_MIME_TYPE\n",
       "    );\n",
       "    this.keyboard_manager.register_events(toinsert);\n",
       "    // Render to node\n",
       "    var props = {data: data, metadata: metadata[EXEC_MIME_TYPE]};\n",
       "    render(props, toinsert[0]);\n",
       "    element.append(toinsert);\n",
       "    return toinsert\n",
       "  }\n",
       "\n",
       "  events.on('output_added.OutputArea', handle_add_output);\n",
       "  events.on('output_updated.OutputArea', handle_update_output);\n",
       "  events.on('clear_output.CodeCell', handle_clear_output);\n",
       "  events.on('delete.Cell', handle_clear_output);\n",
       "  events.on('kernel_ready.Kernel', handle_kernel_cleanup);\n",
       "\n",
       "  OutputArea.prototype.register_mime_type(EXEC_MIME_TYPE, append_mime, {\n",
       "    safe: true,\n",
       "    index: 0\n",
       "  });\n",
       "}\n",
       "\n",
       "if (window.Jupyter !== undefined) {\n",
       "  try {\n",
       "    var events = require('base/js/events');\n",
       "    var OutputArea = require('notebook/js/outputarea').OutputArea;\n",
       "    if (OutputArea.prototype.mime_types().indexOf(EXEC_MIME_TYPE) == -1) {\n",
       "      register_renderer(events, OutputArea);\n",
       "    }\n",
       "  } catch(err) {\n",
       "  }\n",
       "}\n"
      ],
      "application/vnd.holoviews_load.v0+json": "\nif ((window.PyViz === undefined) || (window.PyViz instanceof HTMLElement)) {\n  window.PyViz = {comms: {}, comm_status:{}, kernels:{}, receivers: {}, plot_index: []}\n}\n\n\n    function JupyterCommManager() {\n    }\n\n    JupyterCommManager.prototype.register_target = function(plot_id, comm_id, msg_handler) {\n      if (window.comm_manager || ((window.Jupyter !== undefined) && (Jupyter.notebook.kernel != null))) {\n        var comm_manager = window.comm_manager || Jupyter.notebook.kernel.comm_manager;\n        comm_manager.register_target(comm_id, function(comm) {\n          comm.on_msg(msg_handler);\n        });\n      } else if ((plot_id in window.PyViz.kernels) && (window.PyViz.kernels[plot_id])) {\n        window.PyViz.kernels[plot_id].registerCommTarget(comm_id, function(comm) {\n          comm.onMsg = msg_handler;\n        });\n      } else if (typeof google != 'undefined' && google.colab.kernel != null) {\n        google.colab.kernel.comms.registerTarget(comm_id, (comm) => {\n          var messages = comm.messages[Symbol.asyncIterator]();\n          function processIteratorResult(result) {\n            var message = result.value;\n            console.log(message)\n            var content = {data: message.data, comm_id};\n            var buffers = []\n            for (var buffer of message.buffers || []) {\n              buffers.push(new DataView(buffer))\n            }\n            var metadata = message.metadata || {};\n            var msg = {content, buffers, metadata}\n            msg_handler(msg);\n            return messages.next().then(processIteratorResult);\n          }\n          return messages.next().then(processIteratorResult);\n        })\n      }\n    }\n\n    JupyterCommManager.prototype.get_client_comm = function(plot_id, comm_id, msg_handler) {\n      if (comm_id in window.PyViz.comms) {\n        return window.PyViz.comms[comm_id];\n      } else if (window.comm_manager || ((window.Jupyter !== undefined) && (Jupyter.notebook.kernel != null))) {\n        var comm_manager = window.comm_manager || Jupyter.notebook.kernel.comm_manager;\n        var comm = comm_manager.new_comm(comm_id, {}, {}, {}, comm_id);\n        if (msg_handler) {\n          comm.on_msg(msg_handler);\n        }\n      } else if ((plot_id in window.PyViz.kernels) && (window.PyViz.kernels[plot_id])) {\n        var comm = window.PyViz.kernels[plot_id].connectToComm(comm_id);\n        comm.open();\n        if (msg_handler) {\n          comm.onMsg = msg_handler;\n        }\n      } else if (typeof google != 'undefined' && google.colab.kernel != null) {\n        var comm_promise = google.colab.kernel.comms.open(comm_id)\n        comm_promise.then((comm) => {\n          window.PyViz.comms[comm_id] = comm;\n          if (msg_handler) {\n            var messages = comm.messages[Symbol.asyncIterator]();\n            function processIteratorResult(result) {\n              var message = result.value;\n              var content = {data: message.data};\n              var metadata = message.metadata || {comm_id};\n              var msg = {content, metadata}\n              msg_handler(msg);\n              return messages.next().then(processIteratorResult);\n            }\n            return messages.next().then(processIteratorResult);\n          }\n        }) \n        var sendClosure = (data, metadata, buffers, disposeOnDone) => {\n          return comm_promise.then((comm) => {\n            comm.send(data, metadata, buffers, disposeOnDone);\n          });\n        };\n        var comm = {\n          send: sendClosure\n        };\n      }\n      window.PyViz.comms[comm_id] = comm;\n      return comm;\n    }\n    window.PyViz.comm_manager = new JupyterCommManager();\n    \n\n\nvar JS_MIME_TYPE = 'application/javascript';\nvar HTML_MIME_TYPE = 'text/html';\nvar EXEC_MIME_TYPE = 'application/vnd.holoviews_exec.v0+json';\nvar CLASS_NAME = 'output';\n\n/**\n * Render data to the DOM node\n */\nfunction render(props, node) {\n  var div = document.createElement(\"div\");\n  var script = document.createElement(\"script\");\n  node.appendChild(div);\n  node.appendChild(script);\n}\n\n/**\n * Handle when a new output is added\n */\nfunction handle_add_output(event, handle) {\n  var output_area = handle.output_area;\n  var output = handle.output;\n  if ((output.data == undefined) || (!output.data.hasOwnProperty(EXEC_MIME_TYPE))) {\n    return\n  }\n  var id = output.metadata[EXEC_MIME_TYPE][\"id\"];\n  var toinsert = output_area.element.find(\".\" + CLASS_NAME.split(' ')[0]);\n  if (id !== undefined) {\n    var nchildren = toinsert.length;\n    var html_node = toinsert[nchildren-1].children[0];\n    html_node.innerHTML = output.data[HTML_MIME_TYPE];\n    var scripts = [];\n    var nodelist = html_node.querySelectorAll(\"script\");\n    for (var i in nodelist) {\n      if (nodelist.hasOwnProperty(i)) {\n        scripts.push(nodelist[i])\n      }\n    }\n\n    scripts.forEach( function (oldScript) {\n      var newScript = document.createElement(\"script\");\n      var attrs = [];\n      var nodemap = oldScript.attributes;\n      for (var j in nodemap) {\n        if (nodemap.hasOwnProperty(j)) {\n          attrs.push(nodemap[j])\n        }\n      }\n      attrs.forEach(function(attr) { newScript.setAttribute(attr.name, attr.value) });\n      newScript.appendChild(document.createTextNode(oldScript.innerHTML));\n      oldScript.parentNode.replaceChild(newScript, oldScript);\n    });\n    if (JS_MIME_TYPE in output.data) {\n      toinsert[nchildren-1].children[1].textContent = output.data[JS_MIME_TYPE];\n    }\n    output_area._hv_plot_id = id;\n    if ((window.Bokeh !== undefined) && (id in Bokeh.index)) {\n      window.PyViz.plot_index[id] = Bokeh.index[id];\n    } else {\n      window.PyViz.plot_index[id] = null;\n    }\n  } else if (output.metadata[EXEC_MIME_TYPE][\"server_id\"] !== undefined) {\n    var bk_div = document.createElement(\"div\");\n    bk_div.innerHTML = output.data[HTML_MIME_TYPE];\n    var script_attrs = bk_div.children[0].attributes;\n    for (var i = 0; i < script_attrs.length; i++) {\n      toinsert[toinsert.length - 1].childNodes[1].setAttribute(script_attrs[i].name, script_attrs[i].value);\n    }\n    // store reference to server id on output_area\n    output_area._bokeh_server_id = output.metadata[EXEC_MIME_TYPE][\"server_id\"];\n  }\n}\n\n/**\n * Handle when an output is cleared or removed\n */\nfunction handle_clear_output(event, handle) {\n  var id = handle.cell.output_area._hv_plot_id;\n  var server_id = handle.cell.output_area._bokeh_server_id;\n  if (((id === undefined) || !(id in PyViz.plot_index)) && (server_id !== undefined)) { return; }\n  var comm = window.PyViz.comm_manager.get_client_comm(\"hv-extension-comm\", \"hv-extension-comm\", function () {});\n  if (server_id !== null) {\n    comm.send({event_type: 'server_delete', 'id': server_id});\n    return;\n  } else if (comm !== null) {\n    comm.send({event_type: 'delete', 'id': id});\n  }\n  delete PyViz.plot_index[id];\n  if ((window.Bokeh !== undefined) & (id in window.Bokeh.index)) {\n    var doc = window.Bokeh.index[id].model.document\n    doc.clear();\n    const i = window.Bokeh.documents.indexOf(doc);\n    if (i > -1) {\n      window.Bokeh.documents.splice(i, 1);\n    }\n  }\n}\n\n/**\n * Handle kernel restart event\n */\nfunction handle_kernel_cleanup(event, handle) {\n  delete PyViz.comms[\"hv-extension-comm\"];\n  window.PyViz.plot_index = {}\n}\n\n/**\n * Handle update_display_data messages\n */\nfunction handle_update_output(event, handle) {\n  handle_clear_output(event, {cell: {output_area: handle.output_area}})\n  handle_add_output(event, handle)\n}\n\nfunction register_renderer(events, OutputArea) {\n  function append_mime(data, metadata, element) {\n    // create a DOM node to render to\n    var toinsert = this.create_output_subarea(\n    metadata,\n    CLASS_NAME,\n    EXEC_MIME_TYPE\n    );\n    this.keyboard_manager.register_events(toinsert);\n    // Render to node\n    var props = {data: data, metadata: metadata[EXEC_MIME_TYPE]};\n    render(props, toinsert[0]);\n    element.append(toinsert);\n    return toinsert\n  }\n\n  events.on('output_added.OutputArea', handle_add_output);\n  events.on('output_updated.OutputArea', handle_update_output);\n  events.on('clear_output.CodeCell', handle_clear_output);\n  events.on('delete.Cell', handle_clear_output);\n  events.on('kernel_ready.Kernel', handle_kernel_cleanup);\n\n  OutputArea.prototype.register_mime_type(EXEC_MIME_TYPE, append_mime, {\n    safe: true,\n    index: 0\n  });\n}\n\nif (window.Jupyter !== undefined) {\n  try {\n    var events = require('base/js/events');\n    var OutputArea = require('notebook/js/outputarea').OutputArea;\n    if (OutputArea.prototype.mime_types().indexOf(EXEC_MIME_TYPE) == -1) {\n      register_renderer(events, OutputArea);\n    }\n  } catch(err) {\n  }\n}\n"
     },
     "metadata": {},
     "output_type": "display_data"
    },
    {
     "data": {
      "text/html": [
       "<style>*[data-root-id],\n",
       "*[data-root-id] > * {\n",
       "  box-sizing: border-box;\n",
       "  font-family: var(--jp-ui-font-family);\n",
       "  font-size: var(--jp-ui-font-size1);\n",
       "  color: var(--vscode-editor-foreground, var(--jp-ui-font-color1));\n",
       "}\n",
       "\n",
       "/* Override VSCode background color */\n",
       ".cell-output-ipywidget-background:has(\n",
       "    > .cell-output-ipywidget-background > .lm-Widget > *[data-root-id]\n",
       "  ),\n",
       ".cell-output-ipywidget-background:has(> .lm-Widget > *[data-root-id]) {\n",
       "  background-color: transparent !important;\n",
       "}\n",
       "</style>"
      ]
     },
     "metadata": {},
     "output_type": "display_data"
    },
    {
     "data": {
      "text/html": [
       "\n",
       "<div class=\"logo-block\">\n",
       "<img src='data:image/png;base64,iVBORw0KGgoAAAANSUhEUgAAAEAAAABACAYAAACqaXHeAAAABHNCSVQICAgIfAhkiAAAAAlwSFlz\n",
       "AAAB+wAAAfsBxc2miwAAABl0RVh0U29mdHdhcmUAd3d3Lmlua3NjYXBlLm9yZ5vuPBoAAA6zSURB\n",
       "VHic7ZtpeFRVmsf/5966taWqUlUJ2UioBBJiIBAwCZtog9IOgjqACsogKtqirT2ttt069nQ/zDzt\n",
       "tI4+CrJIREFaFgWhBXpUNhHZQoKBkIUASchWla1S+3ar7r1nPkDaCAnZKoQP/D7mnPOe9/xy76n3\n",
       "nFSAW9ziFoPFNED2LLK5wcyBDObkb8ZkxuaoSYlI6ZcOKq1eWFdedqNzGHQBk9RMEwFAASkk0Xw3\n",
       "ETacDNi2vtvc7L0ROdw0AjoSotQVkKSvHQz/wRO1lScGModBFbDMaNRN1A4tUBCS3lk7BWhQkgpD\n",
       "lG4852/+7DWr1R3uHAZVQDsbh6ZPN7CyxUrCzJMRouusj0ipRwD2uKm0Zn5d2dFwzX1TCGhnmdGo\n",
       "G62Nna+isiUqhkzuKrkQaJlPEv5mFl2fvGg2t/VnzkEV8F5ioioOEWkLG86fvbpthynjdhXYZziQ\n",
       "x1hC9J2NFyi8vCTt91Fh04KGip0AaG9zuCk2wQCVyoNU3Hjezee9bq92duzzTmxsRJoy+jEZZZYo\n",
       "GTKJ6SJngdJqAfRzpze0+jHreUtPc7gpBLQnIYK6BYp/uGhw9YK688eu7v95ysgshcg9qSLMo3JC\n",
       "4jqLKQFBgdKDPoQ+Pltb8dUyQLpeDjeVgI6EgLIQFT5tEl3rn2losHVsexbZ3EyT9wE1uGdkIPcy\n",
       "BGxn8QUq1QrA5nqW5i2tLqvrrM9NK6AdkVIvL9E9bZL/oyfMVd/jqvc8LylzRBKDJSzIExwhQzuL\n",
       "QYGQj4rHfFTc8mUdu3E7yoLtbTe9gI4EqVgVkug2i5+uXGo919ixbRog+3fTbQ8qJe4ZOYNfMoTI\n",
       "OoshUNosgO60AisX15aeI2PSIp5KiFLI9ubb1vV3Qb2ltwLakUCDAkWX7/nHKRmmGIl9VgYsUhJm\n",
       "2NXjKYADtM1ygne9QQDIXlk49FBstMKx66D1v4+XuQr7vqTe0VcBHQlRWiOCbmmSYe2SqtL6q5rJ\n",
       "zsTb7lKx3FKOYC4DoqyS/B5bvLPxvD9Qtf6saxYLQGJErmDOdOMr/zo96km1nElr8bmPOBwI9COv\n",
       "HnFPRIwmkSOv9kcAS4heRsidOkpeWBgZM+UBrTFAXNYL5Vf2ii9c1trNzpYdaoVil3WIc+wdk+gQ\n",
       "noie3ecCcxt9ITcLAPWt/laGEO/9U6PmzZkenTtsSMQ8uYywJVW+grCstAvCIaAdArAsIWkRDDs/\n",
       "KzLm2YcjY1Lv0UdW73HabE9n6V66cxSzfEmuJssTpKGVp+0vHq73FwL46eOjpMpbRAnNmJFrGJNu\n",
       "Ukf9Yrz+3rghiumCKNXXWPhLYcjxGsIpoCMsIRoFITkW8AuyM8jC1+/QLx4bozCEJIq38+1rtpR6\n",
       "V/yzb8eBlRb3fo5l783N0CWolAzJHaVNzkrTzlEp2bQ2q3TC5gn6wpnoQAmwSiGh2GitnTmVMc5O\n",
       "UyfKWUKCIsU7+fZDKwqdT6DDpvkzAX4/+AMFjk0tDp5GRXLpQ2MUmhgDp5gxQT8+Y7hyPsMi8uxF\n",
       "71H0oebujHALECjFKaW9Lm68n18wXp2kVzIcABytD5iXFzg+WVXkegpAsOOYziqo0OkK76GyquC3\n",
       "ltZAzMhhqlSNmmWTE5T6e3IN05ITFLM4GdN0vtZ3ob8Jh1NAKXFbm5PtLU/eqTSlGjkNAJjdgn/N\n",
       "aedXa0tdi7+t9G0FIF49rtMSEgAs1kDLkTPO7ebm4IUWeyh1bKomXqlgMG6kJmHcSM0clYLJ8XtR\n",
       "1GTnbV3F6I5wCGikAb402npp1h1s7LQUZZSMIfALFOuL3UUrfnS8+rez7v9qcold5tilgHbO1fjK\n",
       "9ubb17u9oshxzMiUBKXWqJNxd+fqb0tLVs4lILFnK71H0Ind7uiPgACVcFJlrb0tV6DzxqqTIhUM\n",
       "CwDf1/rrVhTa33/3pGPxJYdQ2l2cbgVcQSosdx8uqnDtbGjh9SlDVSMNWhlnilfqZk42Th2ZpLpf\n",
       "xrHec5e815zrr0dfBZSwzkZfqsv+1FS1KUknUwPARVvItfKUY+cn57yP7qv07UE3p8B2uhUwLk09\n",
       "e0SCOrK+hbdYHYLjRIl71wWzv9jpEoeOHhGRrJAzyEyNiJuUqX0g2sBN5kGK6y2Blp5M3lsB9Qh4\n",
       "y2Ja6x6+i0ucmKgwMATwhSjdUu49tKrQ/pvN5d53ml2CGwCmJipmKjgmyuaXzNeL2a0AkQ01Th5j\n",
       "2DktO3Jyk8f9vcOBQHV94OK+fPumJmvQHxJoWkaKWq9Vs+yUsbq0zGT1I4RgeH2b5wef7+c7bl8F\n",
       "eKgoHVVZa8ZPEORzR6sT1BzDUAD/d9F78e2Tzv99v8D+fLVTqAKAsbGamKey1Mt9Ann4eH3gTXTz\n",
       "idWtAJ8PQWOk7NzSeQn/OTHDuEikVF1R4z8BQCy+6D1aWRfY0tTGG2OM8rRoPaeIj5ZHzJxszElN\n",
       "VM8K8JS5WOfv8mzRnQAKoEhmt8gyPM4lU9SmBK1MCQBnW4KONT86v1hZ1PbwSXPw4JWussVjtH9Y\n",
       "NCoiL9UoH/6PSu8jFrfY2t36erQHXLIEakMi1SydmzB31h3GGXFDFNPaK8Rme9B79Ixrd0WN+1ij\n",
       "NRQ/doRmuFLBkHSTOm5GruG+pFjFdAmorG4IXH1Qua6ASniclfFtDYt+oUjKipPrCQB7QBQ2lrgP\n",
       "fFzm+9XWUtcqJ3/5vDLDpJ79XHZk3u8nGZ42qlj1+ydtbxysCezrydp6ugmipNJ7WBPB5tydY0jP\n",
       "HaVNzs3QzeE4ZpTbI+ZbnSFPbVOw9vsfnVvqWnirPyCNGD08IlqtYkh2hjZ5dErEQzoNm+6ykyOt\n",
       "Lt5/PQEuSRRKo22VkydK+vvS1XEKlhCJAnsqvcVvH7f/ZU2R67eXbMEGAMiIV5oWZWiWvz5Fv2xG\n",
       "sjqNJQRvn3Rs2lji/lNP19VjAQDgD7FHhujZB9OGqYxRkZxixgRDVlqS6uEOFaJUVu0rPFzctrnF\n",
       "JqijImVp8dEKVWyUXDk92zAuMZ6bFwpBU1HrOw6AdhQgUooChb0+ItMbWJitSo5Ws3IAOGEOtL53\n",
       "0vHZih9sC4vtofZ7Qu6523V/fmGcds1TY3V36pUsBwAbSlxnVh2xLfAD/IAIMDf7XYIkNmXfpp2l\n",
       "18rkAJAy9HKFaIr/qULkeQQKy9zf1JgDB2uaeFNGijo5QsUyacNUUTOnGO42xSnv4oOwpDi1zYkc\n",
       "efUc3I5Gk6PhyTuVKaOGyLUAYPGIoY9Pu/atL/L92+4q9wbflRJ2Trpm/jPjdBtfnqB/dIThcl8A\n",
       "KG7hbRuKnb8qsQsVvVlTrwQAQMUlf3kwJI24Z4JhPMtcfng5GcH49GsrxJpGvvHIaeem2ma+KSjQ\n",
       "lIwUdYyCY8j4dE1KzijNnIP2llF2wcXNnsoapw9XxsgYAl6k+KzUXbi2yP3KR2ecf6z3BFsBICdW\n",
       "nvnIaG3eHybqX7vbpEqUMT+9OL4Qpe8VON7dXuFd39v19FoAABRVePbGGuXTszO0P7tu6lghUonE\n",
       "llRdrhArLvmKdh9u29jcFiRRkfLUxBiFNiqSU9icoZQHo5mYBI1MBgBH6wMNb+U7Pnw337H4gi1Y\n",
       "ciWs+uks3Z9fztUvfzxTm9Ne8XXkvQLHNytOOZeiD4e0PgkAIAYCYknKUNUDSXEKzdWNpnil7r4p\n",
       "xqkjTarZMtk/K8TQ6Qve78qqvXurGwIJqcOUKfUWHsm8KGvxSP68YudXq4pcj39X49uOK2X142O0\n",
       "Tz5/u/7TVybqH0rSya6ZBwD21/gubbrgWdDgEOx9WUhfBaC2ibcEBYm7a7x+ukrBMNcEZggyR0TE\n",
       "T8zUPjikQ4VosQZbTpS4vqizBKvqmvjsqnpfzaZyx9JPiz1/bfGKdgD45XB1zoIMzYbfTdS/NClB\n",
       "Gct0USiY3YL/g0LHy/uq/Ef6uo5+n0R/vyhp17Klpge763f8rMu6YU/zrn2nml+2WtH+Z+5IAAFc\n",
       "2bUTdTDOSNa9+cQY7YLsOIXhevEkCvzph7a8laecz/Un/z4/Ae04XeL3UQb57IwU9ZDr9UuKVajv\n",
       "nxp1+1UVIo/LjztZkKH59fO3G/JemqCfmaCRqbqbd90ZZ8FfjtkfAyD0J/9+C2h1hDwsSxvGjNDc\n",
       "b4zk5NfrSwiQblLHzZhg+Jf4aPlUwpDqkQqa9nimbt1/TDH8OitGMaQnj+RJS6B1fbF7SY1TqO5v\n",
       "/v0WAADl1f7zokgS7s7VT2DZ7pegUjBM7mjtiDZbcN4j0YrHH0rXpCtY0qPX0cVL0rv5jv/ZXend\n",
       "0u/EESYBAFBU4T4Qa5TflZOhTe7pmKpaP8kCVUVw1+yhXfJWvn1P3hnXi33JsTN6PnP3hHZ8Z3/h\n",
       "aLHzmkNPuPj7Bc/F/Q38CwjTpSwQXgE4Vmwry9tpfq/ZFgqFMy4AVDtCvi8rvMvOmv0N4YwbVgEA\n",
       "sPM72/KVnzfspmH7HQGCRLG2yL1+z8XwvPcdCbsAANh+xPzstgMtxeGKt+6MK3/tacfvwhWvIwMi\n",
       "oKEBtm0H7W+UVfkc/Y1V0BhoPlDr/w1w/eu1vjIgAgDg22OtX6/eYfnEz/focrZTHAFR+PSs56/7\n",
       "q32nwpjazxgwAQCwcU/T62t3WL7r6/jVRa6/byp1rei+Z98ZUAEAhEPHPc8fKnTU9nbgtnOe8h0l\n",
       "9hcGIqmODLQAHCy2Xti6v/XNRivf43f4fFvIteu854+VHnR7q9tfBlwAAGz+pnndB9vM26UebAe8\n",
       "SLHujPOTPVW+rwY+sxskAAC2HrA8t2Vvc7ffP1r9o+vwR2dcr92InIAbKKC1FZ5tB1tf+/G8p8sv\n",
       "N/9Q5zd/XR34LYCwV5JdccMEAMDBk45DH243r/X4xGvqxFa/GNpS7n6rwOwNWwHVE26oAADYurf1\n",
       "zx/utOzt+DMKYM0p17YtZZ5VNzqfsB2HewG1WXE8PoZ7gOclbTIvynZf9JV+fqZtfgs/8F/Nu5rB\n",
       "EIBmJ+8QRMmpU7EzGRsf2FzuePqYRbzh/zE26EwdrT10f6r6o8HOYzCJB9Dpff8tbnGLG8L/A/WE\n",
       "roTBs2RqAAAAAElFTkSuQmCC'\n",
       "     style='height:25px; border-radius:12px; display: inline-block; float: left; vertical-align: middle'></img>\n",
       "\n",
       "\n",
       "  <img src='data:image/png;base64,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'\n",
       "       style='height:15px; border-radius:12px; display: inline-block; float: left'></img>\n",
       "  \n",
       "\n",
       "\n",
       "  <img src='data:image/png;base64,iVBORw0KGgoAAAANSUhEUgAAACAAAAAgCAYAAABzenr0AAAABHNCSVQICAgIfAhkiAAAAAlwSFlz\n",
       "AAAFMAAABTABZarKtgAAABl0RVh0U29mdHdhcmUAd3d3Lmlua3NjYXBlLm9yZ5vuPBoAAArNSURB\n",
       "VFiFnVd5VFNXGv/ee0kgGyQhbFoXIKCFYEXEDVErTucMoKUOWA/VLsNSLPQgFTOdyrHPiIp1lFIQ\n",
       "OlaPShEG3EpPcQmISCuV1bQ1CLKIULeQhJA9JO+9+UMT0x5aPfOdc895373f/e7v/t537/ddBF5Q\n",
       "JBIJl81mJwCACEVRQBCEQhAEAQCgnghCURRCkmS7Wq2+WlJSYn0Rv8jzDHAcD0EQJIVGo5mFQuGF\n",
       "jIyMu39kq1KpkOrq6gU6nS6aIAiGzWY7VVBQ0P9/AcjNzWXy+fxcOp2uiY+Przm0d6+n8dblv/Fo\n",
       "kzM4SzYfPlRePvFnjnt6ehh1dXVv2mw2nlar/byoqMj8wgBwHBchCJIZEhJSeu1yHVi7vtu02t8+\n",
       "NykQ7BMWoOUMhXQsXLv5IQAwSJJEEASxcDicoeTk5DtCoZBy9XX69Gnv3t7ebJIky3EcH3guAKlU\n",
       "GoGiaOKWLVsOvhs7/9XXPMde3/IyIFbMnaPDuD5AUdQuOf2XlD0npTExMWYAgNbWVpZcLg8xGAzB\n",
       "JEnSvby82tPT052LaTQatLy8fBtJkt/s3Lnz5h8CwHFcRKPRNu/YsePAjh072KTs0IGCxRg8RgUB\n",
       "TGpSx6cmHgMAfNqN6Xa1GvJ/D35gYAAViURkcXHxUrPZHDRv3rxv4uLiDI7xPXv2bLdYLBUFBQWD\n",
       "jj7M8ZGbm8tkMpmSrKysQiaTScXGxtpqL7dManT6tcu5mgEWWJyOhicozpk+c3NsbKzNFcBbWWEf\n",
       "1Td9/upA30i3ZJv0h8bGxiSFQmFcuHDhOACAWCy+0d3dvX3lypUtzc3N9t8AiIuLk4SEhByLiooy\n",
       "AgAcO3ZsNlPgH3Cttb35JZo+bCYXIQAA9MDiUW7sWS1KN687w6Mera2twa2trfMvXboUOS28Pyb1\n",
       "U08McRtf/sXBSmt5cc35pqamVQqFwhoZGallMpnU/fv3e7RaberVq1d/AABAn1IfQqfTNRs3blQB\n",
       "AFy+fJk7Nja2XCKRnD3dNSorusPq6NfTPR+gPiEEoLRFXO1tS2+zavv27ReftjNttyr0S1/j0rUP\n",
       "PEJQwNwQYGgAACQSyXmNRhMtk8lYAAApKSlKDMP0+fn5QU4ACIKkxMfH1zjYuHnz5uspKSlOfdX7\n",
       "u68fvOePcCzKQR4YVCgATGfa/F3pnzaHWOAXSDyaMCqH2+r8VXErP3D+snXr1tV2dXW94dATExOr\n",
       "6XT6JgAAVCKRcDEMM4WHh9sAAHJyUqNu//wDymKx7AAAVVVVPiaTKXxByrYMvBsxEMSTwPXhuL+8\n",
       "e/fu9fv371+flvbemogYNz+TnsBOFEwMFO8/KzEYDKFVVVX+AAChoaGT7u7ud48ePRro0DEMs+bl\n",
       "5bFRNpud4O3tfdGBzq5uy/5wTUPM/q2zC9atmbVqeHg4Pi0t7WxGRoZFH5rw76I7LI8HqHfwPL7d\n",
       "rfVagzw1NfW81t4ePUfsP/OrnWZ6fPSuUqFQSEkkkrOjo6OvuQR5q0ajiXLoPj4+lzgcTjwKACLH\n",
       "9SqXy2kzhBO8haGo+UA2wZW+p880DxeveGt9aHx9fT09ctlq3sC0NT9e6xsbjuZblSxl7wKtVotM\n",
       "m6PnXvlmZJBtX91CEMQsxyJsNlteXl4udugIghAajQYFAEhPTx9AEGQOimGY8y4oLt63KlJkdB4t\n",
       "P282Z/c/dPrDH04ktJ9P2tfWXP3+2o1vHzunEp6Xq0lsGt08KzUrcSGTQ3n3XeefLCs5UqnT6Rap\n",
       "VCoEACA7O/snvV4f5gJooLa2NsihoygKKEVRzquTND2OCpttGXdG1tOxwOlgzdvE9v30rV+m3W5I\n",
       "2jfJNQmLH85QUUzPNTwvkAx0+vVGhq2/VV9fT+dyuZ01NTXOXQOA3fGxevXq2waDYY5r8KIoij5b\n",
       "jzB5Cz2oKdOo0erOm+1tVuVtBMZXElNMRJR1fvvjx9iPLQ/RjpuB0Xu/Vp7YmH1864YNG3oNBkPw\n",
       "VD7mzp1rJUnSzZUBmqsBggAgGFC/n6jVA+3WoN3tu1Gg39cg2tEx1Cg3CIJHsclxnl2HRorMN8Z0\n",
       "fRW+vr7GJ36Q56Z5h9BIknzGAMJWtvdQYs0EZe3/FSwqk5tpXEMb1JoYD+n8xRdQJl/fMPEgzKhS\n",
       "L40KCD7lGzg92qIyovpb3y/msT2un2psvFpWVvYyl8vtc1nDSXFXV5c7iqLOtEyS5LNBAADfWeKm\n",
       "Ly4uuvR1++sfv51/P5sfnHm2/Iy+mBmwsaHJbpt+Q0jHSS7TZ/PSNVkNJ/973OxtemD1s91CPb12\n",
       "h9MfvZsk5meo1eqo5ORkxTNWn7HR1tY2l8PhOAsUiqIolCRJcETtv/61qzNySYK5trZ2TCgUUiwW\n",
       "S1FSUhLR+bA/kAzwXcAbHa/cFhrTXrJ/v+7IkSPu3Je4Xm5eboJv2wba5QbO5fQwxhsP679Y+nFO\n",
       "jgAAoKSkJILFYjnBGI1G0YYNGwYBnqRoiqIQlKKojurq6gUAAAKBgKQoiuGYkJWVpTCZTOKmI1Xd\n",
       "HwnDcm+cOnOMw+H0FxYWbqpvqv/r9EV+bky+O+/QoUPiqJRt9JphTLFHbKBCR87tWL9EPN9oNIZn\n",
       "ZWUpXHaMCQQCEgCgsrIyEgBuoGq1+qpOp4t2GPH5/BvFxcVLHXpgYGDD8ePH/56Xl2cCAMjMzOxP\n",
       "S0s7pWfow4RCbz/fAF9RT0+P9yeffHJySSqev+9nxLD1FaAlTR8vlJ8vxxzsFhUVLRMIBB0OvwaD\n",
       "YRlFUdfQkpISK0EQ9J6eHgYAQEZGxl2z2Rw0MjJCBwBITk5+xOVyfzpw4ECSw5lQKKQIbxtJm4EN\n",
       "8eZ7jPz0oNv+dK5FG/jq54eH+IFr/S1KabBy0UerAvI+++wzD4vFEpCWljYEACCTyVh2ux3FcXwS\n",
       "BQCw2WxVdXV1bzrQRURE1FVVVTn1zMzM/pkzZ35/9OjRd0pLS19RqVQIy4/tCwDgOcPTQvFQEQBA\n",
       "aWnpK0ERK2LbyVllN341GUJ4YDu8zD5bKyur7O+85tx9Z2fnO1ar9QjA04KkpaVFs2LFir8olcq7\n",
       "YWFhJpFINNnX16drbGyMjY6Ovg0AIBaLjcuXL5d3d3d7XbhwIW704b3F479MeD1qVfJ5Og/bvb4R\n",
       "LwaDMZabm9uwflNa/z/3HOIv5NsDEK7XS7FeevXPvYNLvm5S/GglCK5KpZorlUobXE8g5ObmMqVS\n",
       "6UG1Wu1BURSHoijOiRMnwgoLC7coFAqBo+9Fm0KhEKStmvvto3TeucFN7pVJYbytarXaQyqVHsRx\n",
       "3N15TF1BuBaljr4rV66wOzo63mAymXdzcnKuwwtIUVHRMqvVGkgQxMV7NXvyJijGvcNXB/7z5Zdf\n",
       "bicI4gSO40NTAgD4bVnuODIAT2pElUq1FEEQO4fD6QsPD++fqixHEATj8/ntjoCrqKhwS0hIsJWV\n",
       "leURBHEOx3G563pT3tn5+flBDAbjg6CgoMMpKSlK17GhoSFMJpMFPk04DJIkEQzDzCwW6+5UD5Oa\n",
       "mhrfO3fufECS5GHXnf8pAAAAHMfdURTdimGYPjExsTo0NHTyj2ynEplMxurs7HyHIAiKJMlSHMct\n",
       "U9k9N2vl5+cH0en0TRiGWX18fC65vnh+LxqNBq2oqFhgMpmi7XY7arVaj+zdu/fxn/l/4bSZl5fH\n",
       "5nK5CQAQMtXznCRJePpEbwOAZhzHX4ix/wHzzC/tu64gcwAAAABJRU5ErkJggg=='\n",
       "       style='height:15px; border-radius:12px; display: inline-block; float: left'></img>\n",
       "  \n",
       "\n",
       "\n",
       "</div>\n"
      ]
     },
     "metadata": {},
     "output_type": "display_data"
    }
   ],
   "source": [
    "import requests\n",
    "from pystac_client import Client       # https://pystac-client.readthedocs.io/en/latest/index.html  \n",
    "from collections import defaultdict    \n",
    "import json\n",
    "import geopandas\n",
    "import geoviews as gv\n",
    "from cartopy import crs\n",
    "gv.extension('bokeh', 'matplotlib')"
   ]
  },
  {
   "cell_type": "markdown",
   "id": "6162ca89-5899-4a41-99a7-e13f0c7f5658",
   "metadata": {
    "user_expressions": []
   },
   "source": [
    "### Submit `GET` request to the CMR STAC API\n",
    "\n",
    "Use the `reqests` package to submit a `GET` request to the CMR STAC API. We'll parse the response and extract the information we need to navigate the STAC Catalog."
   ]
  },
  {
   "cell_type": "code",
   "execution_count": 2,
   "id": "d5bf762e-a9db-4efe-ae22-b5c3180bcbe0",
   "metadata": {},
   "outputs": [],
   "source": [
    "stac_url = 'https://cmr.earthdata.nasa.gov/stac'"
   ]
  },
  {
   "cell_type": "code",
   "execution_count": 3,
   "id": "1589df27-c851-451a-9f31-56b772c6a532",
   "metadata": {},
   "outputs": [],
   "source": [
    "provider_cat = requests.get(stac_url)"
   ]
  },
  {
   "cell_type": "markdown",
   "id": "6bc30baa-3068-4885-8fb1-b94af3ebf143",
   "metadata": {
    "user_expressions": []
   },
   "source": [
    "The CMR STAC API endpoint lists the available providers. Each **provider** is a seperate STAC Catalog endpoint that can be used to submit spatiotemporal queries agaist."
   ]
  },
  {
   "cell_type": "code",
   "execution_count": 4,
   "id": "87bba091-fac5-43cb-abdc-69bbcaeebd2e",
   "metadata": {},
   "outputs": [
    {
     "data": {
      "text/plain": [
       "['ESA',\n",
       " 'GHRC',\n",
       " 'ECHO',\n",
       " 'ISRO',\n",
       " 'EDF_DEV04',\n",
       " 'ASF',\n",
       " 'EUMETSAT',\n",
       " 'CDDIS',\n",
       " 'JAXA',\n",
       " 'AU_AADC',\n",
       " 'ECHO10_OPS',\n",
       " 'LANCEAMSR2',\n",
       " 'GESDISCCLD',\n",
       " 'GHRSSTCWIC',\n",
       " 'LARC_CLOUD',\n",
       " 'LANCEMODIS',\n",
       " 'NSIDCV0',\n",
       " 'NSIDC_ECS',\n",
       " 'NCCS',\n",
       " 'OBPG',\n",
       " 'OMINRT',\n",
       " 'USGS_LTA',\n",
       " 'ASIPS',\n",
       " 'ESDIS',\n",
       " 'NSIDC_CPRD',\n",
       " 'ORNL_CLOUD',\n",
       " 'FEDEO',\n",
       " 'MLHUB',\n",
       " 'LAADS',\n",
       " 'LARC_ASDC',\n",
       " 'LPDAAC_ECS',\n",
       " 'NOAA_NCEI',\n",
       " 'OB_DAAC',\n",
       " 'XYZ_PROV',\n",
       " 'GHRC_DAAC',\n",
       " 'CSDA',\n",
       " 'NRSCC',\n",
       " 'CEOS_EXTRA',\n",
       " 'AMD_KOPRI',\n",
       " 'AMD_USAPDC',\n",
       " 'LARC',\n",
       " 'SCIOPS',\n",
       " 'USGS_EROS',\n",
       " 'LPCUMULUS',\n",
       " 'MOPITT',\n",
       " 'GHRC_CLOUD',\n",
       " 'LPCLOUD',\n",
       " 'ORNL_DAAC',\n",
       " 'CCMEO',\n",
       " 'POCLOUD',\n",
       " 'PODAAC',\n",
       " 'SEDAC',\n",
       " 'GES_DISC',\n",
       " 'LM_FIRMS',\n",
       " 'ENVIDAT',\n",
       " 'OB_CLOUD',\n",
       " 'USGS']"
      ]
     },
     "execution_count": 4,
     "metadata": {},
     "output_type": "execute_result"
    }
   ],
   "source": [
    "providers = [p['title'] for p in provider_cat.json()['links'] if 'child' in p['rel']]\n",
    "providers"
   ]
  },
  {
   "cell_type": "markdown",
   "id": "0403d3e7-64ae-4e75-a53e-de6c7204083a",
   "metadata": {
    "user_expressions": []
   },
   "source": [
    "### Explore the `LPCLOUD` provider"
   ]
  },
  {
   "cell_type": "code",
   "execution_count": 5,
   "id": "7d5dc819-89f7-408f-8ab7-c35cd7103e03",
   "metadata": {},
   "outputs": [],
   "source": [
    "provider = 'LPCLOUD'"
   ]
  },
  {
   "cell_type": "code",
   "execution_count": 6,
   "id": "0aed3b74-fc0f-4519-8e07-c0c2fe1f2c3f",
   "metadata": {},
   "outputs": [
    {
     "data": {
      "text/plain": [
       "'https://cmr.earthdata.nasa.gov/stac/LPCLOUD'"
      ]
     },
     "execution_count": 6,
     "metadata": {},
     "output_type": "execute_result"
    }
   ],
   "source": [
    "provider_url = f'{stac_url}/{provider}'\n",
    "provider_url"
   ]
  },
  {
   "cell_type": "code",
   "execution_count": 7,
   "id": "a8589e46-e7da-4d27-9554-d474f7f0192b",
   "metadata": {
    "tags": []
   },
   "outputs": [
    {
     "data": {
      "text/plain": [
       "{'id': 'LPCLOUD',\n",
       " 'title': 'LPCLOUD',\n",
       " 'description': 'Root catalog for LPCLOUD',\n",
       " 'type': 'Catalog',\n",
       " 'stac_version': '1.0.0',\n",
       " 'links': [{'rel': 'self',\n",
       "   'href': 'https://cmr.earthdata.nasa.gov/stac/LPCLOUD',\n",
       "   'title': 'Provider catalog',\n",
       "   'type': 'application/json'},\n",
       "  {'rel': 'root',\n",
       "   'href': 'https://cmr.earthdata.nasa.gov/stac/',\n",
       "   'title': 'Root catalog',\n",
       "   'type': 'application/json'},\n",
       "  {'rel': 'collections',\n",
       "   'href': 'https://cmr.earthdata.nasa.gov/stac/LPCLOUD/collections',\n",
       "   'title': 'Provider Collections',\n",
       "   'type': 'application/json'},\n",
       "  {'rel': 'search',\n",
       "   'href': 'https://cmr.earthdata.nasa.gov/stac/LPCLOUD/search',\n",
       "   'title': 'Provider Item Search',\n",
       "   'type': 'application/geo+json',\n",
       "   'method': 'GET'},\n",
       "  {'rel': 'search',\n",
       "   'href': 'https://cmr.earthdata.nasa.gov/stac/LPCLOUD/search',\n",
       "   'title': 'Provider Item Search',\n",
       "   'type': 'application/geo+json',\n",
       "   'method': 'POST'},\n",
       "  {'rel': 'conformance',\n",
       "   'href': 'https://cmr.earthdata.nasa.gov/stac/LPCLOUD/conformance',\n",
       "   'title': 'Conformance Classes',\n",
       "   'type': 'application/geo+json'},\n",
       "  {'rel': 'service-desc',\n",
       "   'href': 'https://api.stacspec.org/v1.0.0-beta.1/openapi.yaml',\n",
       "   'title': 'OpenAPI Doc',\n",
       "   'type': 'application/vnd.oai.openapi;version=3.0'},\n",
       "  {'rel': 'service-doc',\n",
       "   'href': 'https://api.stacspec.org/v1.0.0-beta.1/index.html',\n",
       "   'title': 'HTML documentation',\n",
       "   'type': 'text/html'},\n",
       "  {'rel': 'child',\n",
       "   'href': 'https://cmr.earthdata.nasa.gov/stac/LPCLOUD/collections/ASTGTM_NUMNC.v003',\n",
       "   'type': 'application/json'},\n",
       "  {'rel': 'child',\n",
       "   'href': 'https://cmr.earthdata.nasa.gov/stac/LPCLOUD/collections/ASTGTM_NC.v003',\n",
       "   'type': 'application/json'},\n",
       "  {'rel': 'child',\n",
       "   'href': 'https://cmr.earthdata.nasa.gov/stac/LPCLOUD/collections/ASTGTM.v003',\n",
       "   'type': 'application/json'},\n",
       "  {'rel': 'child',\n",
       "   'href': 'https://cmr.earthdata.nasa.gov/stac/LPCLOUD/collections/WaterBalance_Daily_Historical_GRIDMET.v1.5',\n",
       "   'type': 'application/json'},\n",
       "  {'rel': 'child',\n",
       "   'href': 'https://cmr.earthdata.nasa.gov/stac/LPCLOUD/collections/ECO_L2G_CLOUD.v002',\n",
       "   'type': 'application/json'},\n",
       "  {'rel': 'child',\n",
       "   'href': 'https://cmr.earthdata.nasa.gov/stac/LPCLOUD/collections/ECO_L2G_LSTE.v002',\n",
       "   'type': 'application/json'},\n",
       "  {'rel': 'child',\n",
       "   'href': 'https://cmr.earthdata.nasa.gov/stac/LPCLOUD/collections/ECO_L1CG_RAD.v002',\n",
       "   'type': 'application/json'},\n",
       "  {'rel': 'child',\n",
       "   'href': 'https://cmr.earthdata.nasa.gov/stac/LPCLOUD/collections/ECO_L1B_ATT.v002',\n",
       "   'type': 'application/json'},\n",
       "  {'rel': 'child',\n",
       "   'href': 'https://cmr.earthdata.nasa.gov/stac/LPCLOUD/collections/ECO_L2_CLOUD.v002',\n",
       "   'type': 'application/json'},\n",
       "  {'rel': 'child',\n",
       "   'href': 'https://cmr.earthdata.nasa.gov/stac/LPCLOUD/collections/ECO_L1B_GEO.v002',\n",
       "   'type': 'application/json'},\n",
       "  {'rel': 'next',\n",
       "   'href': 'https://cmr.earthdata.nasa.gov/stac/LPCLOUD?page=2'}],\n",
       " 'conformsTo': ['https://api.stacspec.org/v1.0.0-beta.1/core',\n",
       "  'https://api.stacspec.org/v1.0.0-beta.1/item-search',\n",
       "  'https://api.stacspec.org/v1.0.0-beta.1/item-search#fields',\n",
       "  'https://api.stacspec.org/v1.0.0-beta.1/item-search#query',\n",
       "  'https://api.stacspec.org/v1.0.0-beta.1/item-search#sort',\n",
       "  'https://api.stacspec.org/v1.0.0-beta.1/item-search#context',\n",
       "  'http://www.opengis.net/spec/ogcapi-features-1/1.0/conf/core',\n",
       "  'http://www.opengis.net/spec/ogcapi-features-1/1.0/conf/oas30',\n",
       "  'http://www.opengis.net/spec/ogcapi-features-1/1.0/conf/geojson']}"
      ]
     },
     "execution_count": 7,
     "metadata": {},
     "output_type": "execute_result"
    }
   ],
   "source": [
    "cat = requests.get(provider_url)\n",
    "cat.json()"
   ]
  },
  {
   "cell_type": "markdown",
   "id": "d67e44c8-d270-4724-8aaf-a6d2f17ea3b7",
   "metadata": {
    "user_expressions": []
   },
   "source": [
    "### List the STAC Collections within the `LPCLOUD` Catalog"
   ]
  },
  {
   "cell_type": "code",
   "execution_count": 8,
   "id": "e639c1de-1fd9-4bf3-ad36-430cdeffd0c7",
   "metadata": {
    "tags": []
   },
   "outputs": [
    {
     "name": "stdout",
     "output_type": "stream",
     "text": [
      "{'ASTGTM_NUMNC.v003': 'https://cmr.earthdata.nasa.gov/stac/LPCLOUD/collections/ASTGTM_NUMNC.v003'}\n",
      "{'ASTGTM_NC.v003': 'https://cmr.earthdata.nasa.gov/stac/LPCLOUD/collections/ASTGTM_NC.v003'}\n",
      "{'ASTGTM.v003': 'https://cmr.earthdata.nasa.gov/stac/LPCLOUD/collections/ASTGTM.v003'}\n",
      "{'WaterBalance_Daily_Historical_GRIDMET.v1.5': 'https://cmr.earthdata.nasa.gov/stac/LPCLOUD/collections/WaterBalance_Daily_Historical_GRIDMET.v1.5'}\n",
      "{'ECO_L2G_CLOUD.v002': 'https://cmr.earthdata.nasa.gov/stac/LPCLOUD/collections/ECO_L2G_CLOUD.v002'}\n",
      "{'ECO_L2G_LSTE.v002': 'https://cmr.earthdata.nasa.gov/stac/LPCLOUD/collections/ECO_L2G_LSTE.v002'}\n",
      "{'ECO_L1CG_RAD.v002': 'https://cmr.earthdata.nasa.gov/stac/LPCLOUD/collections/ECO_L1CG_RAD.v002'}\n",
      "{'ECO_L1B_ATT.v002': 'https://cmr.earthdata.nasa.gov/stac/LPCLOUD/collections/ECO_L1B_ATT.v002'}\n",
      "{'ECO_L2_CLOUD.v002': 'https://cmr.earthdata.nasa.gov/stac/LPCLOUD/collections/ECO_L2_CLOUD.v002'}\n",
      "{'ECO_L1B_GEO.v002': 'https://cmr.earthdata.nasa.gov/stac/LPCLOUD/collections/ECO_L1B_GEO.v002'}\n"
     ]
    }
   ],
   "source": [
    "cols = [{l['href'].split('/')[-1]: l['href']} for l in cat.json() ['links'] if 'child' in l['rel']]\n",
    "for c in cols:\n",
    "    print(c)"
   ]
  },
  {
   "cell_type": "markdown",
   "id": "1bbf6365-71fc-4499-8a14-ce07ae1351b8",
   "metadata": {
    "user_expressions": []
   },
   "source": [
    "**Notice** that only 10 collections are returned here, but the `LPCLOUD` provider has over 100 data products available in Earthdata Cloud. This is because the CMR STAC API returns 10 collections by default. A `limit` parameter can be added to the end of the `LPCLOUD` STAC API endpoint to increase the number of collections returned at one time, but this can sometimes be time consuming. Here we'll loop through each `next` page link to make a seperate request for the next 10 collections from each available page."
   ]
  },
  {
   "cell_type": "code",
   "execution_count": 9,
   "id": "99a517eb-e7fd-44c2-b9fd-e6f35d81e46e",
   "metadata": {},
   "outputs": [
    {
     "name": "stdout",
     "output_type": "stream",
     "text": [
      "Requesting page:\n",
      "2... 3... 4... 5... 6... 7... 8... 9... 10... 11... 12... 13... 14... 15... 16... 17... 18... 19... 20... 21... 22... 23... 24... 25... No additional pages\n"
     ]
    }
   ],
   "source": [
    "try:\n",
    "    print(f\"Requesting page:\")\n",
    "    while nxt_pg := [l for l in cat.json()['links'] if 'next' in l['rel']][0]:\n",
    "        print(f\"{nxt_pg['href'].split('=')[-1]}...\", end = ' ')\n",
    "        cat = requests.get(nxt_pg['href'])\n",
    "        cols.extend([{l['href'].split('/')[-1]: l['href']} for l in cat.json()['links']if 'child' in l['rel']])\n",
    "except:\n",
    "    print('No additional pages')"
   ]
  },
  {
   "cell_type": "markdown",
   "id": "420a85ff-f60d-4bdb-a54d-5564962a60f5",
   "metadata": {
    "user_expressions": []
   },
   "source": [
    "### Print all available STAC Collections within the `LPCLOUD` Catalog"
   ]
  },
  {
   "cell_type": "code",
   "execution_count": 10,
   "id": "d9d1295b-d620-4702-8786-b5025071b5b6",
   "metadata": {},
   "outputs": [
    {
     "name": "stdout",
     "output_type": "stream",
     "text": [
      "LPCLOUD has 241 Collections\n"
     ]
    }
   ],
   "source": [
    "print(f'LPCLOUD has {len(cols)} Collections')"
   ]
  },
  {
   "cell_type": "code",
   "execution_count": 11,
   "id": "5e9cdd05-6350-4790-95e5-38dd050ac3b2",
   "metadata": {},
   "outputs": [
    {
     "name": "stdout",
     "output_type": "stream",
     "text": [
      "{'ASTGTM_NUMNC.v003': 'https://cmr.earthdata.nasa.gov/stac/LPCLOUD/collections/ASTGTM_NUMNC.v003'}\n",
      "{'ASTGTM_NC.v003': 'https://cmr.earthdata.nasa.gov/stac/LPCLOUD/collections/ASTGTM_NC.v003'}\n",
      "{'ASTGTM.v003': 'https://cmr.earthdata.nasa.gov/stac/LPCLOUD/collections/ASTGTM.v003'}\n",
      "{'WaterBalance_Daily_Historical_GRIDMET.v1.5': 'https://cmr.earthdata.nasa.gov/stac/LPCLOUD/collections/WaterBalance_Daily_Historical_GRIDMET.v1.5'}\n",
      "{'ECO_L2G_CLOUD.v002': 'https://cmr.earthdata.nasa.gov/stac/LPCLOUD/collections/ECO_L2G_CLOUD.v002'}\n",
      "{'ECO_L2G_LSTE.v002': 'https://cmr.earthdata.nasa.gov/stac/LPCLOUD/collections/ECO_L2G_LSTE.v002'}\n",
      "{'ECO_L1CG_RAD.v002': 'https://cmr.earthdata.nasa.gov/stac/LPCLOUD/collections/ECO_L1CG_RAD.v002'}\n",
      "{'ECO_L1B_ATT.v002': 'https://cmr.earthdata.nasa.gov/stac/LPCLOUD/collections/ECO_L1B_ATT.v002'}\n",
      "{'ECO_L2_CLOUD.v002': 'https://cmr.earthdata.nasa.gov/stac/LPCLOUD/collections/ECO_L2_CLOUD.v002'}\n",
      "{'ECO_L1B_GEO.v002': 'https://cmr.earthdata.nasa.gov/stac/LPCLOUD/collections/ECO_L1B_GEO.v002'}\n",
      "{'ECO_L2_LSTE.v002': 'https://cmr.earthdata.nasa.gov/stac/LPCLOUD/collections/ECO_L2_LSTE.v002'}\n",
      "{'ECO_L1B_RAD.v002': 'https://cmr.earthdata.nasa.gov/stac/LPCLOUD/collections/ECO_L1B_RAD.v002'}\n",
      "{'ECO_L2T_LSTE.v002': 'https://cmr.earthdata.nasa.gov/stac/LPCLOUD/collections/ECO_L2T_LSTE.v002'}\n",
      "{'ECO_L1CT_RAD.v002': 'https://cmr.earthdata.nasa.gov/stac/LPCLOUD/collections/ECO_L1CT_RAD.v002'}\n",
      "{'EMITL1BRAD.v001': 'https://cmr.earthdata.nasa.gov/stac/LPCLOUD/collections/EMITL1BRAD.v001'}\n",
      "{'EMITL1BATT.v001': 'https://cmr.earthdata.nasa.gov/stac/LPCLOUD/collections/EMITL1BATT.v001'}\n",
      "{'EMITL2ARFL.v001': 'https://cmr.earthdata.nasa.gov/stac/LPCLOUD/collections/EMITL2ARFL.v001'}\n",
      "{'EMITL2BCH4PLM.v001': 'https://cmr.earthdata.nasa.gov/stac/LPCLOUD/collections/EMITL2BCH4PLM.v001'}\n",
      "{'EMITL2BMIN.v001': 'https://cmr.earthdata.nasa.gov/stac/LPCLOUD/collections/EMITL2BMIN.v001'}\n",
      "{'EMITL2BCH4ENH.v001': 'https://cmr.earthdata.nasa.gov/stac/LPCLOUD/collections/EMITL2BCH4ENH.v001'}\n",
      "{'EMITL3ASA.v001': 'https://cmr.earthdata.nasa.gov/stac/LPCLOUD/collections/EMITL3ASA.v001'}\n",
      "{'HLSL30.v2.0': 'https://cmr.earthdata.nasa.gov/stac/LPCLOUD/collections/HLSL30.v2.0'}\n",
      "{'HLSS30.v2.0': 'https://cmr.earthdata.nasa.gov/stac/LPCLOUD/collections/HLSS30.v2.0'}\n",
      "{'MYD17A2H.v061': 'https://cmr.earthdata.nasa.gov/stac/LPCLOUD/collections/MYD17A2H.v061'}\n",
      "{'MYD17A2HGF.v061': 'https://cmr.earthdata.nasa.gov/stac/LPCLOUD/collections/MYD17A2HGF.v061'}\n",
      "{'MYD21.v061': 'https://cmr.earthdata.nasa.gov/stac/LPCLOUD/collections/MYD21.v061'}\n",
      "{'MYD21C2.v061': 'https://cmr.earthdata.nasa.gov/stac/LPCLOUD/collections/MYD21C2.v061'}\n",
      "{'MYD21A2.v061': 'https://cmr.earthdata.nasa.gov/stac/LPCLOUD/collections/MYD21A2.v061'}\n",
      "{'MYD21C1.v061': 'https://cmr.earthdata.nasa.gov/stac/LPCLOUD/collections/MYD21C1.v061'}\n",
      "{'MYD21A1D.v061': 'https://cmr.earthdata.nasa.gov/stac/LPCLOUD/collections/MYD21A1D.v061'}\n",
      "{'MYD21A1N.v061': 'https://cmr.earthdata.nasa.gov/stac/LPCLOUD/collections/MYD21A1N.v061'}\n",
      "{'MYD21C3.v061': 'https://cmr.earthdata.nasa.gov/stac/LPCLOUD/collections/MYD21C3.v061'}\n",
      "{'MYD11_L2.v061': 'https://cmr.earthdata.nasa.gov/stac/LPCLOUD/collections/MYD11_L2.v061'}\n",
      "{'MYD11C2.v061': 'https://cmr.earthdata.nasa.gov/stac/LPCLOUD/collections/MYD11C2.v061'}\n",
      "{'MYD11A2.v061': 'https://cmr.earthdata.nasa.gov/stac/LPCLOUD/collections/MYD11A2.v061'}\n",
      "{'MYD11B2.v061': 'https://cmr.earthdata.nasa.gov/stac/LPCLOUD/collections/MYD11B2.v061'}\n",
      "{'MYD11C1.v061': 'https://cmr.earthdata.nasa.gov/stac/LPCLOUD/collections/MYD11C1.v061'}\n",
      "{'MYD11A1.v061': 'https://cmr.earthdata.nasa.gov/stac/LPCLOUD/collections/MYD11A1.v061'}\n",
      "{'MYD11B1.v061': 'https://cmr.earthdata.nasa.gov/stac/LPCLOUD/collections/MYD11B1.v061'}\n",
      "{'MYD11C3.v061': 'https://cmr.earthdata.nasa.gov/stac/LPCLOUD/collections/MYD11C3.v061'}\n",
      "{'MYD11B3.v061': 'https://cmr.earthdata.nasa.gov/stac/LPCLOUD/collections/MYD11B3.v061'}\n",
      "{'MYD15A2H.v061': 'https://cmr.earthdata.nasa.gov/stac/LPCLOUD/collections/MYD15A2H.v061'}\n",
      "{'MYD16A2.v061': 'https://cmr.earthdata.nasa.gov/stac/LPCLOUD/collections/MYD16A2.v061'}\n",
      "{'MYD16A2GF.v061': 'https://cmr.earthdata.nasa.gov/stac/LPCLOUD/collections/MYD16A2GF.v061'}\n",
      "{'MYD16A3GF.v061': 'https://cmr.earthdata.nasa.gov/stac/LPCLOUD/collections/MYD16A3GF.v061'}\n",
      "{'MYD17A3HGF.v061': 'https://cmr.earthdata.nasa.gov/stac/LPCLOUD/collections/MYD17A3HGF.v061'}\n",
      "{'MYD09Q1.v061': 'https://cmr.earthdata.nasa.gov/stac/LPCLOUD/collections/MYD09Q1.v061'}\n",
      "{'MYD09A1.v061': 'https://cmr.earthdata.nasa.gov/stac/LPCLOUD/collections/MYD09A1.v061'}\n",
      "{'MYD09GA.v061': 'https://cmr.earthdata.nasa.gov/stac/LPCLOUD/collections/MYD09GA.v061'}\n",
      "{'MYD09GQ.v061': 'https://cmr.earthdata.nasa.gov/stac/LPCLOUD/collections/MYD09GQ.v061'}\n",
      "{'MYD09CMG.v061': 'https://cmr.earthdata.nasa.gov/stac/LPCLOUD/collections/MYD09CMG.v061'}\n",
      "{'MYD14.v061': 'https://cmr.earthdata.nasa.gov/stac/LPCLOUD/collections/MYD14.v061'}\n",
      "{'MYD14A2.v061': 'https://cmr.earthdata.nasa.gov/stac/LPCLOUD/collections/MYD14A2.v061'}\n",
      "{'MYD14A1.v061': 'https://cmr.earthdata.nasa.gov/stac/LPCLOUD/collections/MYD14A1.v061'}\n",
      "{'MYD13C1.v061': 'https://cmr.earthdata.nasa.gov/stac/LPCLOUD/collections/MYD13C1.v061'}\n",
      "{'MYD13A2.v061': 'https://cmr.earthdata.nasa.gov/stac/LPCLOUD/collections/MYD13A2.v061'}\n",
      "{'MYD13Q1.v061': 'https://cmr.earthdata.nasa.gov/stac/LPCLOUD/collections/MYD13Q1.v061'}\n",
      "{'MYD13A1.v061': 'https://cmr.earthdata.nasa.gov/stac/LPCLOUD/collections/MYD13A1.v061'}\n",
      "{'MYD13C2.v061': 'https://cmr.earthdata.nasa.gov/stac/LPCLOUD/collections/MYD13C2.v061'}\n",
      "{'MYD13A3.v061': 'https://cmr.earthdata.nasa.gov/stac/LPCLOUD/collections/MYD13A3.v061'}\n",
      "{'MYD28C2.v061': 'https://cmr.earthdata.nasa.gov/stac/LPCLOUD/collections/MYD28C2.v061'}\n",
      "{'MYD28C3.v061': 'https://cmr.earthdata.nasa.gov/stac/LPCLOUD/collections/MYD28C3.v061'}\n",
      "{'MOD17A2H.v061': 'https://cmr.earthdata.nasa.gov/stac/LPCLOUD/collections/MOD17A2H.v061'}\n",
      "{'MOD17A2HGF.v061': 'https://cmr.earthdata.nasa.gov/stac/LPCLOUD/collections/MOD17A2HGF.v061'}\n",
      "{'MOD21.v061': 'https://cmr.earthdata.nasa.gov/stac/LPCLOUD/collections/MOD21.v061'}\n",
      "{'MOD21C2.v061': 'https://cmr.earthdata.nasa.gov/stac/LPCLOUD/collections/MOD21C2.v061'}\n",
      "{'MOD21A2.v061': 'https://cmr.earthdata.nasa.gov/stac/LPCLOUD/collections/MOD21A2.v061'}\n",
      "{'MOD21C1.v061': 'https://cmr.earthdata.nasa.gov/stac/LPCLOUD/collections/MOD21C1.v061'}\n",
      "{'MOD21A1D.v061': 'https://cmr.earthdata.nasa.gov/stac/LPCLOUD/collections/MOD21A1D.v061'}\n",
      "{'MOD21A1N.v061': 'https://cmr.earthdata.nasa.gov/stac/LPCLOUD/collections/MOD21A1N.v061'}\n",
      "{'MOD21C3.v061': 'https://cmr.earthdata.nasa.gov/stac/LPCLOUD/collections/MOD21C3.v061'}\n",
      "{'MOD11_L2.v061': 'https://cmr.earthdata.nasa.gov/stac/LPCLOUD/collections/MOD11_L2.v061'}\n",
      "{'MOD11C2.v061': 'https://cmr.earthdata.nasa.gov/stac/LPCLOUD/collections/MOD11C2.v061'}\n",
      "{'MOD11A2.v061': 'https://cmr.earthdata.nasa.gov/stac/LPCLOUD/collections/MOD11A2.v061'}\n",
      "{'MOD11B2.v061': 'https://cmr.earthdata.nasa.gov/stac/LPCLOUD/collections/MOD11B2.v061'}\n",
      "{'MOD11C1.v061': 'https://cmr.earthdata.nasa.gov/stac/LPCLOUD/collections/MOD11C1.v061'}\n",
      "{'MOD11A1.v061': 'https://cmr.earthdata.nasa.gov/stac/LPCLOUD/collections/MOD11A1.v061'}\n",
      "{'MOD11B1.v061': 'https://cmr.earthdata.nasa.gov/stac/LPCLOUD/collections/MOD11B1.v061'}\n",
      "{'MOD11C3.v061': 'https://cmr.earthdata.nasa.gov/stac/LPCLOUD/collections/MOD11C3.v061'}\n",
      "{'MOD11B3.v061': 'https://cmr.earthdata.nasa.gov/stac/LPCLOUD/collections/MOD11B3.v061'}\n",
      "{'MOD15A2H.v061': 'https://cmr.earthdata.nasa.gov/stac/LPCLOUD/collections/MOD15A2H.v061'}\n",
      "{'MOD16A2.v061': 'https://cmr.earthdata.nasa.gov/stac/LPCLOUD/collections/MOD16A2.v061'}\n",
      "{'MOD16A2GF.v061': 'https://cmr.earthdata.nasa.gov/stac/LPCLOUD/collections/MOD16A2GF.v061'}\n",
      "{'MOD16A3GF.v061': 'https://cmr.earthdata.nasa.gov/stac/LPCLOUD/collections/MOD16A3GF.v061'}\n",
      "{'MOD17A3HGF.v061': 'https://cmr.earthdata.nasa.gov/stac/LPCLOUD/collections/MOD17A3HGF.v061'}\n",
      "{'MOD09Q1.v061': 'https://cmr.earthdata.nasa.gov/stac/LPCLOUD/collections/MOD09Q1.v061'}\n",
      "{'MOD09A1.v061': 'https://cmr.earthdata.nasa.gov/stac/LPCLOUD/collections/MOD09A1.v061'}\n",
      "{'MOD09GA.v061': 'https://cmr.earthdata.nasa.gov/stac/LPCLOUD/collections/MOD09GA.v061'}\n",
      "{'MOD09GQ.v061': 'https://cmr.earthdata.nasa.gov/stac/LPCLOUD/collections/MOD09GQ.v061'}\n",
      "{'MOD09CMG.v061': 'https://cmr.earthdata.nasa.gov/stac/LPCLOUD/collections/MOD09CMG.v061'}\n",
      "{'MOD14.v061': 'https://cmr.earthdata.nasa.gov/stac/LPCLOUD/collections/MOD14.v061'}\n",
      "{'MOD14A2.v061': 'https://cmr.earthdata.nasa.gov/stac/LPCLOUD/collections/MOD14A2.v061'}\n",
      "{'MOD14A1.v061': 'https://cmr.earthdata.nasa.gov/stac/LPCLOUD/collections/MOD14A1.v061'}\n",
      "{'MOD44B.v061': 'https://cmr.earthdata.nasa.gov/stac/LPCLOUD/collections/MOD44B.v061'}\n",
      "{'MOD13C1.v061': 'https://cmr.earthdata.nasa.gov/stac/LPCLOUD/collections/MOD13C1.v061'}\n",
      "{'MOD13A2.v061': 'https://cmr.earthdata.nasa.gov/stac/LPCLOUD/collections/MOD13A2.v061'}\n",
      "{'MOD13Q1.v061': 'https://cmr.earthdata.nasa.gov/stac/LPCLOUD/collections/MOD13Q1.v061'}\n",
      "{'MOD13A1.v061': 'https://cmr.earthdata.nasa.gov/stac/LPCLOUD/collections/MOD13A1.v061'}\n",
      "{'MOD13C2.v061': 'https://cmr.earthdata.nasa.gov/stac/LPCLOUD/collections/MOD13C2.v061'}\n",
      "{'MOD13A3.v061': 'https://cmr.earthdata.nasa.gov/stac/LPCLOUD/collections/MOD13A3.v061'}\n",
      "{'MOD28C2.v061': 'https://cmr.earthdata.nasa.gov/stac/LPCLOUD/collections/MOD28C2.v061'}\n",
      "{'MOD28C3.v061': 'https://cmr.earthdata.nasa.gov/stac/LPCLOUD/collections/MOD28C3.v061'}\n",
      "{'MCD19A2CMG.v061': 'https://cmr.earthdata.nasa.gov/stac/LPCLOUD/collections/MCD19A2CMG.v061'}\n",
      "{'MCD19A3D.v061': 'https://cmr.earthdata.nasa.gov/stac/LPCLOUD/collections/MCD19A3D.v061'}\n",
      "{'MCD43A3.v061': 'https://cmr.earthdata.nasa.gov/stac/LPCLOUD/collections/MCD43A3.v061'}\n",
      "{'MCD43C3.v061': 'https://cmr.earthdata.nasa.gov/stac/LPCLOUD/collections/MCD43C3.v061'}\n",
      "{'MCD43D42.v061': 'https://cmr.earthdata.nasa.gov/stac/LPCLOUD/collections/MCD43D42.v061'}\n",
      "{'MCD43D43.v061': 'https://cmr.earthdata.nasa.gov/stac/LPCLOUD/collections/MCD43D43.v061'}\n",
      "{'MCD43D44.v061': 'https://cmr.earthdata.nasa.gov/stac/LPCLOUD/collections/MCD43D44.v061'}\n",
      "{'MCD43D45.v061': 'https://cmr.earthdata.nasa.gov/stac/LPCLOUD/collections/MCD43D45.v061'}\n",
      "{'MCD43D46.v061': 'https://cmr.earthdata.nasa.gov/stac/LPCLOUD/collections/MCD43D46.v061'}\n",
      "{'MCD43D47.v061': 'https://cmr.earthdata.nasa.gov/stac/LPCLOUD/collections/MCD43D47.v061'}\n",
      "{'MCD43D48.v061': 'https://cmr.earthdata.nasa.gov/stac/LPCLOUD/collections/MCD43D48.v061'}\n",
      "{'MCD43D50.v061': 'https://cmr.earthdata.nasa.gov/stac/LPCLOUD/collections/MCD43D50.v061'}\n",
      "{'MCD43D51.v061': 'https://cmr.earthdata.nasa.gov/stac/LPCLOUD/collections/MCD43D51.v061'}\n",
      "{'MCD43D49.v061': 'https://cmr.earthdata.nasa.gov/stac/LPCLOUD/collections/MCD43D49.v061'}\n",
      "{'MCD43A1.v061': 'https://cmr.earthdata.nasa.gov/stac/LPCLOUD/collections/MCD43A1.v061'}\n",
      "{'MCD43C1.v061': 'https://cmr.earthdata.nasa.gov/stac/LPCLOUD/collections/MCD43C1.v061'}\n",
      "{'MCD43D62.v061': 'https://cmr.earthdata.nasa.gov/stac/LPCLOUD/collections/MCD43D62.v061'}\n",
      "{'MCD43D63.v061': 'https://cmr.earthdata.nasa.gov/stac/LPCLOUD/collections/MCD43D63.v061'}\n",
      "{'MCD43D64.v061': 'https://cmr.earthdata.nasa.gov/stac/LPCLOUD/collections/MCD43D64.v061'}\n",
      "{'MCD43D65.v061': 'https://cmr.earthdata.nasa.gov/stac/LPCLOUD/collections/MCD43D65.v061'}\n",
      "{'MCD43D66.v061': 'https://cmr.earthdata.nasa.gov/stac/LPCLOUD/collections/MCD43D66.v061'}\n",
      "{'MCD43D67.v061': 'https://cmr.earthdata.nasa.gov/stac/LPCLOUD/collections/MCD43D67.v061'}\n",
      "{'MCD43D68.v061': 'https://cmr.earthdata.nasa.gov/stac/LPCLOUD/collections/MCD43D68.v061'}\n",
      "{'MCD43A4.v061': 'https://cmr.earthdata.nasa.gov/stac/LPCLOUD/collections/MCD43A4.v061'}\n",
      "{'MCD43C4.v061': 'https://cmr.earthdata.nasa.gov/stac/LPCLOUD/collections/MCD43C4.v061'}\n",
      "{'MCD43D01.v061': 'https://cmr.earthdata.nasa.gov/stac/LPCLOUD/collections/MCD43D01.v061'}\n",
      "{'MCD43D04.v061': 'https://cmr.earthdata.nasa.gov/stac/LPCLOUD/collections/MCD43D04.v061'}\n",
      "{'MCD43D02.v061': 'https://cmr.earthdata.nasa.gov/stac/LPCLOUD/collections/MCD43D02.v061'}\n",
      "{'MCD43D05.v061': 'https://cmr.earthdata.nasa.gov/stac/LPCLOUD/collections/MCD43D05.v061'}\n",
      "{'MCD43D03.v061': 'https://cmr.earthdata.nasa.gov/stac/LPCLOUD/collections/MCD43D03.v061'}\n",
      "{'MCD43D06.v061': 'https://cmr.earthdata.nasa.gov/stac/LPCLOUD/collections/MCD43D06.v061'}\n",
      "{'MCD43D07.v061': 'https://cmr.earthdata.nasa.gov/stac/LPCLOUD/collections/MCD43D07.v061'}\n",
      "{'MCD43D10.v061': 'https://cmr.earthdata.nasa.gov/stac/LPCLOUD/collections/MCD43D10.v061'}\n",
      "{'MCD43D13.v061': 'https://cmr.earthdata.nasa.gov/stac/LPCLOUD/collections/MCD43D13.v061'}\n",
      "{'MCD43D16.v061': 'https://cmr.earthdata.nasa.gov/stac/LPCLOUD/collections/MCD43D16.v061'}\n",
      "{'MCD43D19.v061': 'https://cmr.earthdata.nasa.gov/stac/LPCLOUD/collections/MCD43D19.v061'}\n",
      "{'MCD43D25.v061': 'https://cmr.earthdata.nasa.gov/stac/LPCLOUD/collections/MCD43D25.v061'}\n",
      "{'MCD43D28.v061': 'https://cmr.earthdata.nasa.gov/stac/LPCLOUD/collections/MCD43D28.v061'}\n",
      "{'MCD43D22.v061': 'https://cmr.earthdata.nasa.gov/stac/LPCLOUD/collections/MCD43D22.v061'}\n",
      "{'MCD43D08.v061': 'https://cmr.earthdata.nasa.gov/stac/LPCLOUD/collections/MCD43D08.v061'}\n",
      "{'MCD43D11.v061': 'https://cmr.earthdata.nasa.gov/stac/LPCLOUD/collections/MCD43D11.v061'}\n",
      "{'MCD43D14.v061': 'https://cmr.earthdata.nasa.gov/stac/LPCLOUD/collections/MCD43D14.v061'}\n",
      "{'MCD43D17.v061': 'https://cmr.earthdata.nasa.gov/stac/LPCLOUD/collections/MCD43D17.v061'}\n",
      "{'MCD43D20.v061': 'https://cmr.earthdata.nasa.gov/stac/LPCLOUD/collections/MCD43D20.v061'}\n",
      "{'MCD43D26.v061': 'https://cmr.earthdata.nasa.gov/stac/LPCLOUD/collections/MCD43D26.v061'}\n",
      "{'MCD43D29.v061': 'https://cmr.earthdata.nasa.gov/stac/LPCLOUD/collections/MCD43D29.v061'}\n",
      "{'MCD43D23.v061': 'https://cmr.earthdata.nasa.gov/stac/LPCLOUD/collections/MCD43D23.v061'}\n",
      "{'MCD43D09.v061': 'https://cmr.earthdata.nasa.gov/stac/LPCLOUD/collections/MCD43D09.v061'}\n",
      "{'MCD43D12.v061': 'https://cmr.earthdata.nasa.gov/stac/LPCLOUD/collections/MCD43D12.v061'}\n",
      "{'MCD43D15.v061': 'https://cmr.earthdata.nasa.gov/stac/LPCLOUD/collections/MCD43D15.v061'}\n",
      "{'MCD43D18.v061': 'https://cmr.earthdata.nasa.gov/stac/LPCLOUD/collections/MCD43D18.v061'}\n",
      "{'MCD43D21.v061': 'https://cmr.earthdata.nasa.gov/stac/LPCLOUD/collections/MCD43D21.v061'}\n",
      "{'MCD43D27.v061': 'https://cmr.earthdata.nasa.gov/stac/LPCLOUD/collections/MCD43D27.v061'}\n",
      "{'MCD43D30.v061': 'https://cmr.earthdata.nasa.gov/stac/LPCLOUD/collections/MCD43D30.v061'}\n",
      "{'MCD43D24.v061': 'https://cmr.earthdata.nasa.gov/stac/LPCLOUD/collections/MCD43D24.v061'}\n",
      "{'MCD43D31.v061': 'https://cmr.earthdata.nasa.gov/stac/LPCLOUD/collections/MCD43D31.v061'}\n",
      "{'MCD43D32.v061': 'https://cmr.earthdata.nasa.gov/stac/LPCLOUD/collections/MCD43D32.v061'}\n",
      "{'MCD43D40.v061': 'https://cmr.earthdata.nasa.gov/stac/LPCLOUD/collections/MCD43D40.v061'}\n",
      "{'MCD43D41.v061': 'https://cmr.earthdata.nasa.gov/stac/LPCLOUD/collections/MCD43D41.v061'}\n",
      "{'MCD43D33.v061': 'https://cmr.earthdata.nasa.gov/stac/LPCLOUD/collections/MCD43D33.v061'}\n",
      "{'MCD43D34.v061': 'https://cmr.earthdata.nasa.gov/stac/LPCLOUD/collections/MCD43D34.v061'}\n",
      "{'MCD43D35.v061': 'https://cmr.earthdata.nasa.gov/stac/LPCLOUD/collections/MCD43D35.v061'}\n",
      "{'MCD43D36.v061': 'https://cmr.earthdata.nasa.gov/stac/LPCLOUD/collections/MCD43D36.v061'}\n",
      "{'MCD43D37.v061': 'https://cmr.earthdata.nasa.gov/stac/LPCLOUD/collections/MCD43D37.v061'}\n",
      "{'MCD43D38.v061': 'https://cmr.earthdata.nasa.gov/stac/LPCLOUD/collections/MCD43D38.v061'}\n",
      "{'MCD43D39.v061': 'https://cmr.earthdata.nasa.gov/stac/LPCLOUD/collections/MCD43D39.v061'}\n",
      "{'MCD43A2.v061': 'https://cmr.earthdata.nasa.gov/stac/LPCLOUD/collections/MCD43A2.v061'}\n",
      "{'MCD43C2.v061': 'https://cmr.earthdata.nasa.gov/stac/LPCLOUD/collections/MCD43C2.v061'}\n",
      "{'MCD43D52.v061': 'https://cmr.earthdata.nasa.gov/stac/LPCLOUD/collections/MCD43D52.v061'}\n",
      "{'MCD43D53.v061': 'https://cmr.earthdata.nasa.gov/stac/LPCLOUD/collections/MCD43D53.v061'}\n",
      "{'MCD43D54.v061': 'https://cmr.earthdata.nasa.gov/stac/LPCLOUD/collections/MCD43D54.v061'}\n",
      "{'MCD43D55.v061': 'https://cmr.earthdata.nasa.gov/stac/LPCLOUD/collections/MCD43D55.v061'}\n",
      "{'MCD43D56.v061': 'https://cmr.earthdata.nasa.gov/stac/LPCLOUD/collections/MCD43D56.v061'}\n",
      "{'MCD43D57.v061': 'https://cmr.earthdata.nasa.gov/stac/LPCLOUD/collections/MCD43D57.v061'}\n",
      "{'MCD43D58.v061': 'https://cmr.earthdata.nasa.gov/stac/LPCLOUD/collections/MCD43D58.v061'}\n",
      "{'MCD43D60.v061': 'https://cmr.earthdata.nasa.gov/stac/LPCLOUD/collections/MCD43D60.v061'}\n",
      "{'MCD43D61.v061': 'https://cmr.earthdata.nasa.gov/stac/LPCLOUD/collections/MCD43D61.v061'}\n",
      "{'MCD43D59.v061': 'https://cmr.earthdata.nasa.gov/stac/LPCLOUD/collections/MCD43D59.v061'}\n",
      "{'MCD64A1.v061': 'https://cmr.earthdata.nasa.gov/stac/LPCLOUD/collections/MCD64A1.v061'}\n",
      "{'MCD18C1.v061': 'https://cmr.earthdata.nasa.gov/stac/LPCLOUD/collections/MCD18C1.v061'}\n",
      "{'MCD19A2.v061': 'https://cmr.earthdata.nasa.gov/stac/LPCLOUD/collections/MCD19A2.v061'}\n",
      "{'MCD12Q2.v061': 'https://cmr.earthdata.nasa.gov/stac/LPCLOUD/collections/MCD12Q2.v061'}\n",
      "{'MCD12C1.v061': 'https://cmr.earthdata.nasa.gov/stac/LPCLOUD/collections/MCD12C1.v061'}\n",
      "{'MCD12Q1.v061': 'https://cmr.earthdata.nasa.gov/stac/LPCLOUD/collections/MCD12Q1.v061'}\n",
      "{'MCD19A1.v061': 'https://cmr.earthdata.nasa.gov/stac/LPCLOUD/collections/MCD19A1.v061'}\n",
      "{'MCD15A3H.v061': 'https://cmr.earthdata.nasa.gov/stac/LPCLOUD/collections/MCD15A3H.v061'}\n",
      "{'MCD15A2H.v061': 'https://cmr.earthdata.nasa.gov/stac/LPCLOUD/collections/MCD15A2H.v061'}\n",
      "{'MCD18C2.v061': 'https://cmr.earthdata.nasa.gov/stac/LPCLOUD/collections/MCD18C2.v061'}\n",
      "{'MCD18A2.v061': 'https://cmr.earthdata.nasa.gov/stac/LPCLOUD/collections/MCD18A2.v061'}\n",
      "{'MCD18A1.v061': 'https://cmr.earthdata.nasa.gov/stac/LPCLOUD/collections/MCD18A1.v061'}\n",
      "{'MCD19A1CMGL.v061': 'https://cmr.earthdata.nasa.gov/stac/LPCLOUD/collections/MCD19A1CMGL.v061'}\n",
      "{'MCD19A1CMGO.v061': 'https://cmr.earthdata.nasa.gov/stac/LPCLOUD/collections/MCD19A1CMGO.v061'}\n",
      "{'MCD19A3CMG.v061': 'https://cmr.earthdata.nasa.gov/stac/LPCLOUD/collections/MCD19A3CMG.v061'}\n",
      "{'WaterBalance_Monthly_Historical_GRIDMET.v1.5': 'https://cmr.earthdata.nasa.gov/stac/LPCLOUD/collections/WaterBalance_Monthly_Historical_GRIDMET.v1.5'}\n",
      "{'OPERA_L3_DIST-ALERT-HLS_PROVISIONAL_V0.v0': 'https://cmr.earthdata.nasa.gov/stac/LPCLOUD/collections/OPERA_L3_DIST-ALERT-HLS_PROVISIONAL_V0.v0'}\n",
      "{'VJ121.v002': 'https://cmr.earthdata.nasa.gov/stac/LPCLOUD/collections/VJ121.v002'}\n",
      "{'VJ121C2.v002': 'https://cmr.earthdata.nasa.gov/stac/LPCLOUD/collections/VJ121C2.v002'}\n",
      "{'VJ121A2.v002': 'https://cmr.earthdata.nasa.gov/stac/LPCLOUD/collections/VJ121A2.v002'}\n",
      "{'VJ121C1.v002': 'https://cmr.earthdata.nasa.gov/stac/LPCLOUD/collections/VJ121C1.v002'}\n",
      "{'VJ121A1D.v002': 'https://cmr.earthdata.nasa.gov/stac/LPCLOUD/collections/VJ121A1D.v002'}\n",
      "{'VJ121A1N.v002': 'https://cmr.earthdata.nasa.gov/stac/LPCLOUD/collections/VJ121A1N.v002'}\n",
      "{'VJ121C3.v002': 'https://cmr.earthdata.nasa.gov/stac/LPCLOUD/collections/VJ121C3.v002'}\n",
      "{'VJ115A2H.v002': 'https://cmr.earthdata.nasa.gov/stac/LPCLOUD/collections/VJ115A2H.v002'}\n",
      "{'VJ103MODLL.v021': 'https://cmr.earthdata.nasa.gov/stac/LPCLOUD/collections/VJ103MODLL.v021'}\n",
      "{'VJ109A1.v002': 'https://cmr.earthdata.nasa.gov/stac/LPCLOUD/collections/VJ109A1.v002'}\n",
      "{'VJ109H1.v002': 'https://cmr.earthdata.nasa.gov/stac/LPCLOUD/collections/VJ109H1.v002'}\n",
      "{'VJ109GA.v002': 'https://cmr.earthdata.nasa.gov/stac/LPCLOUD/collections/VJ109GA.v002'}\n",
      "{'VJ109CMG.v002': 'https://cmr.earthdata.nasa.gov/stac/LPCLOUD/collections/VJ109CMG.v002'}\n",
      "{'VJ114A1.v002': 'https://cmr.earthdata.nasa.gov/stac/LPCLOUD/collections/VJ114A1.v002'}\n",
      "{'VJ114.v002': 'https://cmr.earthdata.nasa.gov/stac/LPCLOUD/collections/VJ114.v002'}\n",
      "{'VJ113C1.v002': 'https://cmr.earthdata.nasa.gov/stac/LPCLOUD/collections/VJ113C1.v002'}\n",
      "{'VJ113A2.v002': 'https://cmr.earthdata.nasa.gov/stac/LPCLOUD/collections/VJ113A2.v002'}\n",
      "{'VJ113A1.v002': 'https://cmr.earthdata.nasa.gov/stac/LPCLOUD/collections/VJ113A1.v002'}\n",
      "{'VJ113C2.v002': 'https://cmr.earthdata.nasa.gov/stac/LPCLOUD/collections/VJ113C2.v002'}\n",
      "{'VJ113A3.v002': 'https://cmr.earthdata.nasa.gov/stac/LPCLOUD/collections/VJ113A3.v002'}\n",
      "{'VJ128C2.v002': 'https://cmr.earthdata.nasa.gov/stac/LPCLOUD/collections/VJ128C2.v002'}\n",
      "{'VJ128C3.v002': 'https://cmr.earthdata.nasa.gov/stac/LPCLOUD/collections/VJ128C3.v002'}\n",
      "{'VNP21.v002': 'https://cmr.earthdata.nasa.gov/stac/LPCLOUD/collections/VNP21.v002'}\n",
      "{'VNP21C2.v002': 'https://cmr.earthdata.nasa.gov/stac/LPCLOUD/collections/VNP21C2.v002'}\n",
      "{'VNP21A2.v002': 'https://cmr.earthdata.nasa.gov/stac/LPCLOUD/collections/VNP21A2.v002'}\n",
      "{'VNP21C1.v002': 'https://cmr.earthdata.nasa.gov/stac/LPCLOUD/collections/VNP21C1.v002'}\n",
      "{'VNP21A1D.v002': 'https://cmr.earthdata.nasa.gov/stac/LPCLOUD/collections/VNP21A1D.v002'}\n",
      "{'VNP21A1N.v002': 'https://cmr.earthdata.nasa.gov/stac/LPCLOUD/collections/VNP21A1N.v002'}\n",
      "{'VNP21C3.v002': 'https://cmr.earthdata.nasa.gov/stac/LPCLOUD/collections/VNP21C3.v002'}\n",
      "{'VNP15A2H.v002': 'https://cmr.earthdata.nasa.gov/stac/LPCLOUD/collections/VNP15A2H.v002'}\n",
      "{'VNP03MODLL.v002': 'https://cmr.earthdata.nasa.gov/stac/LPCLOUD/collections/VNP03MODLL.v002'}\n",
      "{'VNP09A1.v002': 'https://cmr.earthdata.nasa.gov/stac/LPCLOUD/collections/VNP09A1.v002'}\n",
      "{'VNP09H1.v002': 'https://cmr.earthdata.nasa.gov/stac/LPCLOUD/collections/VNP09H1.v002'}\n",
      "{'VNP09GA.v002': 'https://cmr.earthdata.nasa.gov/stac/LPCLOUD/collections/VNP09GA.v002'}\n",
      "{'VNP09CMG.v002': 'https://cmr.earthdata.nasa.gov/stac/LPCLOUD/collections/VNP09CMG.v002'}\n",
      "{'VNP14A1.v002': 'https://cmr.earthdata.nasa.gov/stac/LPCLOUD/collections/VNP14A1.v002'}\n",
      "{'VNP14.v002': 'https://cmr.earthdata.nasa.gov/stac/LPCLOUD/collections/VNP14.v002'}\n",
      "{'VNP13C1.v002': 'https://cmr.earthdata.nasa.gov/stac/LPCLOUD/collections/VNP13C1.v002'}\n",
      "{'VNP13A2.v002': 'https://cmr.earthdata.nasa.gov/stac/LPCLOUD/collections/VNP13A2.v002'}\n",
      "{'VNP13A1.v002': 'https://cmr.earthdata.nasa.gov/stac/LPCLOUD/collections/VNP13A1.v002'}\n",
      "{'VNP13C2.v002': 'https://cmr.earthdata.nasa.gov/stac/LPCLOUD/collections/VNP13C2.v002'}\n",
      "{'VNP13A3.v002': 'https://cmr.earthdata.nasa.gov/stac/LPCLOUD/collections/VNP13A3.v002'}\n",
      "{'VNP28C2.v002': 'https://cmr.earthdata.nasa.gov/stac/LPCLOUD/collections/VNP28C2.v002'}\n",
      "{'VNP28C3.v002': 'https://cmr.earthdata.nasa.gov/stac/LPCLOUD/collections/VNP28C3.v002'}\n"
     ]
    }
   ],
   "source": [
    "for c in cols:\n",
    "    print(c)"
   ]
  },
  {
   "cell_type": "markdown",
   "id": "c8cfa860-010f-4c3b-8689-6544db7fd063",
   "metadata": {
    "user_expressions": []
   },
   "source": [
    "### Get information about an individual Collection\n",
    "\n",
    "Below we'll specify a STAC Collection, `HLSL30.v2.0`, and request the STAC metadata"
   ]
  },
  {
   "cell_type": "code",
   "execution_count": 12,
   "id": "9806342a-5959-492a-9c12-1b48315a91dc",
   "metadata": {},
   "outputs": [],
   "source": [
    "collection = 'HLSL30.v2.0'"
   ]
  },
  {
   "cell_type": "code",
   "execution_count": 13,
   "id": "fe4630ed-c622-4463-8431-ae363c4eb0aa",
   "metadata": {},
   "outputs": [
    {
     "data": {
      "text/plain": [
       "{'HLSL30.v2.0': 'https://cmr.earthdata.nasa.gov/stac/LPCLOUD/collections/HLSL30.v2.0'}"
      ]
     },
     "execution_count": 13,
     "metadata": {},
     "output_type": "execute_result"
    }
   ],
   "source": [
    "collection_link = list(filter(lambda c: collection == list(c.keys())[0], cols))[0]\n",
    "collection_link"
   ]
  },
  {
   "cell_type": "code",
   "execution_count": 14,
   "id": "e58c4b49-72d2-42d1-8b6d-c879deaa7435",
   "metadata": {},
   "outputs": [
    {
     "data": {
      "text/plain": [
       "{'id': 'HLSL30.v2.0',\n",
       " 'stac_version': '1.0.0',\n",
       " 'license': 'not-provided',\n",
       " 'title': 'HLS Landsat Operational Land Imager Surface Reflectance and TOA Brightness Daily Global 30m v2.0',\n",
       " 'type': 'Collection',\n",
       " 'description': 'The Harmonized Landsat Sentinel-2 (HLS) project provides consistent surface reflectance (SR) and top of atmosphere (TOA) brightness data from a virtual constellation of satellite sensors. The Operational Land Imager (OLI) is housed aboard the joint NASA/USGS Landsat 8 and Landsat 9 satellites, while the Multi-Spectral Instrument (MSI) is mounted aboard Europe’s Copernicus Sentinel-2A and Sentinel-2B satellites. The combined measurement enables global observations of the land every 2–3 days at 30-meter (m) spatial resolution. The HLS project uses a set of algorithms to obtain seamless products from OLI and MSI that include atmospheric correction, cloud and cloud-shadow masking, spatial co-registration and common gridding, illumination and view angle normalization, and spectral bandpass adjustment.\\r\\n\\r\\nThe HLSL30 product provides 30-m Nadir Bidirectional Reflectance Distribution Function (BRDF)-Adjusted Reflectance (NBAR) and is derived from Landsat 8/9 OLI data products. The HLSS30 and HLSL30 products are gridded to the same resolution and Military Grid Reference System (MGRS)(https://hls.gsfc.nasa.gov/products-description/tiling-system/) tiling system, and thus are “stackable” for time series analysis.\\r\\n\\r\\nThe HLSL30 product is provided in Cloud Optimized GeoTIFF (COG) format, and each band is distributed as a separate file. There are 11 bands included in the HLSL30 product along with one quality assessment (QA) band and four angle bands. See the User Guide for a more detailed description of the individual bands provided in the HLSL30 product.',\n",
       " 'links': [{'rel': 'self',\n",
       "   'href': 'https://cmr.earthdata.nasa.gov/stac/LPCLOUD/collections/HLSL30.v2.0',\n",
       "   'title': 'Info about this collection',\n",
       "   'type': 'application/json'},\n",
       "  {'rel': 'root',\n",
       "   'href': 'https://cmr.earthdata.nasa.gov/stac',\n",
       "   'title': 'Root catalog',\n",
       "   'type': 'application/json'},\n",
       "  {'rel': 'parent',\n",
       "   'href': 'https://cmr.earthdata.nasa.gov/stac/LPCLOUD',\n",
       "   'title': 'Parent catalog',\n",
       "   'type': 'application/json'},\n",
       "  {'rel': 'items',\n",
       "   'href': 'https://cmr.earthdata.nasa.gov/stac/LPCLOUD/collections/HLSL30.v2.0/items',\n",
       "   'title': 'Granules in this collection',\n",
       "   'type': 'application/json'},\n",
       "  {'rel': 'about',\n",
       "   'href': 'https://cmr.earthdata.nasa.gov/search/concepts/C2021957657-LPCLOUD.html',\n",
       "   'title': 'HTML metadata for collection',\n",
       "   'type': 'text/html'},\n",
       "  {'rel': 'via',\n",
       "   'href': 'https://cmr.earthdata.nasa.gov/search/concepts/C2021957657-LPCLOUD.json',\n",
       "   'title': 'CMR JSON metadata for collection',\n",
       "   'type': 'application/json'},\n",
       "  {'rel': 'child',\n",
       "   'href': 'https://cmr.earthdata.nasa.gov/stac/LPCLOUD/collections/HLSL30.v2.0/2013',\n",
       "   'title': '2013 catalog',\n",
       "   'type': 'application/json'},\n",
       "  {'rel': 'child',\n",
       "   'href': 'https://cmr.earthdata.nasa.gov/stac/LPCLOUD/collections/HLSL30.v2.0/2014',\n",
       "   'title': '2014 catalog',\n",
       "   'type': 'application/json'},\n",
       "  {'rel': 'child',\n",
       "   'href': 'https://cmr.earthdata.nasa.gov/stac/LPCLOUD/collections/HLSL30.v2.0/2015',\n",
       "   'title': '2015 catalog',\n",
       "   'type': 'application/json'},\n",
       "  {'rel': 'child',\n",
       "   'href': 'https://cmr.earthdata.nasa.gov/stac/LPCLOUD/collections/HLSL30.v2.0/2016',\n",
       "   'title': '2016 catalog',\n",
       "   'type': 'application/json'},\n",
       "  {'rel': 'child',\n",
       "   'href': 'https://cmr.earthdata.nasa.gov/stac/LPCLOUD/collections/HLSL30.v2.0/2017',\n",
       "   'title': '2017 catalog',\n",
       "   'type': 'application/json'},\n",
       "  {'rel': 'child',\n",
       "   'href': 'https://cmr.earthdata.nasa.gov/stac/LPCLOUD/collections/HLSL30.v2.0/2018',\n",
       "   'title': '2018 catalog',\n",
       "   'type': 'application/json'},\n",
       "  {'rel': 'child',\n",
       "   'href': 'https://cmr.earthdata.nasa.gov/stac/LPCLOUD/collections/HLSL30.v2.0/2019',\n",
       "   'title': '2019 catalog',\n",
       "   'type': 'application/json'},\n",
       "  {'rel': 'child',\n",
       "   'href': 'https://cmr.earthdata.nasa.gov/stac/LPCLOUD/collections/HLSL30.v2.0/2020',\n",
       "   'title': '2020 catalog',\n",
       "   'type': 'application/json'},\n",
       "  {'rel': 'child',\n",
       "   'href': 'https://cmr.earthdata.nasa.gov/stac/LPCLOUD/collections/HLSL30.v2.0/2021',\n",
       "   'title': '2021 catalog',\n",
       "   'type': 'application/json'},\n",
       "  {'rel': 'child',\n",
       "   'href': 'https://cmr.earthdata.nasa.gov/stac/LPCLOUD/collections/HLSL30.v2.0/2022',\n",
       "   'title': '2022 catalog',\n",
       "   'type': 'application/json'},\n",
       "  {'rel': 'child',\n",
       "   'href': 'https://cmr.earthdata.nasa.gov/stac/LPCLOUD/collections/HLSL30.v2.0/2023',\n",
       "   'title': '2023 catalog',\n",
       "   'type': 'application/json'},\n",
       "  {'rel': 'child',\n",
       "   'href': 'https://cmr.earthdata.nasa.gov/stac/LPCLOUD/collections/HLSL30.v2.0/2024',\n",
       "   'title': '2024 catalog',\n",
       "   'type': 'application/json'}],\n",
       " 'extent': {'spatial': {'bbox': [[-180, -90, 180, 90]]},\n",
       "  'temporal': {'interval': [['2013-04-11T00:00:00.000Z', None]]}}}"
      ]
     },
     "execution_count": 14,
     "metadata": {},
     "output_type": "execute_result"
    }
   ],
   "source": [
    "requests.get(collection_link[collection]).json()"
   ]
  },
  {
   "cell_type": "markdown",
   "id": "packed-tournament",
   "metadata": {
    "user_expressions": []
   },
   "source": [
    "### Set up query parameters to submit to the CMR-STAC API\n",
    "\n",
    "For this next sections we'll use a Python package call `pystac_client` to submit a spatiotemporal querie for data assets across multiple Collections. We will define our area of interest using the geojson file from the previous exercise, while also specifying the data collections and time range of needed for our example."
   ]
  },
  {
   "cell_type": "code",
   "execution_count": 15,
   "id": "fitted-mixture",
   "metadata": {},
   "outputs": [
    {
     "data": {
      "text/html": [
       "<div>\n",
       "<style scoped>\n",
       "    .dataframe tbody tr th:only-of-type {\n",
       "        vertical-align: middle;\n",
       "    }\n",
       "\n",
       "    .dataframe tbody tr th {\n",
       "        vertical-align: top;\n",
       "    }\n",
       "\n",
       "    .dataframe thead th {\n",
       "        text-align: right;\n",
       "    }\n",
       "</style>\n",
       "<table border=\"1\" class=\"dataframe\">\n",
       "  <thead>\n",
       "    <tr style=\"text-align: right;\">\n",
       "      <th></th>\n",
       "      <th>geometry</th>\n",
       "    </tr>\n",
       "  </thead>\n",
       "  <tbody>\n",
       "    <tr>\n",
       "      <th>0</th>\n",
       "      <td>POLYGON ((-101.67272 41.04754, -101.65345 41.0...</td>\n",
       "    </tr>\n",
       "  </tbody>\n",
       "</table>\n",
       "</div>"
      ],
      "text/plain": [
       "                                            geometry\n",
       "0  POLYGON ((-101.67272 41.04754, -101.65345 41.0..."
      ]
     },
     "execution_count": 15,
     "metadata": {},
     "output_type": "execute_result"
    }
   ],
   "source": [
    "field = geopandas.read_file('../data/ne_w_agfields.geojson')\n",
    "field"
   ]
  },
  {
   "cell_type": "code",
   "execution_count": 16,
   "id": "conservative-corpus",
   "metadata": {},
   "outputs": [
    {
     "data": {
      "image/svg+xml": [
       "<svg xmlns=\"http://www.w3.org/2000/svg\" xmlns:xlink=\"http://www.w3.org/1999/xlink\" width=\"100.0\" height=\"100.0\" viewBox=\"-101.67348690032959 41.046773043461066 0.020810508728033028 0.016136626688734168\" preserveAspectRatio=\"xMinYMin meet\"><g transform=\"matrix(1,0,0,-1,0,82.10968271361087)\"><path fill-rule=\"evenodd\" fill=\"#66cc99\" stroke=\"#555555\" stroke-width=\"0.00041621017456066055\" opacity=\"0.6\" d=\"M -101.67271614074707,41.04754380304359 L -101.65344715118408,41.04754380304359 L -101.65344715118408,41.06213891056728 L -101.67271614074707,41.06213891056728 L -101.67271614074707,41.04754380304359 z\" /></g></svg>"
      ],
      "text/plain": [
       "<POLYGON ((-101.673 41.048, -101.653 41.048, -101.653 41.062, -101.673 41.06...>"
      ]
     },
     "execution_count": 16,
     "metadata": {},
     "output_type": "execute_result"
    }
   ],
   "source": [
    "fieldShape = field['geometry'][0]\n",
    "fieldShape"
   ]
  },
  {
   "cell_type": "code",
   "execution_count": 17,
   "id": "antique-event",
   "metadata": {},
   "outputs": [
    {
     "data": {},
     "metadata": {},
     "output_type": "display_data"
    },
    {
     "data": {
      "application/vnd.holoviews_exec.v0+json": "",
      "text/html": [
       "<div id='p1005'>\n",
       "  <div id=\"dbfb7b5e-46e3-4e95-a5e1-b224e6bd9414\" data-root-id=\"p1005\" style=\"display: contents;\"></div>\n",
       "</div>\n",
       "<script type=\"application/javascript\">(function(root) {\n",
       "  var docs_json = {\"910ea70a-766a-4cef-9469-c605c4499716\":{\"version\":\"3.2.2\",\"title\":\"Bokeh Application\",\"roots\":[{\"type\":\"object\",\"name\":\"Row\",\"id\":\"p1005\",\"attributes\":{\"name\":\"Row02991\",\"tags\":[\"embedded\"],\"stylesheets\":[\"\\n:host(.pn-loading.pn-arc):before, .pn-loading.pn-arc:before {\\n  background-image: url(\\\"data:image/svg+xml;base64,PHN2ZyB4bWxucz0iaHR0cDovL3d3dy53My5vcmcvMjAwMC9zdmciIHN0eWxlPSJtYXJnaW46IGF1dG87IGJhY2tncm91bmQ6IG5vbmU7IGRpc3BsYXk6IGJsb2NrOyBzaGFwZS1yZW5kZXJpbmc6IGF1dG87IiB2aWV3Qm94PSIwIDAgMTAwIDEwMCIgcHJlc2VydmVBc3BlY3RSYXRpbz0ieE1pZFlNaWQiPiAgPGNpcmNsZSBjeD0iNTAiIGN5PSI1MCIgZmlsbD0ibm9uZSIgc3Ryb2tlPSIjYzNjM2MzIiBzdHJva2Utd2lkdGg9IjEwIiByPSIzNSIgc3Ryb2tlLWRhc2hhcnJheT0iMTY0LjkzMzYxNDMxMzQ2NDE1IDU2Ljk3Nzg3MTQzNzgyMTM4Ij4gICAgPGFuaW1hdGVUcmFuc2Zvcm0gYXR0cmlidXRlTmFtZT0idHJhbnNmb3JtIiB0eXBlPSJyb3RhdGUiIHJlcGVhdENvdW50PSJpbmRlZmluaXRlIiBkdXI9IjFzIiB2YWx1ZXM9IjAgNTAgNTA7MzYwIDUwIDUwIiBrZXlUaW1lcz0iMDsxIj48L2FuaW1hdGVUcmFuc2Zvcm0+ICA8L2NpcmNsZT48L3N2Zz4=\\\");\\n  background-size: auto calc(min(50%, 400px));\\n}\",{\"type\":\"object\",\"name\":\"ImportedStyleSheet\",\"id\":\"p1008\",\"attributes\":{\"url\":\"https://cdn.holoviz.org/panel/1.2.3/dist/css/loading.css\"}},{\"type\":\"object\",\"name\":\"ImportedStyleSheet\",\"id\":\"p1080\",\"attributes\":{\"url\":\"https://cdn.holoviz.org/panel/1.2.3/dist/css/listpanel.css\"}},{\"type\":\"object\",\"name\":\"ImportedStyleSheet\",\"id\":\"p1006\",\"attributes\":{\"url\":\"https://cdn.holoviz.org/panel/1.2.3/dist/bundled/theme/default.css\"}},{\"type\":\"object\",\"name\":\"ImportedStyleSheet\",\"id\":\"p1007\",\"attributes\":{\"url\":\"https://cdn.holoviz.org/panel/1.2.3/dist/bundled/theme/native.css\"}}],\"min_width\":650,\"margin\":0,\"sizing_mode\":\"stretch_width\",\"align\":\"start\",\"children\":[{\"type\":\"object\",\"name\":\"Spacer\",\"id\":\"p1009\",\"attributes\":{\"name\":\"HSpacer03001\",\"stylesheets\":[\"\\n:host(.pn-loading.pn-arc):before, .pn-loading.pn-arc:before {\\n  background-image: url(\\\"data:image/svg+xml;base64,PHN2ZyB4bWxucz0iaHR0cDovL3d3dy53My5vcmcvMjAwMC9zdmciIHN0eWxlPSJtYXJnaW46IGF1dG87IGJhY2tncm91bmQ6IG5vbmU7IGRpc3BsYXk6IGJsb2NrOyBzaGFwZS1yZW5kZXJpbmc6IGF1dG87IiB2aWV3Qm94PSIwIDAgMTAwIDEwMCIgcHJlc2VydmVBc3BlY3RSYXRpbz0ieE1pZFlNaWQiPiAgPGNpcmNsZSBjeD0iNTAiIGN5PSI1MCIgZmlsbD0ibm9uZSIgc3Ryb2tlPSIjYzNjM2MzIiBzdHJva2Utd2lkdGg9IjEwIiByPSIzNSIgc3Ryb2tlLWRhc2hhcnJheT0iMTY0LjkzMzYxNDMxMzQ2NDE1IDU2Ljk3Nzg3MTQzNzgyMTM4Ij4gICAgPGFuaW1hdGVUcmFuc2Zvcm0gYXR0cmlidXRlTmFtZT0idHJhbnNmb3JtIiB0eXBlPSJyb3RhdGUiIHJlcGVhdENvdW50PSJpbmRlZmluaXRlIiBkdXI9IjFzIiB2YWx1ZXM9IjAgNTAgNTA7MzYwIDUwIDUwIiBrZXlUaW1lcz0iMDsxIj48L2FuaW1hdGVUcmFuc2Zvcm0+ICA8L2NpcmNsZT48L3N2Zz4=\\\");\\n  background-size: auto calc(min(50%, 400px));\\n}\",{\"id\":\"p1008\"},{\"id\":\"p1006\"},{\"id\":\"p1007\"}],\"margin\":0,\"sizing_mode\":\"stretch_width\",\"align\":\"start\"}},{\"type\":\"object\",\"name\":\"Figure\",\"id\":\"p1029\",\"attributes\":{\"width\":650,\"height\":500,\"margin\":[5,10],\"sizing_mode\":\"fixed\",\"align\":\"start\",\"x_range\":{\"type\":\"object\",\"name\":\"Range1d\",\"id\":\"p1019\",\"attributes\":{\"tags\":[[[\"Longitude\",\"Longitude\",null]],[]],\"start\":-11318319.860996585,\"end\":-11315845.10161127,\"reset_start\":-11318319.860996585,\"reset_end\":-11315845.10161127,\"min_interval\":5}},\"y_range\":{\"type\":\"object\",\"name\":\"Range1d\",\"id\":\"p1020\",\"attributes\":{\"tags\":[[[\"Latitude\",\"Latitude\",null]],{\"type\":\"map\",\"entries\":[[\"invert_yaxis\",false],[\"autorange\",false]]}],\"start\":5019141.615460167,\"end\":5021726.743647505,\"reset_start\":5019141.615460167,\"reset_end\":5021726.743647505,\"min_interval\":5}},\"x_scale\":{\"type\":\"object\",\"name\":\"LinearScale\",\"id\":\"p1039\"},\"y_scale\":{\"type\":\"object\",\"name\":\"LinearScale\",\"id\":\"p1040\"},\"title\":{\"type\":\"object\",\"name\":\"Title\",\"id\":\"p1032\",\"attributes\":{\"text_color\":\"black\",\"text_font_size\":\"12pt\"}},\"renderers\":[{\"type\":\"object\",\"name\":\"TileRenderer\",\"id\":\"p1062\",\"attributes\":{\"level\":\"underlay\",\"tile_source\":{\"type\":\"object\",\"name\":\"WMTSTileSource\",\"id\":\"p1058\",\"attributes\":{\"url\":\"https://server.arcgisonline.com/ArcGIS/rest/services/World_Imagery/MapServer/tile/{Z}/{Y}/{X}.jpg\",\"attribution\":\"&copy; <a href=\\\"http://downloads.esri.com/ArcGISOnline/docs/tou_summary.pdf\\\">Esri</a>, Earthstar Geographics\"}}}},{\"type\":\"object\",\"name\":\"GlyphRenderer\",\"id\":\"p1073\",\"attributes\":{\"data_source\":{\"type\":\"object\",\"name\":\"ColumnDataSource\",\"id\":\"p1064\",\"attributes\":{\"selected\":{\"type\":\"object\",\"name\":\"Selection\",\"id\":\"p1065\",\"attributes\":{\"indices\":[],\"line_indices\":[]}},\"selection_policy\":{\"type\":\"object\",\"name\":\"UnionRenderers\",\"id\":\"p1066\"},\"data\":{\"type\":\"map\",\"entries\":[[\"xs\",[[[{\"type\":\"ndarray\",\"array\":{\"type\":\"bytes\",\"data\":\"+Z6gX3GWZcEEEC0/ZZVlwQQQLT9llWXB+Z6gX3GWZcH5nqBfcZZlwQ==\"},\"shape\":[5],\"dtype\":\"float64\",\"order\":\"little\"}]]]],[\"ys\",[[[{\"type\":\"ndarray\",\"array\":{\"type\":\"bytes\",\"data\":\"wABLObclU0HAAEs5tyVTQVwnsd3RJ1NBXCex3dEnU0HAAEs5tyVTQQ==\"},\"shape\":[5],\"dtype\":\"float64\",\"order\":\"little\"}]]]]]}}},\"view\":{\"type\":\"object\",\"name\":\"CDSView\",\"id\":\"p1074\",\"attributes\":{\"filter\":{\"type\":\"object\",\"name\":\"AllIndices\",\"id\":\"p1075\"}}},\"glyph\":{\"type\":\"object\",\"name\":\"MultiPolygons\",\"id\":\"p1070\",\"attributes\":{\"xs\":{\"type\":\"field\",\"field\":\"xs\"},\"ys\":{\"type\":\"field\",\"field\":\"ys\"},\"line_color\":{\"type\":\"value\",\"value\":\"yellow\"},\"line_width\":{\"type\":\"value\",\"value\":10},\"fill_color\":{\"type\":\"value\",\"value\":null},\"hatch_color\":{\"type\":\"value\",\"value\":null}}},\"selection_glyph\":{\"type\":\"object\",\"name\":\"MultiPolygons\",\"id\":\"p1076\",\"attributes\":{\"xs\":{\"type\":\"field\",\"field\":\"xs\"},\"ys\":{\"type\":\"field\",\"field\":\"ys\"},\"line_color\":{\"type\":\"value\",\"value\":\"yellow\"},\"line_alpha\":{\"type\":\"value\",\"value\":1.0},\"line_width\":{\"type\":\"value\",\"value\":10},\"line_join\":{\"type\":\"value\",\"value\":\"bevel\"},\"line_cap\":{\"type\":\"value\",\"value\":\"butt\"},\"line_dash\":{\"type\":\"value\",\"value\":[]},\"line_dash_offset\":{\"type\":\"value\",\"value\":0},\"fill_color\":{\"type\":\"value\",\"value\":null},\"fill_alpha\":{\"type\":\"value\",\"value\":1.0},\"hatch_color\":{\"type\":\"value\",\"value\":null},\"hatch_alpha\":{\"type\":\"value\",\"value\":1.0},\"hatch_scale\":{\"type\":\"value\",\"value\":12.0},\"hatch_pattern\":{\"type\":\"value\",\"value\":null},\"hatch_weight\":{\"type\":\"value\",\"value\":1.0}}},\"nonselection_glyph\":{\"type\":\"object\",\"name\":\"MultiPolygons\",\"id\":\"p1071\",\"attributes\":{\"xs\":{\"type\":\"field\",\"field\":\"xs\"},\"ys\":{\"type\":\"field\",\"field\":\"ys\"},\"line_color\":{\"type\":\"value\",\"value\":\"yellow\"},\"line_alpha\":{\"type\":\"value\",\"value\":0.1},\"line_width\":{\"type\":\"value\",\"value\":10},\"fill_color\":{\"type\":\"value\",\"value\":null},\"fill_alpha\":{\"type\":\"value\",\"value\":0.1},\"hatch_color\":{\"type\":\"value\",\"value\":null},\"hatch_alpha\":{\"type\":\"value\",\"value\":0.1}}},\"muted_glyph\":{\"type\":\"object\",\"name\":\"MultiPolygons\",\"id\":\"p1072\",\"attributes\":{\"xs\":{\"type\":\"field\",\"field\":\"xs\"},\"ys\":{\"type\":\"field\",\"field\":\"ys\"},\"line_color\":{\"type\":\"value\",\"value\":\"yellow\"},\"line_alpha\":{\"type\":\"value\",\"value\":0.2},\"line_width\":{\"type\":\"value\",\"value\":10},\"fill_color\":{\"type\":\"value\",\"value\":null},\"fill_alpha\":{\"type\":\"value\",\"value\":0.2},\"hatch_color\":{\"type\":\"value\",\"value\":null},\"hatch_alpha\":{\"type\":\"value\",\"value\":0.2}}}}}],\"toolbar\":{\"type\":\"object\",\"name\":\"Toolbar\",\"id\":\"p1038\",\"attributes\":{\"tools\":[{\"type\":\"object\",\"name\":\"WheelZoomTool\",\"id\":\"p1023\",\"attributes\":{\"zoom_on_axis\":false}},{\"type\":\"object\",\"name\":\"BoxZoomTool\",\"id\":\"p1024\",\"attributes\":{\"overlay\":{\"type\":\"object\",\"name\":\"BoxAnnotation\",\"id\":\"p1004\",\"attributes\":{\"syncable\":false,\"level\":\"overlay\",\"visible\":false,\"left_units\":\"canvas\",\"right_units\":\"canvas\",\"bottom_units\":\"canvas\",\"top_units\":\"canvas\",\"line_color\":\"black\",\"line_alpha\":1.0,\"line_width\":2,\"line_dash\":[4,4],\"fill_color\":\"lightgrey\",\"fill_alpha\":0.5}},\"match_aspect\":true}},{\"type\":\"object\",\"name\":\"PanTool\",\"id\":\"p1052\"},{\"type\":\"object\",\"name\":\"ResetTool\",\"id\":\"p1053\"}],\"active_drag\":{\"id\":\"p1052\"}}},\"left\":[{\"type\":\"object\",\"name\":\"LinearAxis\",\"id\":\"p1046\",\"attributes\":{\"ticker\":{\"type\":\"object\",\"name\":\"MercatorTicker\",\"id\":\"p1056\",\"attributes\":{\"mantissas\":[1,2,5],\"dimension\":\"lat\"}},\"formatter\":{\"type\":\"object\",\"name\":\"MercatorTickFormatter\",\"id\":\"p1057\",\"attributes\":{\"dimension\":\"lat\"}},\"axis_label\":\"Latitude\",\"major_label_policy\":{\"type\":\"object\",\"name\":\"AllLabels\",\"id\":\"p1049\"}}}],\"below\":[{\"type\":\"object\",\"name\":\"LinearAxis\",\"id\":\"p1041\",\"attributes\":{\"ticker\":{\"type\":\"object\",\"name\":\"MercatorTicker\",\"id\":\"p1054\",\"attributes\":{\"mantissas\":[1,2,5],\"dimension\":\"lon\"}},\"formatter\":{\"type\":\"object\",\"name\":\"MercatorTickFormatter\",\"id\":\"p1055\",\"attributes\":{\"dimension\":\"lon\"}},\"axis_label\":\"Longitude\",\"major_label_policy\":{\"type\":\"object\",\"name\":\"AllLabels\",\"id\":\"p1044\"}}}],\"center\":[{\"type\":\"object\",\"name\":\"Grid\",\"id\":\"p1045\",\"attributes\":{\"axis\":{\"id\":\"p1041\"},\"grid_line_color\":null}},{\"type\":\"object\",\"name\":\"Grid\",\"id\":\"p1050\",\"attributes\":{\"dimension\":1,\"axis\":{\"id\":\"p1046\"},\"grid_line_color\":null}}],\"min_border_top\":10,\"min_border_bottom\":10,\"min_border_left\":10,\"min_border_right\":10,\"output_backend\":\"webgl\"}},{\"type\":\"object\",\"name\":\"Spacer\",\"id\":\"p1078\",\"attributes\":{\"name\":\"HSpacer03004\",\"stylesheets\":[\"\\n:host(.pn-loading.pn-arc):before, .pn-loading.pn-arc:before {\\n  background-image: url(\\\"data:image/svg+xml;base64,PHN2ZyB4bWxucz0iaHR0cDovL3d3dy53My5vcmcvMjAwMC9zdmciIHN0eWxlPSJtYXJnaW46IGF1dG87IGJhY2tncm91bmQ6IG5vbmU7IGRpc3BsYXk6IGJsb2NrOyBzaGFwZS1yZW5kZXJpbmc6IGF1dG87IiB2aWV3Qm94PSIwIDAgMTAwIDEwMCIgcHJlc2VydmVBc3BlY3RSYXRpbz0ieE1pZFlNaWQiPiAgPGNpcmNsZSBjeD0iNTAiIGN5PSI1MCIgZmlsbD0ibm9uZSIgc3Ryb2tlPSIjYzNjM2MzIiBzdHJva2Utd2lkdGg9IjEwIiByPSIzNSIgc3Ryb2tlLWRhc2hhcnJheT0iMTY0LjkzMzYxNDMxMzQ2NDE1IDU2Ljk3Nzg3MTQzNzgyMTM4Ij4gICAgPGFuaW1hdGVUcmFuc2Zvcm0gYXR0cmlidXRlTmFtZT0idHJhbnNmb3JtIiB0eXBlPSJyb3RhdGUiIHJlcGVhdENvdW50PSJpbmRlZmluaXRlIiBkdXI9IjFzIiB2YWx1ZXM9IjAgNTAgNTA7MzYwIDUwIDUwIiBrZXlUaW1lcz0iMDsxIj48L2FuaW1hdGVUcmFuc2Zvcm0+ICA8L2NpcmNsZT48L3N2Zz4=\\\");\\n  background-size: auto calc(min(50%, 400px));\\n}\",{\"id\":\"p1008\"},{\"id\":\"p1006\"},{\"id\":\"p1007\"}],\"margin\":0,\"sizing_mode\":\"stretch_width\",\"align\":\"start\"}}]}}],\"defs\":[{\"type\":\"model\",\"name\":\"ReactiveHTML1\"},{\"type\":\"model\",\"name\":\"FlexBox1\",\"properties\":[{\"name\":\"align_content\",\"kind\":\"Any\",\"default\":\"flex-start\"},{\"name\":\"align_items\",\"kind\":\"Any\",\"default\":\"flex-start\"},{\"name\":\"flex_direction\",\"kind\":\"Any\",\"default\":\"row\"},{\"name\":\"flex_wrap\",\"kind\":\"Any\",\"default\":\"wrap\"},{\"name\":\"justify_content\",\"kind\":\"Any\",\"default\":\"flex-start\"}]},{\"type\":\"model\",\"name\":\"FloatPanel1\",\"properties\":[{\"name\":\"config\",\"kind\":\"Any\",\"default\":{\"type\":\"map\"}},{\"name\":\"contained\",\"kind\":\"Any\",\"default\":true},{\"name\":\"position\",\"kind\":\"Any\",\"default\":\"right-top\"},{\"name\":\"offsetx\",\"kind\":\"Any\",\"default\":null},{\"name\":\"offsety\",\"kind\":\"Any\",\"default\":null},{\"name\":\"theme\",\"kind\":\"Any\",\"default\":\"primary\"},{\"name\":\"status\",\"kind\":\"Any\",\"default\":\"normalized\"}]},{\"type\":\"model\",\"name\":\"GridStack1\",\"properties\":[{\"name\":\"mode\",\"kind\":\"Any\",\"default\":\"warn\"},{\"name\":\"ncols\",\"kind\":\"Any\",\"default\":null},{\"name\":\"nrows\",\"kind\":\"Any\",\"default\":null},{\"name\":\"allow_resize\",\"kind\":\"Any\",\"default\":true},{\"name\":\"allow_drag\",\"kind\":\"Any\",\"default\":true},{\"name\":\"state\",\"kind\":\"Any\",\"default\":[]}]},{\"type\":\"model\",\"name\":\"drag1\",\"properties\":[{\"name\":\"slider_width\",\"kind\":\"Any\",\"default\":5},{\"name\":\"slider_color\",\"kind\":\"Any\",\"default\":\"black\"},{\"name\":\"value\",\"kind\":\"Any\",\"default\":50}]},{\"type\":\"model\",\"name\":\"click1\",\"properties\":[{\"name\":\"terminal_output\",\"kind\":\"Any\",\"default\":\"\"},{\"name\":\"debug_name\",\"kind\":\"Any\",\"default\":\"\"},{\"name\":\"clears\",\"kind\":\"Any\",\"default\":0}]},{\"type\":\"model\",\"name\":\"FastWrapper1\",\"properties\":[{\"name\":\"object\",\"kind\":\"Any\",\"default\":null},{\"name\":\"style\",\"kind\":\"Any\",\"default\":null}]},{\"type\":\"model\",\"name\":\"NotificationAreaBase1\",\"properties\":[{\"name\":\"js_events\",\"kind\":\"Any\",\"default\":{\"type\":\"map\"}},{\"name\":\"position\",\"kind\":\"Any\",\"default\":\"bottom-right\"},{\"name\":\"_clear\",\"kind\":\"Any\",\"default\":0}]},{\"type\":\"model\",\"name\":\"NotificationArea1\",\"properties\":[{\"name\":\"js_events\",\"kind\":\"Any\",\"default\":{\"type\":\"map\"}},{\"name\":\"notifications\",\"kind\":\"Any\",\"default\":[]},{\"name\":\"position\",\"kind\":\"Any\",\"default\":\"bottom-right\"},{\"name\":\"_clear\",\"kind\":\"Any\",\"default\":0},{\"name\":\"types\",\"kind\":\"Any\",\"default\":[{\"type\":\"map\",\"entries\":[[\"type\",\"warning\"],[\"background\",\"#ffc107\"],[\"icon\",{\"type\":\"map\",\"entries\":[[\"className\",\"fas fa-exclamation-triangle\"],[\"tagName\",\"i\"],[\"color\",\"white\"]]}]]},{\"type\":\"map\",\"entries\":[[\"type\",\"info\"],[\"background\",\"#007bff\"],[\"icon\",{\"type\":\"map\",\"entries\":[[\"className\",\"fas fa-info-circle\"],[\"tagName\",\"i\"],[\"color\",\"white\"]]}]]}]}]},{\"type\":\"model\",\"name\":\"Notification\",\"properties\":[{\"name\":\"background\",\"kind\":\"Any\",\"default\":null},{\"name\":\"duration\",\"kind\":\"Any\",\"default\":3000},{\"name\":\"icon\",\"kind\":\"Any\",\"default\":null},{\"name\":\"message\",\"kind\":\"Any\",\"default\":\"\"},{\"name\":\"notification_type\",\"kind\":\"Any\",\"default\":null},{\"name\":\"_destroyed\",\"kind\":\"Any\",\"default\":false}]},{\"type\":\"model\",\"name\":\"TemplateActions1\",\"properties\":[{\"name\":\"open_modal\",\"kind\":\"Any\",\"default\":0},{\"name\":\"close_modal\",\"kind\":\"Any\",\"default\":0}]},{\"type\":\"model\",\"name\":\"BootstrapTemplateActions1\",\"properties\":[{\"name\":\"open_modal\",\"kind\":\"Any\",\"default\":0},{\"name\":\"close_modal\",\"kind\":\"Any\",\"default\":0}]},{\"type\":\"model\",\"name\":\"MaterialTemplateActions1\",\"properties\":[{\"name\":\"open_modal\",\"kind\":\"Any\",\"default\":0},{\"name\":\"close_modal\",\"kind\":\"Any\",\"default\":0}]}]}};\n",
       "  var render_items = [{\"docid\":\"910ea70a-766a-4cef-9469-c605c4499716\",\"roots\":{\"p1005\":\"dbfb7b5e-46e3-4e95-a5e1-b224e6bd9414\"},\"root_ids\":[\"p1005\"]}];\n",
       "  var docs = Object.values(docs_json)\n",
       "  if (!docs) {\n",
       "    return\n",
       "  }\n",
       "  const py_version = docs[0].version.replace('rc', '-rc.').replace('.dev', '-dev.')\n",
       "  const is_dev = py_version.indexOf(\"+\") !== -1 || py_version.indexOf(\"-\") !== -1\n",
       "  function embed_document(root) {\n",
       "    var Bokeh = get_bokeh(root)\n",
       "    Bokeh.embed.embed_items_notebook(docs_json, render_items);\n",
       "    for (const render_item of render_items) {\n",
       "      for (const root_id of render_item.root_ids) {\n",
       "\tconst id_el = document.getElementById(root_id)\n",
       "\tif (id_el.children.length && (id_el.children[0].className === 'bk-root')) {\n",
       "\t  const root_el = id_el.children[0]\n",
       "\t  root_el.id = root_el.id + '-rendered'\n",
       "\t}\n",
       "      }\n",
       "    }\n",
       "  }\n",
       "  function get_bokeh(root) {\n",
       "    if (root.Bokeh === undefined) {\n",
       "      return null\n",
       "    } else if (root.Bokeh.version !== py_version && !is_dev) {\n",
       "      if (root.Bokeh.versions === undefined || !root.Bokeh.versions.has(py_version)) {\n",
       "\treturn null\n",
       "      }\n",
       "      return root.Bokeh.versions.get(py_version);\n",
       "    } else if (root.Bokeh.version === py_version) {\n",
       "      return root.Bokeh\n",
       "    }\n",
       "    return null\n",
       "  }\n",
       "  function is_loaded(root) {\n",
       "    var Bokeh = get_bokeh(root)\n",
       "    return (Bokeh != null && Bokeh.Panel !== undefined)\n",
       "  }\n",
       "  if (is_loaded(root)) {\n",
       "    embed_document(root);\n",
       "  } else {\n",
       "    var attempts = 0;\n",
       "    var timer = setInterval(function(root) {\n",
       "      if (is_loaded(root)) {\n",
       "        clearInterval(timer);\n",
       "        embed_document(root);\n",
       "      } else if (document.readyState == \"complete\") {\n",
       "        attempts++;\n",
       "        if (attempts > 200) {\n",
       "          clearInterval(timer);\n",
       "\t  var Bokeh = get_bokeh(root)\n",
       "\t  if (Bokeh == null || Bokeh.Panel == null) {\n",
       "            console.warn(\"Panel: ERROR: Unable to run Panel code because Bokeh or Panel library is missing\");\n",
       "\t  } else {\n",
       "\t    console.warn(\"Panel: WARNING: Attempting to render but not all required libraries could be resolved.\")\n",
       "\t    embed_document(root)\n",
       "\t  }\n",
       "        }\n",
       "      }\n",
       "    }, 25, root)\n",
       "  }\n",
       "})(window);</script>"
      ],
      "text/plain": [
       ":Overlay\n",
       "   .WMTS.I     :WMTS   [Longitude,Latitude]\n",
       "   .Polygons.I :Polygons   [Longitude,Latitude]"
      ]
     },
     "execution_count": 17,
     "metadata": {
      "application/vnd.holoviews_exec.v0+json": {
       "id": "p1005"
      }
     },
     "output_type": "execute_result"
    }
   ],
   "source": [
    "base = gv.tile_sources.EsriImagery.opts(width=650, height=500)\n",
    "farmField = gv.Polygons(fieldShape).opts(line_color='yellow', line_width=10, color=None)\n",
    "base * farmField"
   ]
  },
  {
   "cell_type": "markdown",
   "id": "tamil-gossip",
   "metadata": {
    "user_expressions": []
   },
   "source": [
    "We will now start to specify the search criteria we are interested in, i.e, the **date range**, the **region of interest** (roi), and the **data collections**, to pass to the STAC API"
   ]
  },
  {
   "cell_type": "markdown",
   "id": "mobile-arnold",
   "metadata": {
    "user_expressions": []
   },
   "source": [
    "#### Specify the region of interest"
   ]
  },
  {
   "cell_type": "code",
   "execution_count": 18,
   "id": "human-breathing",
   "metadata": {},
   "outputs": [
    {
     "name": "stdout",
     "output_type": "stream",
     "text": [
      "{'type': 'Polygon', 'coordinates': [[[-101.67271614074707, 41.04754380304359], [-101.65344715118408, 41.04754380304359], [-101.65344715118408, 41.06213891056728], [-101.67271614074707, 41.06213891056728], [-101.67271614074707, 41.04754380304359]]]}\n",
      "{'type': 'Point', 'coordinates': [-119.256, 37.901]}\n"
     ]
    }
   ],
   "source": [
    "roi = json.loads(field.to_json())['features'][0]['geometry']\n",
    "print(roi)\n",
    "roi_pt = json.loads('{\"type\":\"Point\", \"coordinates\":[-119.256, 37.901]}') # Dana meadow\n",
    "print(roi_pt)"
   ]
  },
  {
   "cell_type": "markdown",
   "id": "informal-introduction",
   "metadata": {
    "user_expressions": []
   },
   "source": [
    "#### Specify date range"
   ]
  },
  {
   "cell_type": "code",
   "execution_count": 19,
   "id": "intensive-russell",
   "metadata": {},
   "outputs": [],
   "source": [
    "#date_range = \"2021-05-01T00:00:00Z/2021-08-30T23:59:59Z\"    # closed interval\n",
    "#date_range = \"2021-05-01T00:00:00Z/..\"                      # open interval - does not currently work with the CMR-STAC API\n",
    "date_range = \"2021-05/2021-08\""
   ]
  },
  {
   "cell_type": "markdown",
   "id": "filled-security",
   "metadata": {
    "user_expressions": []
   },
   "source": [
    "#### Specify the STAC Collections\n",
    "\n",
    "**Note,** a STAC Collection is synonomous with what we usually consider a data product."
   ]
  },
  {
   "cell_type": "code",
   "execution_count": 20,
   "id": "forced-copying",
   "metadata": {},
   "outputs": [
    {
     "data": {
      "text/plain": [
       "['HLSL30.v2.0', 'HLSS30.v2.0']"
      ]
     },
     "execution_count": 20,
     "metadata": {},
     "output_type": "execute_result"
    }
   ],
   "source": [
    "collections = ['HLSL30.v2.0', 'HLSS30.v2.0']\n",
    "collections"
   ]
  },
  {
   "cell_type": "markdown",
   "id": "proper-generic",
   "metadata": {
    "user_expressions": []
   },
   "source": [
    "### Perform Search Against the CMR-STAC API"
   ]
  },
  {
   "cell_type": "code",
   "execution_count": 21,
   "id": "ee17694e-1b02-45ab-9b79-c077c6614d50",
   "metadata": {},
   "outputs": [],
   "source": [
    "catalog = Client.open(provider_url)"
   ]
  },
  {
   "cell_type": "code",
   "execution_count": 22,
   "id": "unknown-prairie",
   "metadata": {},
   "outputs": [],
   "source": [
    "search = catalog.search(\n",
    "    collections=collections,\n",
    "    intersects=roi_pt,\n",
    "    datetime=date_range\n",
    ")"
   ]
  },
  {
   "cell_type": "markdown",
   "id": "superior-pastor",
   "metadata": {
    "user_expressions": []
   },
   "source": [
    "#### Print out how many STAC Items match our search query"
   ]
  },
  {
   "cell_type": "code",
   "execution_count": 23,
   "id": "norwegian-blair",
   "metadata": {},
   "outputs": [
    {
     "data": {
      "text/plain": [
       "132"
      ]
     },
     "execution_count": 23,
     "metadata": {},
     "output_type": "execute_result"
    }
   ],
   "source": [
    "search.matched()"
   ]
  },
  {
   "cell_type": "markdown",
   "id": "through-whole",
   "metadata": {
    "user_expressions": []
   },
   "source": [
    "We now have a search object containing the STAC records that matched our query. Now, let's pull out all of the STAC Items (as a PySTAC ItemCollection object) and explore the contents (i.e., the STAC Items)"
   ]
  },
  {
   "cell_type": "code",
   "execution_count": 24,
   "id": "turned-shelf",
   "metadata": {
    "tags": []
   },
   "outputs": [],
   "source": [
    "item_collection = list(search.items())"
   ]
  },
  {
   "cell_type": "code",
   "execution_count": 25,
   "id": "likely-rolling",
   "metadata": {},
   "outputs": [
    {
     "data": {
      "text/plain": [
       "[<Item id=HLS.S30.T11SLC.2021121T183919.v2.0>,\n",
       " <Item id=HLS.S30.T11SKC.2021121T183919.v2.0>,\n",
       " <Item id=HLS.S30.T11SLB.2021121T183919.v2.0>,\n",
       " <Item id=HLS.S30.T11SKB.2021121T183919.v2.0>,\n",
       " <Item id=HLS.S30.T11SLC.2021126T183921.v2.0>,\n",
       " <Item id=HLS.S30.T11SKC.2021126T183921.v2.0>,\n",
       " <Item id=HLS.S30.T11SLB.2021126T183921.v2.0>,\n",
       " <Item id=HLS.S30.T11SKB.2021126T183921.v2.0>,\n",
       " <Item id=HLS.L30.T11SLC.2021130T183251.v2.0>,\n",
       " <Item id=HLS.L30.T11SKC.2021130T183251.v2.0>,\n",
       " <Item id=HLS.L30.T11SLB.2021130T183315.v2.0>,\n",
       " <Item id=HLS.L30.T11SKB.2021130T183315.v2.0>,\n",
       " <Item id=HLS.S30.T11SLC.2021131T183919.v2.0>,\n",
       " <Item id=HLS.S30.T11SKC.2021131T183919.v2.0>,\n",
       " <Item id=HLS.S30.T11SLB.2021131T183919.v2.0>,\n",
       " <Item id=HLS.S30.T11SKB.2021131T183919.v2.0>,\n",
       " <Item id=HLS.S30.T11SLC.2021136T183921.v2.0>,\n",
       " <Item id=HLS.S30.T11SKC.2021136T183921.v2.0>,\n",
       " <Item id=HLS.S30.T11SLB.2021136T183921.v2.0>,\n",
       " <Item id=HLS.S30.T11SKB.2021136T183921.v2.0>,\n",
       " <Item id=HLS.S30.T11SLC.2021141T183919.v2.0>,\n",
       " <Item id=HLS.S30.T11SKC.2021141T183919.v2.0>,\n",
       " <Item id=HLS.S30.T11SLB.2021141T183919.v2.0>,\n",
       " <Item id=HLS.S30.T11SKB.2021141T183919.v2.0>,\n",
       " <Item id=HLS.L30.T11SLC.2021146T183301.v2.0>,\n",
       " <Item id=HLS.L30.T11SKC.2021146T183301.v2.0>,\n",
       " <Item id=HLS.L30.T11SLB.2021146T183325.v2.0>,\n",
       " <Item id=HLS.L30.T11SKB.2021146T183325.v2.0>,\n",
       " <Item id=HLS.S30.T11SLC.2021146T183921.v2.0>,\n",
       " <Item id=HLS.S30.T11SKC.2021146T183921.v2.0>,\n",
       " <Item id=HLS.S30.T11SLB.2021146T183921.v2.0>,\n",
       " <Item id=HLS.S30.T11SKB.2021146T183921.v2.0>,\n",
       " <Item id=HLS.S30.T11SLC.2021151T183919.v2.0>,\n",
       " <Item id=HLS.S30.T11SKC.2021151T183919.v2.0>,\n",
       " <Item id=HLS.S30.T11SLB.2021151T183919.v2.0>,\n",
       " <Item id=HLS.S30.T11SKB.2021151T183919.v2.0>,\n",
       " <Item id=HLS.S30.T11SLC.2021156T183921.v2.0>,\n",
       " <Item id=HLS.S30.T11SKC.2021156T183921.v2.0>,\n",
       " <Item id=HLS.S30.T11SLB.2021156T183921.v2.0>,\n",
       " <Item id=HLS.S30.T11SKB.2021156T183921.v2.0>,\n",
       " <Item id=HLS.S30.T11SLC.2021161T183919.v2.0>,\n",
       " <Item id=HLS.S30.T11SKC.2021161T183919.v2.0>,\n",
       " <Item id=HLS.S30.T11SLB.2021161T183919.v2.0>,\n",
       " <Item id=HLS.S30.T11SKB.2021161T183919.v2.0>,\n",
       " <Item id=HLS.L30.T11SLC.2021162T183308.v2.0>,\n",
       " <Item id=HLS.L30.T11SKC.2021162T183308.v2.0>,\n",
       " <Item id=HLS.L30.T11SKB.2021162T183332.v2.0>,\n",
       " <Item id=HLS.L30.T11SLB.2021162T183332.v2.0>,\n",
       " <Item id=HLS.S30.T11SLC.2021166T183921.v2.0>,\n",
       " <Item id=HLS.S30.T11SKC.2021166T183921.v2.0>,\n",
       " <Item id=HLS.S30.T11SLB.2021166T183921.v2.0>,\n",
       " <Item id=HLS.S30.T11SKB.2021166T183921.v2.0>,\n",
       " <Item id=HLS.S30.T11SLC.2021171T183919.v2.0>,\n",
       " <Item id=HLS.S30.T11SKC.2021171T183919.v2.0>,\n",
       " <Item id=HLS.S30.T11SLB.2021171T183919.v2.0>,\n",
       " <Item id=HLS.S30.T11SKB.2021171T183919.v2.0>,\n",
       " <Item id=HLS.S30.T11SLC.2021176T183921.v2.0>,\n",
       " <Item id=HLS.S30.T11SKC.2021176T183921.v2.0>,\n",
       " <Item id=HLS.S30.T11SLB.2021176T183921.v2.0>,\n",
       " <Item id=HLS.S30.T11SKB.2021176T183921.v2.0>,\n",
       " <Item id=HLS.L30.T11SKC.2021178T183312.v2.0>,\n",
       " <Item id=HLS.L30.T11SLC.2021178T183312.v2.0>,\n",
       " <Item id=HLS.L30.T11SLB.2021178T183336.v2.0>,\n",
       " <Item id=HLS.L30.T11SKB.2021178T183336.v2.0>,\n",
       " <Item id=HLS.S30.T11SLC.2021181T183919.v2.0>,\n",
       " <Item id=HLS.S30.T11SKC.2021181T183919.v2.0>,\n",
       " <Item id=HLS.S30.T11SLB.2021181T183919.v2.0>,\n",
       " <Item id=HLS.S30.T11SKB.2021181T183919.v2.0>,\n",
       " <Item id=HLS.S30.T11SLC.2021186T183921.v2.0>,\n",
       " <Item id=HLS.S30.T11SKC.2021186T183921.v2.0>,\n",
       " <Item id=HLS.S30.T11SLB.2021186T183921.v2.0>,\n",
       " <Item id=HLS.S30.T11SKB.2021186T183921.v2.0>,\n",
       " <Item id=HLS.S30.T11SLC.2021191T183919.v2.0>,\n",
       " <Item id=HLS.S30.T11SKC.2021191T183919.v2.0>,\n",
       " <Item id=HLS.S30.T11SLB.2021191T183919.v2.0>,\n",
       " <Item id=HLS.S30.T11SKB.2021191T183919.v2.0>,\n",
       " <Item id=HLS.L30.T11SKC.2021194T183313.v2.0>,\n",
       " <Item id=HLS.L30.T11SLC.2021194T183313.v2.0>,\n",
       " <Item id=HLS.L30.T11SKB.2021194T183337.v2.0>,\n",
       " <Item id=HLS.L30.T11SLB.2021194T183337.v2.0>,\n",
       " <Item id=HLS.S30.T11SLC.2021196T183921.v2.0>,\n",
       " <Item id=HLS.S30.T11SKC.2021196T183921.v2.0>,\n",
       " <Item id=HLS.S30.T11SLB.2021196T183921.v2.0>,\n",
       " <Item id=HLS.S30.T11SKB.2021196T183921.v2.0>,\n",
       " <Item id=HLS.S30.T11SLC.2021201T183919.v2.0>,\n",
       " <Item id=HLS.S30.T11SKC.2021201T183919.v2.0>,\n",
       " <Item id=HLS.S30.T11SLB.2021201T183919.v2.0>,\n",
       " <Item id=HLS.S30.T11SKB.2021201T183919.v2.0>,\n",
       " <Item id=HLS.S30.T11SLC.2021206T183921.v2.0>,\n",
       " <Item id=HLS.S30.T11SKC.2021206T183921.v2.0>,\n",
       " <Item id=HLS.S30.T11SLB.2021206T183921.v2.0>,\n",
       " <Item id=HLS.S30.T11SKB.2021206T183921.v2.0>,\n",
       " <Item id=HLS.L30.T11SLC.2021210T183321.v2.0>,\n",
       " <Item id=HLS.L30.T11SKC.2021210T183321.v2.0>,\n",
       " <Item id=HLS.L30.T11SLB.2021210T183345.v2.0>,\n",
       " <Item id=HLS.L30.T11SKB.2021210T183345.v2.0>,\n",
       " <Item id=HLS.S30.T11SLC.2021211T183919.v2.0>,\n",
       " <Item id=HLS.S30.T11SKC.2021211T183919.v2.0>,\n",
       " <Item id=HLS.S30.T11SLB.2021211T183919.v2.0>,\n",
       " <Item id=HLS.S30.T11SKB.2021211T183919.v2.0>,\n",
       " <Item id=HLS.S30.T11SLC.2021216T183921.v2.0>,\n",
       " <Item id=HLS.S30.T11SKC.2021216T183921.v2.0>,\n",
       " <Item id=HLS.S30.T11SLB.2021216T183921.v2.0>,\n",
       " <Item id=HLS.S30.T11SKB.2021216T183921.v2.0>,\n",
       " <Item id=HLS.S30.T11SLC.2021221T183919.v2.0>,\n",
       " <Item id=HLS.S30.T11SKC.2021221T183919.v2.0>,\n",
       " <Item id=HLS.S30.T11SLB.2021221T183919.v2.0>,\n",
       " <Item id=HLS.S30.T11SKB.2021221T183919.v2.0>,\n",
       " <Item id=HLS.L30.T11SLC.2021226T183327.v2.0>,\n",
       " <Item id=HLS.L30.T11SKC.2021226T183327.v2.0>,\n",
       " <Item id=HLS.L30.T11SLB.2021226T183351.v2.0>,\n",
       " <Item id=HLS.L30.T11SKB.2021226T183351.v2.0>,\n",
       " <Item id=HLS.S30.T11SLC.2021226T183921.v2.0>,\n",
       " <Item id=HLS.S30.T11SKC.2021226T183921.v2.0>,\n",
       " <Item id=HLS.S30.T11SLB.2021226T183921.v2.0>,\n",
       " <Item id=HLS.S30.T11SKB.2021226T183921.v2.0>,\n",
       " <Item id=HLS.S30.T11SLC.2021231T183919.v2.0>,\n",
       " <Item id=HLS.S30.T11SKC.2021231T183919.v2.0>,\n",
       " <Item id=HLS.S30.T11SLB.2021231T183919.v2.0>,\n",
       " <Item id=HLS.S30.T11SKB.2021231T183919.v2.0>,\n",
       " <Item id=HLS.S30.T11SLC.2021236T183921.v2.0>,\n",
       " <Item id=HLS.S30.T11SKC.2021236T183921.v2.0>,\n",
       " <Item id=HLS.S30.T11SLB.2021236T183921.v2.0>,\n",
       " <Item id=HLS.S30.T11SKB.2021236T183921.v2.0>,\n",
       " <Item id=HLS.S30.T11SLC.2021241T183919.v2.0>,\n",
       " <Item id=HLS.S30.T11SKC.2021241T183919.v2.0>,\n",
       " <Item id=HLS.S30.T11SLB.2021241T183919.v2.0>,\n",
       " <Item id=HLS.S30.T11SKB.2021241T183919.v2.0>,\n",
       " <Item id=HLS.L30.T11SKC.2021242T183332.v2.0>,\n",
       " <Item id=HLS.L30.T11SLC.2021242T183332.v2.0>,\n",
       " <Item id=HLS.L30.T11SKB.2021242T183356.v2.0>,\n",
       " <Item id=HLS.L30.T11SLB.2021242T183356.v2.0>]"
      ]
     },
     "execution_count": 25,
     "metadata": {},
     "output_type": "execute_result"
    }
   ],
   "source": [
    "item_collection"
   ]
  },
  {
   "cell_type": "markdown",
   "id": "original-enemy",
   "metadata": {
    "user_expressions": []
   },
   "source": [
    "#### Grab the first Item and print it out as a dictionary"
   ]
  },
  {
   "cell_type": "code",
   "execution_count": 69,
   "id": "legitimate-eligibility",
   "metadata": {},
   "outputs": [
    {
     "data": {
      "text/plain": [
       "{'type': 'Feature',\n",
       " 'stac_version': '1.0.0',\n",
       " 'id': 'HLS.S30.T11SLC.2021121T183919.v2.0',\n",
       " 'properties': {'eo:cloud_cover': 4,\n",
       "  'datetime': '2021-05-01T18:53:43.424000Z',\n",
       "  'start_datetime': '2021-05-01T18:53:43.424Z',\n",
       "  'end_datetime': '2021-05-01T18:53:43.424Z'},\n",
       " 'geometry': {'type': 'Polygon',\n",
       "  'coordinates': [[[-119.2728184, 37.8375034],\n",
       "    [-118.0253366, 37.8549777],\n",
       "    [-118.0393843, 38.8443739],\n",
       "    [-119.3039308, 38.8262726],\n",
       "    [-119.2728184, 37.8375034]]]},\n",
       " 'links': [{'rel': 'self',\n",
       "   'href': 'https://cmr.earthdata.nasa.gov/stac/LPCLOUD/collections/HLSS30.v2.0/items/HLS.S30.T11SLC.2021121T183919.v2.0'},\n",
       "  {'rel': 'parent',\n",
       "   'href': 'https://cmr.earthdata.nasa.gov/stac/LPCLOUD/collections/HLSS30.v2.0'},\n",
       "  {'rel': 'collection',\n",
       "   'href': 'https://cmr.earthdata.nasa.gov/stac/LPCLOUD/collections/HLSS30.v2.0'},\n",
       "  {'rel': 'root',\n",
       "   'href': 'https://cmr.earthdata.nasa.gov/stac/LPCLOUD',\n",
       "   'type': 'application/json',\n",
       "   'title': 'LPCLOUD'},\n",
       "  {'rel': 'provider', 'href': 'https://cmr.earthdata.nasa.gov/stac/LPCLOUD'},\n",
       "  {'rel': 'via',\n",
       "   'href': 'https://cmr.earthdata.nasa.gov/search/concepts/G2153225592-LPCLOUD.json'},\n",
       "  {'rel': 'via',\n",
       "   'href': 'https://cmr.earthdata.nasa.gov/search/concepts/G2153225592-LPCLOUD.umm_json'}],\n",
       " 'assets': {'B05': {'href': 'https://data.lpdaac.earthdatacloud.nasa.gov/lp-prod-protected/HLSS30.020/HLS.S30.T11SLC.2021121T183919.v2.0/HLS.S30.T11SLC.2021121T183919.v2.0.B05.tif',\n",
       "   'title': 'Download HLS.S30.T11SLC.2021121T183919.v2.0.B05.tif'},\n",
       "  'B11': {'href': 'https://data.lpdaac.earthdatacloud.nasa.gov/lp-prod-protected/HLSS30.020/HLS.S30.T11SLC.2021121T183919.v2.0/HLS.S30.T11SLC.2021121T183919.v2.0.B11.tif',\n",
       "   'title': 'Download HLS.S30.T11SLC.2021121T183919.v2.0.B11.tif'},\n",
       "  'SAA': {'href': 'https://data.lpdaac.earthdatacloud.nasa.gov/lp-prod-protected/HLSS30.020/HLS.S30.T11SLC.2021121T183919.v2.0/HLS.S30.T11SLC.2021121T183919.v2.0.SAA.tif',\n",
       "   'title': 'Download HLS.S30.T11SLC.2021121T183919.v2.0.SAA.tif'},\n",
       "  'B08': {'href': 'https://data.lpdaac.earthdatacloud.nasa.gov/lp-prod-protected/HLSS30.020/HLS.S30.T11SLC.2021121T183919.v2.0/HLS.S30.T11SLC.2021121T183919.v2.0.B08.tif',\n",
       "   'title': 'Download HLS.S30.T11SLC.2021121T183919.v2.0.B08.tif'},\n",
       "  'VZA': {'href': 'https://data.lpdaac.earthdatacloud.nasa.gov/lp-prod-protected/HLSS30.020/HLS.S30.T11SLC.2021121T183919.v2.0/HLS.S30.T11SLC.2021121T183919.v2.0.VZA.tif',\n",
       "   'title': 'Download HLS.S30.T11SLC.2021121T183919.v2.0.VZA.tif'},\n",
       "  'SZA': {'href': 'https://data.lpdaac.earthdatacloud.nasa.gov/lp-prod-protected/HLSS30.020/HLS.S30.T11SLC.2021121T183919.v2.0/HLS.S30.T11SLC.2021121T183919.v2.0.SZA.tif',\n",
       "   'title': 'Download HLS.S30.T11SLC.2021121T183919.v2.0.SZA.tif'},\n",
       "  'Fmask': {'href': 'https://data.lpdaac.earthdatacloud.nasa.gov/lp-prod-protected/HLSS30.020/HLS.S30.T11SLC.2021121T183919.v2.0/HLS.S30.T11SLC.2021121T183919.v2.0.Fmask.tif',\n",
       "   'title': 'Download HLS.S30.T11SLC.2021121T183919.v2.0.Fmask.tif'},\n",
       "  'B03': {'href': 'https://data.lpdaac.earthdatacloud.nasa.gov/lp-prod-protected/HLSS30.020/HLS.S30.T11SLC.2021121T183919.v2.0/HLS.S30.T11SLC.2021121T183919.v2.0.B03.tif',\n",
       "   'title': 'Download HLS.S30.T11SLC.2021121T183919.v2.0.B03.tif'},\n",
       "  'B10': {'href': 'https://data.lpdaac.earthdatacloud.nasa.gov/lp-prod-protected/HLSS30.020/HLS.S30.T11SLC.2021121T183919.v2.0/HLS.S30.T11SLC.2021121T183919.v2.0.B10.tif',\n",
       "   'title': 'Download HLS.S30.T11SLC.2021121T183919.v2.0.B10.tif'},\n",
       "  'B07': {'href': 'https://data.lpdaac.earthdatacloud.nasa.gov/lp-prod-protected/HLSS30.020/HLS.S30.T11SLC.2021121T183919.v2.0/HLS.S30.T11SLC.2021121T183919.v2.0.B07.tif',\n",
       "   'title': 'Download HLS.S30.T11SLC.2021121T183919.v2.0.B07.tif'},\n",
       "  'B8A': {'href': 'https://data.lpdaac.earthdatacloud.nasa.gov/lp-prod-protected/HLSS30.020/HLS.S30.T11SLC.2021121T183919.v2.0/HLS.S30.T11SLC.2021121T183919.v2.0.B8A.tif',\n",
       "   'title': 'Download HLS.S30.T11SLC.2021121T183919.v2.0.B8A.tif'},\n",
       "  'B12': {'href': 'https://data.lpdaac.earthdatacloud.nasa.gov/lp-prod-protected/HLSS30.020/HLS.S30.T11SLC.2021121T183919.v2.0/HLS.S30.T11SLC.2021121T183919.v2.0.B12.tif',\n",
       "   'title': 'Download HLS.S30.T11SLC.2021121T183919.v2.0.B12.tif'},\n",
       "  'B04': {'href': 'https://data.lpdaac.earthdatacloud.nasa.gov/lp-prod-protected/HLSS30.020/HLS.S30.T11SLC.2021121T183919.v2.0/HLS.S30.T11SLC.2021121T183919.v2.0.B04.tif',\n",
       "   'title': 'Download HLS.S30.T11SLC.2021121T183919.v2.0.B04.tif'},\n",
       "  'B09': {'href': 'https://data.lpdaac.earthdatacloud.nasa.gov/lp-prod-protected/HLSS30.020/HLS.S30.T11SLC.2021121T183919.v2.0/HLS.S30.T11SLC.2021121T183919.v2.0.B09.tif',\n",
       "   'title': 'Download HLS.S30.T11SLC.2021121T183919.v2.0.B09.tif'},\n",
       "  'VAA': {'href': 'https://data.lpdaac.earthdatacloud.nasa.gov/lp-prod-protected/HLSS30.020/HLS.S30.T11SLC.2021121T183919.v2.0/HLS.S30.T11SLC.2021121T183919.v2.0.VAA.tif',\n",
       "   'title': 'Download HLS.S30.T11SLC.2021121T183919.v2.0.VAA.tif'},\n",
       "  'B02': {'href': 'https://data.lpdaac.earthdatacloud.nasa.gov/lp-prod-protected/HLSS30.020/HLS.S30.T11SLC.2021121T183919.v2.0/HLS.S30.T11SLC.2021121T183919.v2.0.B02.tif',\n",
       "   'title': 'Download HLS.S30.T11SLC.2021121T183919.v2.0.B02.tif'},\n",
       "  'B06': {'href': 'https://data.lpdaac.earthdatacloud.nasa.gov/lp-prod-protected/HLSS30.020/HLS.S30.T11SLC.2021121T183919.v2.0/HLS.S30.T11SLC.2021121T183919.v2.0.B06.tif',\n",
       "   'title': 'Download HLS.S30.T11SLC.2021121T183919.v2.0.B06.tif'},\n",
       "  'B01': {'href': 'https://data.lpdaac.earthdatacloud.nasa.gov/lp-prod-protected/HLSS30.020/HLS.S30.T11SLC.2021121T183919.v2.0/HLS.S30.T11SLC.2021121T183919.v2.0.B01.tif',\n",
       "   'title': 'Download HLS.S30.T11SLC.2021121T183919.v2.0.B01.tif'},\n",
       "  'browse': {'href': 'https://data.lpdaac.earthdatacloud.nasa.gov/lp-prod-public/HLSS30.020/HLS.S30.T11SLC.2021121T183919.v2.0/HLS.S30.T11SLC.2021121T183919.v2.0.jpg',\n",
       "   'type': 'image/jpeg',\n",
       "   'title': 'Download HLS.S30.T11SLC.2021121T183919.v2.0.jpg'},\n",
       "  'metadata': {'href': 'https://cmr.earthdata.nasa.gov/search/concepts/G2153225592-LPCLOUD.xml',\n",
       "   'type': 'application/xml'}},\n",
       " 'bbox': [-119.303931, 37.837503, -118.025337, 38.844374],\n",
       " 'stac_extensions': ['https://stac-extensions.github.io/eo/v1.0.0/schema.json'],\n",
       " 'collection': 'HLSS30.v2.0'}"
      ]
     },
     "execution_count": 69,
     "metadata": {},
     "output_type": "execute_result"
    }
   ],
   "source": [
    "item_collection[0].to_dict()"
   ]
  },
  {
   "cell_type": "markdown",
   "id": "animal-facility",
   "metadata": {
    "user_expressions": []
   },
   "source": [
    "### Filtering STAC Items\n",
    "\n",
    "While the CMR-STAC API is a powerful search and discovery utility, it is still maturing and currently does not have the full gamut of filtering capabilities that the STAC API specification allows for. Hence, additional filtering is required if we want to filter by a property like cloud cover for example. Below we will loop through and filter the item_collection by a specified cloud cover as well as extract the band we need to do an Enhanced Vegetation Index (EVI) calculation later."
   ]
  },
  {
   "cell_type": "markdown",
   "id": "raised-desire",
   "metadata": {
    "user_expressions": []
   },
   "source": [
    "Now we will set the max cloud cover allowable and extract the band links for those Items that match or are less than the max cloud cover."
   ]
  },
  {
   "cell_type": "code",
   "execution_count": 26,
   "id": "tracked-passing",
   "metadata": {},
   "outputs": [],
   "source": [
    "cloudcover = 20"
   ]
  },
  {
   "cell_type": "markdown",
   "id": "hidden-nothing",
   "metadata": {
    "user_expressions": []
   },
   "source": [
    "We will also specify the STAC Assets (i.e., bands/layers) of interest for both the S30 and L30 collections"
   ]
  },
  {
   "cell_type": "code",
   "execution_count": 37,
   "id": "crude-convert",
   "metadata": {},
   "outputs": [],
   "source": [
    "s30_bands = ['B03', 'B11']#, 'Fmask']    # S30 bands for EVI calculation and quality filtering -> GREEN, SWIR 1, Quality (?)\n",
    "l30_bands = ['B03', 'B06']#, 'Fmask']    # L30 bands for EVI calculation and quality filtering -> GREEN, SWIR 1, Quality (?)"
   ]
  },
  {
   "cell_type": "code",
   "execution_count": 38,
   "id": "early-letters",
   "metadata": {
    "tags": []
   },
   "outputs": [],
   "source": [
    "evi_band_links = []\n",
    "\n",
    "for i in item_collection:\n",
    "    if i.properties['eo:cloud_cover'] <= cloudcover:\n",
    "        if i.collection_id == 'HLSS30.v2.0':\n",
    "            #print(i.properties['eo:cloud_cover'])\n",
    "            evi_bands = s30_bands\n",
    "        elif i.collection_id == 'HLSL30.v2.0':\n",
    "            #print(i.properties['eo:cloud_cover'])\n",
    "            evi_bands = l30_bands\n",
    "\n",
    "        for a in i.assets:\n",
    "            if any(b==a for b in evi_bands):\n",
    "                evi_band_links.append(i.assets[a].href)"
   ]
  },
  {
   "cell_type": "code",
   "execution_count": 39,
   "id": "other-thunder",
   "metadata": {},
   "outputs": [
    {
     "data": {
      "text/plain": [
       "45.0"
      ]
     },
     "execution_count": 39,
     "metadata": {},
     "output_type": "execute_result"
    }
   ],
   "source": [
    "len(evi_band_links)/4    # Print the number of Items that match our cloud criteria "
   ]
  },
  {
   "cell_type": "markdown",
   "id": "infectious-premiere",
   "metadata": {
    "user_expressions": []
   },
   "source": [
    "The filtering done in the previous steps produces a list of links to STAC Assets. Let's print out the first ten links."
   ]
  },
  {
   "cell_type": "code",
   "execution_count": 42,
   "id": "japanese-force",
   "metadata": {},
   "outputs": [
    {
     "data": {
      "text/plain": [
       "['https://data.lpdaac.earthdatacloud.nasa.gov/lp-prod-protected/HLSS30.020/HLS.S30.T11SLC.2021121T183919.v2.0/HLS.S30.T11SLC.2021121T183919.v2.0.B11.tif',\n",
       " 'https://data.lpdaac.earthdatacloud.nasa.gov/lp-prod-protected/HLSS30.020/HLS.S30.T11SLC.2021121T183919.v2.0/HLS.S30.T11SLC.2021121T183919.v2.0.B03.tif',\n",
       " 'https://data.lpdaac.earthdatacloud.nasa.gov/lp-prod-protected/HLSS30.020/HLS.S30.T11SKC.2021121T183919.v2.0/HLS.S30.T11SKC.2021121T183919.v2.0.B11.tif',\n",
       " 'https://data.lpdaac.earthdatacloud.nasa.gov/lp-prod-protected/HLSS30.020/HLS.S30.T11SKC.2021121T183919.v2.0/HLS.S30.T11SKC.2021121T183919.v2.0.B03.tif',\n",
       " 'https://data.lpdaac.earthdatacloud.nasa.gov/lp-prod-protected/HLSS30.020/HLS.S30.T11SLB.2021121T183919.v2.0/HLS.S30.T11SLB.2021121T183919.v2.0.B03.tif',\n",
       " 'https://data.lpdaac.earthdatacloud.nasa.gov/lp-prod-protected/HLSS30.020/HLS.S30.T11SLB.2021121T183919.v2.0/HLS.S30.T11SLB.2021121T183919.v2.0.B11.tif',\n",
       " 'https://data.lpdaac.earthdatacloud.nasa.gov/lp-prod-protected/HLSS30.020/HLS.S30.T11SKB.2021121T183919.v2.0/HLS.S30.T11SKB.2021121T183919.v2.0.B11.tif',\n",
       " 'https://data.lpdaac.earthdatacloud.nasa.gov/lp-prod-protected/HLSS30.020/HLS.S30.T11SKB.2021121T183919.v2.0/HLS.S30.T11SKB.2021121T183919.v2.0.B03.tif',\n",
       " 'https://data.lpdaac.earthdatacloud.nasa.gov/lp-prod-protected/HLSS30.020/HLS.S30.T11SLC.2021126T183921.v2.0/HLS.S30.T11SLC.2021126T183921.v2.0.B03.tif',\n",
       " 'https://data.lpdaac.earthdatacloud.nasa.gov/lp-prod-protected/HLSS30.020/HLS.S30.T11SLC.2021126T183921.v2.0/HLS.S30.T11SLC.2021126T183921.v2.0.B11.tif',\n",
       " 'https://data.lpdaac.earthdatacloud.nasa.gov/lp-prod-protected/HLSS30.020/HLS.S30.T11SKC.2021126T183921.v2.0/HLS.S30.T11SKC.2021126T183921.v2.0.B03.tif',\n",
       " 'https://data.lpdaac.earthdatacloud.nasa.gov/lp-prod-protected/HLSS30.020/HLS.S30.T11SKC.2021126T183921.v2.0/HLS.S30.T11SKC.2021126T183921.v2.0.B11.tif',\n",
       " 'https://data.lpdaac.earthdatacloud.nasa.gov/lp-prod-protected/HLSS30.020/HLS.S30.T11SLB.2021126T183921.v2.0/HLS.S30.T11SLB.2021126T183921.v2.0.B11.tif',\n",
       " 'https://data.lpdaac.earthdatacloud.nasa.gov/lp-prod-protected/HLSS30.020/HLS.S30.T11SLB.2021126T183921.v2.0/HLS.S30.T11SLB.2021126T183921.v2.0.B03.tif',\n",
       " 'https://data.lpdaac.earthdatacloud.nasa.gov/lp-prod-protected/HLSS30.020/HLS.S30.T11SKB.2021126T183921.v2.0/HLS.S30.T11SKB.2021126T183921.v2.0.B11.tif',\n",
       " 'https://data.lpdaac.earthdatacloud.nasa.gov/lp-prod-protected/HLSS30.020/HLS.S30.T11SKB.2021126T183921.v2.0/HLS.S30.T11SKB.2021126T183921.v2.0.B03.tif',\n",
       " 'https://data.lpdaac.earthdatacloud.nasa.gov/lp-prod-protected/HLSL30.020/HLS.L30.T11SLC.2021130T183251.v2.0/HLS.L30.T11SLC.2021130T183251.v2.0.B03.tif',\n",
       " 'https://data.lpdaac.earthdatacloud.nasa.gov/lp-prod-protected/HLSL30.020/HLS.L30.T11SLC.2021130T183251.v2.0/HLS.L30.T11SLC.2021130T183251.v2.0.B06.tif',\n",
       " 'https://data.lpdaac.earthdatacloud.nasa.gov/lp-prod-protected/HLSL30.020/HLS.L30.T11SKB.2021130T183315.v2.0/HLS.L30.T11SKB.2021130T183315.v2.0.B03.tif',\n",
       " 'https://data.lpdaac.earthdatacloud.nasa.gov/lp-prod-protected/HLSL30.020/HLS.L30.T11SKB.2021130T183315.v2.0/HLS.L30.T11SKB.2021130T183315.v2.0.B06.tif']"
      ]
     },
     "execution_count": 42,
     "metadata": {},
     "output_type": "execute_result"
    }
   ],
   "source": [
    "evi_band_links[:20]"
   ]
  },
  {
   "cell_type": "markdown",
   "id": "instructional-prime",
   "metadata": {
    "user_expressions": []
   },
   "source": [
    "**NOTICE** that in the list of links that we have multiple tiles, i.e. **T14TKL** & **T13TGF**, that intersect with our region of interest. These tiles represent neighboring UTM zones. We will split the list of links into seperate lists for each tile."
   ]
  },
  {
   "cell_type": "markdown",
   "id": "killing-shareware",
   "metadata": {
    "user_expressions": []
   },
   "source": [
    "We now have a list of links to data assets that meet our search and filtering criteria. The commands that follow will split this list into logical groupings using python routines."
   ]
  },
  {
   "cell_type": "markdown",
   "id": "approximate-massachusetts",
   "metadata": {
    "user_expressions": []
   },
   "source": [
    "### Split Data Links List into Logical Groupings"
   ]
  },
  {
   "cell_type": "markdown",
   "id": "finite-doubt",
   "metadata": {
    "user_expressions": []
   },
   "source": [
    "Split by Universal Transverse Mercator (UTM) tile specified in the file name (e.g., T14TKL & T13TGF)"
   ]
  },
  {
   "cell_type": "code",
   "execution_count": 43,
   "id": "billion-chicago",
   "metadata": {},
   "outputs": [],
   "source": [
    "tile_dicts = defaultdict(list)    # https://stackoverflow.com/questions/26367812/appending-to-list-in-python-dictionary"
   ]
  },
  {
   "cell_type": "code",
   "execution_count": 44,
   "id": "checked-microphone",
   "metadata": {},
   "outputs": [],
   "source": [
    "for l in evi_band_links:\n",
    "    tile = l.split('.')[-6]\n",
    "    tile_dicts[tile].append(l)"
   ]
  },
  {
   "cell_type": "markdown",
   "id": "acceptable-feedback",
   "metadata": {
    "user_expressions": []
   },
   "source": [
    "#### Print dictionary keys and values, i.e. the data links"
   ]
  },
  {
   "cell_type": "code",
   "execution_count": 48,
   "id": "suited-setup",
   "metadata": {},
   "outputs": [
    {
     "data": {
      "text/plain": [
       "dict_keys(['T11SLC', 'T11SKC', 'T11SLB', 'T11SKB'])"
      ]
     },
     "execution_count": 48,
     "metadata": {},
     "output_type": "execute_result"
    }
   ],
   "source": [
    "tile_dicts.keys()"
   ]
  },
  {
   "cell_type": "code",
   "execution_count": 49,
   "id": "north-frank",
   "metadata": {},
   "outputs": [
    {
     "data": {
      "text/plain": [
       "['https://data.lpdaac.earthdatacloud.nasa.gov/lp-prod-protected/HLSS30.020/HLS.S30.T11SLC.2021121T183919.v2.0/HLS.S30.T11SLC.2021121T183919.v2.0.B11.tif',\n",
       " 'https://data.lpdaac.earthdatacloud.nasa.gov/lp-prod-protected/HLSS30.020/HLS.S30.T11SLC.2021121T183919.v2.0/HLS.S30.T11SLC.2021121T183919.v2.0.B03.tif',\n",
       " 'https://data.lpdaac.earthdatacloud.nasa.gov/lp-prod-protected/HLSS30.020/HLS.S30.T11SLC.2021126T183921.v2.0/HLS.S30.T11SLC.2021126T183921.v2.0.B03.tif',\n",
       " 'https://data.lpdaac.earthdatacloud.nasa.gov/lp-prod-protected/HLSS30.020/HLS.S30.T11SLC.2021126T183921.v2.0/HLS.S30.T11SLC.2021126T183921.v2.0.B11.tif',\n",
       " 'https://data.lpdaac.earthdatacloud.nasa.gov/lp-prod-protected/HLSL30.020/HLS.L30.T11SLC.2021130T183251.v2.0/HLS.L30.T11SLC.2021130T183251.v2.0.B03.tif']"
      ]
     },
     "execution_count": 49,
     "metadata": {},
     "output_type": "execute_result"
    }
   ],
   "source": [
    "tile_dicts['T11SLC'][:5]"
   ]
  },
  {
   "cell_type": "markdown",
   "id": "imported-restriction",
   "metadata": {
    "user_expressions": []
   },
   "source": [
    "Now we will create a seperate list of data links for each tile"
   ]
  },
  {
   "cell_type": "code",
   "execution_count": 50,
   "id": "absent-small",
   "metadata": {},
   "outputs": [],
   "source": [
    "tile_links_T11SLC = tile_dicts['T11SLC']\n",
    "tile_links_T11SKC = tile_dicts['T11SKC']\n",
    "tile_links_T11SKB = tile_dicts['T11SKB']\n",
    "tile_links_T11SLB = tile_dicts['T11SLB']"
   ]
  },
  {
   "cell_type": "markdown",
   "id": "communist-utility",
   "metadata": {
    "user_expressions": []
   },
   "source": [
    "#### Print band/layer links for HLS tile T13TGF"
   ]
  },
  {
   "cell_type": "code",
   "execution_count": 51,
   "id": "mental-pontiac",
   "metadata": {},
   "outputs": [
    {
     "data": {
      "text/plain": [
       "['https://data.lpdaac.earthdatacloud.nasa.gov/lp-prod-protected/HLSS30.020/HLS.S30.T11SLC.2021121T183919.v2.0/HLS.S30.T11SLC.2021121T183919.v2.0.B11.tif',\n",
       " 'https://data.lpdaac.earthdatacloud.nasa.gov/lp-prod-protected/HLSS30.020/HLS.S30.T11SLC.2021121T183919.v2.0/HLS.S30.T11SLC.2021121T183919.v2.0.B03.tif',\n",
       " 'https://data.lpdaac.earthdatacloud.nasa.gov/lp-prod-protected/HLSS30.020/HLS.S30.T11SLC.2021126T183921.v2.0/HLS.S30.T11SLC.2021126T183921.v2.0.B03.tif',\n",
       " 'https://data.lpdaac.earthdatacloud.nasa.gov/lp-prod-protected/HLSS30.020/HLS.S30.T11SLC.2021126T183921.v2.0/HLS.S30.T11SLC.2021126T183921.v2.0.B11.tif',\n",
       " 'https://data.lpdaac.earthdatacloud.nasa.gov/lp-prod-protected/HLSL30.020/HLS.L30.T11SLC.2021130T183251.v2.0/HLS.L30.T11SLC.2021130T183251.v2.0.B03.tif',\n",
       " 'https://data.lpdaac.earthdatacloud.nasa.gov/lp-prod-protected/HLSL30.020/HLS.L30.T11SLC.2021130T183251.v2.0/HLS.L30.T11SLC.2021130T183251.v2.0.B06.tif',\n",
       " 'https://data.lpdaac.earthdatacloud.nasa.gov/lp-prod-protected/HLSS30.020/HLS.S30.T11SLC.2021131T183919.v2.0/HLS.S30.T11SLC.2021131T183919.v2.0.B11.tif',\n",
       " 'https://data.lpdaac.earthdatacloud.nasa.gov/lp-prod-protected/HLSS30.020/HLS.S30.T11SLC.2021131T183919.v2.0/HLS.S30.T11SLC.2021131T183919.v2.0.B03.tif',\n",
       " 'https://data.lpdaac.earthdatacloud.nasa.gov/lp-prod-protected/HLSL30.020/HLS.L30.T11SLC.2021146T183301.v2.0/HLS.L30.T11SLC.2021146T183301.v2.0.B06.tif',\n",
       " 'https://data.lpdaac.earthdatacloud.nasa.gov/lp-prod-protected/HLSL30.020/HLS.L30.T11SLC.2021146T183301.v2.0/HLS.L30.T11SLC.2021146T183301.v2.0.B03.tif']"
      ]
     },
     "execution_count": 51,
     "metadata": {},
     "output_type": "execute_result"
    }
   ],
   "source": [
    "tile_links_T11SLC[:10]"
   ]
  },
  {
   "cell_type": "markdown",
   "id": "immediate-corporation",
   "metadata": {
    "user_expressions": []
   },
   "source": [
    "#### Split the links by band"
   ]
  },
  {
   "cell_type": "code",
   "execution_count": 63,
   "id": "blind-hudson",
   "metadata": {},
   "outputs": [],
   "source": [
    "bands_dicts = defaultdict(list)"
   ]
  },
  {
   "cell_type": "code",
   "execution_count": 64,
   "id": "suffering-picture",
   "metadata": {},
   "outputs": [],
   "source": [
    "for b in tile_links_T11SLC:\n",
    "    band = b.split('.')[-2]\n",
    "    bands_dicts[band].append(b)"
   ]
  },
  {
   "cell_type": "code",
   "execution_count": 65,
   "id": "olive-transport",
   "metadata": {},
   "outputs": [
    {
     "data": {
      "text/plain": [
       "dict_keys(['B11', 'B03', 'B06'])"
      ]
     },
     "execution_count": 65,
     "metadata": {},
     "output_type": "execute_result"
    }
   ],
   "source": [
    "bands_dicts.keys()"
   ]
  },
  {
   "cell_type": "code",
   "execution_count": 66,
   "id": "adjustable-income",
   "metadata": {},
   "outputs": [
    {
     "data": {
      "text/plain": [
       "['https://data.lpdaac.earthdatacloud.nasa.gov/lp-prod-protected/HLSS30.020/HLS.S30.T11SLC.2021121T183919.v2.0/HLS.S30.T11SLC.2021121T183919.v2.0.B03.tif',\n",
       " 'https://data.lpdaac.earthdatacloud.nasa.gov/lp-prod-protected/HLSS30.020/HLS.S30.T11SLC.2021126T183921.v2.0/HLS.S30.T11SLC.2021126T183921.v2.0.B03.tif',\n",
       " 'https://data.lpdaac.earthdatacloud.nasa.gov/lp-prod-protected/HLSL30.020/HLS.L30.T11SLC.2021130T183251.v2.0/HLS.L30.T11SLC.2021130T183251.v2.0.B03.tif',\n",
       " 'https://data.lpdaac.earthdatacloud.nasa.gov/lp-prod-protected/HLSS30.020/HLS.S30.T11SLC.2021131T183919.v2.0/HLS.S30.T11SLC.2021131T183919.v2.0.B03.tif',\n",
       " 'https://data.lpdaac.earthdatacloud.nasa.gov/lp-prod-protected/HLSL30.020/HLS.L30.T11SLC.2021146T183301.v2.0/HLS.L30.T11SLC.2021146T183301.v2.0.B03.tif',\n",
       " 'https://data.lpdaac.earthdatacloud.nasa.gov/lp-prod-protected/HLSS30.020/HLS.S30.T11SLC.2021146T183921.v2.0/HLS.S30.T11SLC.2021146T183921.v2.0.B03.tif',\n",
       " 'https://data.lpdaac.earthdatacloud.nasa.gov/lp-prod-protected/HLSS30.020/HLS.S30.T11SLC.2021151T183919.v2.0/HLS.S30.T11SLC.2021151T183919.v2.0.B03.tif',\n",
       " 'https://data.lpdaac.earthdatacloud.nasa.gov/lp-prod-protected/HLSS30.020/HLS.S30.T11SLC.2021156T183921.v2.0/HLS.S30.T11SLC.2021156T183921.v2.0.B03.tif',\n",
       " 'https://data.lpdaac.earthdatacloud.nasa.gov/lp-prod-protected/HLSS30.020/HLS.S30.T11SLC.2021161T183919.v2.0/HLS.S30.T11SLC.2021161T183919.v2.0.B03.tif',\n",
       " 'https://data.lpdaac.earthdatacloud.nasa.gov/lp-prod-protected/HLSL30.020/HLS.L30.T11SLC.2021162T183308.v2.0/HLS.L30.T11SLC.2021162T183308.v2.0.B03.tif',\n",
       " 'https://data.lpdaac.earthdatacloud.nasa.gov/lp-prod-protected/HLSS30.020/HLS.S30.T11SLC.2021166T183921.v2.0/HLS.S30.T11SLC.2021166T183921.v2.0.B03.tif',\n",
       " 'https://data.lpdaac.earthdatacloud.nasa.gov/lp-prod-protected/HLSS30.020/HLS.S30.T11SLC.2021171T183919.v2.0/HLS.S30.T11SLC.2021171T183919.v2.0.B03.tif',\n",
       " 'https://data.lpdaac.earthdatacloud.nasa.gov/lp-prod-protected/HLSS30.020/HLS.S30.T11SLC.2021176T183921.v2.0/HLS.S30.T11SLC.2021176T183921.v2.0.B03.tif',\n",
       " 'https://data.lpdaac.earthdatacloud.nasa.gov/lp-prod-protected/HLSL30.020/HLS.L30.T11SLC.2021178T183312.v2.0/HLS.L30.T11SLC.2021178T183312.v2.0.B03.tif',\n",
       " 'https://data.lpdaac.earthdatacloud.nasa.gov/lp-prod-protected/HLSS30.020/HLS.S30.T11SLC.2021186T183921.v2.0/HLS.S30.T11SLC.2021186T183921.v2.0.B03.tif',\n",
       " 'https://data.lpdaac.earthdatacloud.nasa.gov/lp-prod-protected/HLSS30.020/HLS.S30.T11SLC.2021196T183921.v2.0/HLS.S30.T11SLC.2021196T183921.v2.0.B03.tif',\n",
       " 'https://data.lpdaac.earthdatacloud.nasa.gov/lp-prod-protected/HLSS30.020/HLS.S30.T11SLC.2021201T183919.v2.0/HLS.S30.T11SLC.2021201T183919.v2.0.B03.tif',\n",
       " 'https://data.lpdaac.earthdatacloud.nasa.gov/lp-prod-protected/HLSS30.020/HLS.S30.T11SLC.2021216T183921.v2.0/HLS.S30.T11SLC.2021216T183921.v2.0.B03.tif',\n",
       " 'https://data.lpdaac.earthdatacloud.nasa.gov/lp-prod-protected/HLSS30.020/HLS.S30.T11SLC.2021221T183919.v2.0/HLS.S30.T11SLC.2021221T183919.v2.0.B03.tif',\n",
       " 'https://data.lpdaac.earthdatacloud.nasa.gov/lp-prod-protected/HLSL30.020/HLS.L30.T11SLC.2021226T183327.v2.0/HLS.L30.T11SLC.2021226T183327.v2.0.B03.tif',\n",
       " 'https://data.lpdaac.earthdatacloud.nasa.gov/lp-prod-protected/HLSS30.020/HLS.S30.T11SLC.2021226T183921.v2.0/HLS.S30.T11SLC.2021226T183921.v2.0.B03.tif',\n",
       " 'https://data.lpdaac.earthdatacloud.nasa.gov/lp-prod-protected/HLSS30.020/HLS.S30.T11SLC.2021231T183919.v2.0/HLS.S30.T11SLC.2021231T183919.v2.0.B03.tif',\n",
       " 'https://data.lpdaac.earthdatacloud.nasa.gov/lp-prod-protected/HLSS30.020/HLS.S30.T11SLC.2021236T183921.v2.0/HLS.S30.T11SLC.2021236T183921.v2.0.B03.tif',\n",
       " 'https://data.lpdaac.earthdatacloud.nasa.gov/lp-prod-protected/HLSS30.020/HLS.S30.T11SLC.2021241T183919.v2.0/HLS.S30.T11SLC.2021241T183919.v2.0.B03.tif',\n",
       " 'https://data.lpdaac.earthdatacloud.nasa.gov/lp-prod-protected/HLSL30.020/HLS.L30.T11SLC.2021242T183332.v2.0/HLS.L30.T11SLC.2021242T183332.v2.0.B03.tif']"
      ]
     },
     "execution_count": 66,
     "metadata": {},
     "output_type": "execute_result"
    }
   ],
   "source": [
    "bands_dicts['B03']"
   ]
  },
  {
   "cell_type": "markdown",
   "id": "ceramic-justice",
   "metadata": {
    "user_expressions": []
   },
   "source": [
    "### Save links to a text file\n",
    "\n",
    "To finish off this exercise, we will save the idividual link lists as seperate text files with descriptive names."
   ]
  },
  {
   "cell_type": "markdown",
   "id": "phantom-indonesia",
   "metadata": {
    "user_expressions": []
   },
   "source": [
    "#### Write links from CMR-STAC API to a file"
   ]
  },
  {
   "cell_type": "code",
   "execution_count": 67,
   "id": "51f8e976-5fc4-4d56-85da-18fe80e11d7e",
   "metadata": {
    "tags": []
   },
   "outputs": [
    {
     "name": "stdout",
     "output_type": "stream",
     "text": [
      "dict_keys(['B11', 'B03', 'B06'])\n"
     ]
    }
   ],
   "source": [
    "print(bands_dicts.keys())"
   ]
  },
  {
   "cell_type": "code",
   "execution_count": 68,
   "id": "special-berlin",
   "metadata": {},
   "outputs": [],
   "source": [
    "for k, v in bands_dicts.items():\n",
    "    name = (f'HTTPS_T11SLC_{k}_Links.txt')\n",
    "    with open(f'../data/{name}', 'w') as f:\n",
    "        for l in v:\n",
    "            f.write(f\"{l}\" + '\\n')"
   ]
  },
  {
   "cell_type": "markdown",
   "id": "trained-brush",
   "metadata": {
    "user_expressions": []
   },
   "source": [
    "#### Write links to file for S3 access"
   ]
  },
  {
   "cell_type": "code",
   "execution_count": 69,
   "id": "olympic-cause",
   "metadata": {},
   "outputs": [],
   "source": [
    "for k, v in bands_dicts.items():\n",
    "    name = (f'S3_T11SLC_{k}_Links.txt')\n",
    "    with open(f'../data/{name}', 'w') as f:\n",
    "        for l in v:\n",
    "            s3l = l.replace('https://data.lpdaac.earthdatacloud.nasa.gov/', 's3://')\n",
    "            f.write(f\"{s3l}\" + '\\n')"
   ]
  },
  {
   "cell_type": "markdown",
   "id": "assured-money",
   "metadata": {
    "user_expressions": []
   },
   "source": [
    "---"
   ]
  },
  {
   "cell_type": "markdown",
   "id": "necessary-subscriber",
   "metadata": {
    "user_expressions": []
   },
   "source": [
    "## Resources\n",
    "\n",
    "- https://github.com/nasa/cmr-stac\n",
    "- https://stacspec.org/\n",
    "- https://stackoverflow.com/questions/26367812/appending-to-list-in-python-dictionary\n",
    "- https://pystac-client.readthedocs.io/en/latest/index.html\n",
    "- https://pystac.readthedocs.io/en/1.0/"
   ]
  },
  {
   "cell_type": "markdown",
   "id": "f0ebf970-a928-4b6a-af09-59ba0e519493",
   "metadata": {
    "user_expressions": []
   },
   "source": [
    "---"
   ]
  },
  {
   "cell_type": "markdown",
   "id": "95069f52",
   "metadata": {
    "tags": [],
    "user_expressions": []
   },
   "source": [
    "## Contact Info:  \n",
    "\n",
    "Email: LPDAAC@usgs.gov  \n",
    "Voice: +1-866-573-3222  \n",
    "Organization: Land Processes Distributed Active Archive Center (LP DAAC)¹  \n",
    "Website: <https://lpdaac.usgs.gov/>  \n",
    "Date last modified: 03-09-2023  \n",
    "\n",
    "¹Work performed under USGS contract G15PD00467 for NASA contract NNG14HH33I.  "
   ]
  }
 ],
 "metadata": {
  "kernelspec": {
   "display_name": "Python 3 (ipykernel)",
   "language": "python",
   "name": "python3"
  },
  "language_info": {
   "codemirror_mode": {
    "name": "ipython",
    "version": 3
   },
   "file_extension": ".py",
   "mimetype": "text/x-python",
   "name": "python",
   "nbconvert_exporter": "python",
   "pygments_lexer": "ipython3",
   "version": "3.10.13"
  }
 },
 "nbformat": 4,
 "nbformat_minor": 5
}
