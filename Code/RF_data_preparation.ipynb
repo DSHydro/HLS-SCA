{
 "cells": [
  {
   "cell_type": "markdown",
   "id": "92c5216b-b40a-4792-b543-38bbfc1ca4b5",
   "metadata": {
    "user_expressions": []
   },
   "source": [
    "# Random Forest Data Preparation"
   ]
  },
  {
   "cell_type": "markdown",
   "id": "f89dfff8-84ad-4720-b768-644bcb47c924",
   "metadata": {
    "tags": [],
    "user_expressions": []
   },
   "source": [
    "## Import miscellaneous useful libraries"
   ]
  },
  {
   "cell_type": "code",
   "execution_count": null,
   "id": "dc4bead5-8380-43a3-9d6d-4480cd432a58",
   "metadata": {
    "tags": []
   },
   "outputs": [],
   "source": [
    "%matplotlib inline\n",
    "import matplotlib.pyplot as plt\n",
    "from datetime import datetime\n",
    "import os\n",
    "import requests\n",
    "import boto3\n",
    "import numpy as np\n",
    "import xarray as xr\n",
    "import rasterio as rio\n",
    "from rasterio.session import AWSSession\n",
    "from rasterio.plot import show\n",
    "import rioxarray\n",
    "import geoviews as gv\n",
    "import hvplot.xarray\n",
    "import holoviews as hv\n",
    "import csv\n",
    "gv.extension('bokeh', 'matplotlib')"
   ]
  },
  {
   "cell_type": "markdown",
   "id": "2b8115ed-ed2b-4d66-8ca5-afcc9b4f51e8",
   "metadata": {
    "tags": [],
    "user_expressions": []
   },
   "source": [
    "## Get Credentials\n",
    "See NDSI notebook for detailed breakdown"
   ]
  },
  {
   "cell_type": "code",
   "execution_count": 3,
   "id": "09197c0e-bb94-439a-a029-c12031a6493a",
   "metadata": {
    "tags": []
   },
   "outputs": [
    {
     "data": {
      "text/plain": [
       "<rasterio.env.Env at 0x7fea33d83640>"
      ]
     },
     "execution_count": 3,
     "metadata": {},
     "output_type": "execute_result"
    }
   ],
   "source": [
    "s3_cred_endpoint = 'https://data.lpdaac.earthdatacloud.nasa.gov/s3credentials'\n",
    "def get_temp_creds():\n",
    "    temp_creds_url = s3_cred_endpoint\n",
    "    return requests.get(temp_creds_url).json()\n",
    "temp_creds_req = get_temp_creds()\n",
    "session = boto3.Session(aws_access_key_id=temp_creds_req['accessKeyId'], \n",
    "                        aws_secret_access_key=temp_creds_req['secretAccessKey'],\n",
    "                        aws_session_token=temp_creds_req['sessionToken'],\n",
    "                        region_name='us-west-2')\n",
    "rio_env = rio.Env(AWSSession(session),\n",
    "                  GDAL_DISABLE_READDIR_ON_OPEN='EMPTY_DIR',\n",
    "                  GDAL_HTTP_COOKIEFILE=os.path.expanduser('~/cookies.txt'),\n",
    "                  GDAL_HTTP_COOKIEJAR=os.path.expanduser('~/cookies.txt'))\n",
    "rio_env.__enter__()"
   ]
  },
  {
   "cell_type": "markdown",
   "id": "121b2c98-882e-454b-a8fe-a5a37119827f",
   "metadata": {
    "tags": [],
    "user_expressions": []
   },
   "source": [
    "## Load files"
   ]
  },
  {
   "cell_type": "code",
   "execution_count": 4,
   "id": "df5cba45-01ba-4cd4-b82a-3aa6f509daae",
   "metadata": {
    "tags": []
   },
   "outputs": [
    {
     "name": "stdout",
     "output_type": "stream",
     "text": [
      "s3://lp-prod-protected/HLSS30.020/HLS.S30.T11SLB.2019182T183929.v2.0/HLS.S30.T11SLB.2019182T183929.v2.0.B02.tif\n",
      "s3://lp-prod-protected/HLSS30.020/HLS.S30.T11SLB.2019182T183929.v2.0/HLS.S30.T11SLB.2019182T183929.v2.0.B03.tif\n",
      "s3://lp-prod-protected/HLSS30.020/HLS.S30.T11SLB.2019182T183929.v2.0/HLS.S30.T11SLB.2019182T183929.v2.0.B04.tif\n",
      "s3://lp-prod-protected/HLSL30.020/HLS.L30.T11SLB.2019189T183338.v2.0/HLS.L30.T11SLB.2019189T183338.v2.0.B06.tif\n",
      "s3://lp-prod-protected/HLSS30.020/HLS.S30.T11SLB.2019182T183929.v2.0/HLS.S30.T11SLB.2019182T183929.v2.0.B11.tif\n"
     ]
    }
   ],
   "source": [
    "links = {}\n",
    "links[\"02\"] = open('../data/S3_T11SLB_B02_Links.txt').read().splitlines() # L30 and S30 for BLUE\n",
    "links[\"03\"] = open('../data/S3_T11SLB_B03_Links.txt').read().splitlines() # L30 and S30 for GREEN\n",
    "links[\"04\"] = open('../data/S3_T11SLB_B04_Links.txt').read().splitlines() # L30 and S30 for RED\n",
    "links[\"06\"] = open('../data/S3_T11SLB_B06_Links.txt').read().splitlines() # L30 for SWIR 1\n",
    "links[\"11\"] = open('../data/S3_T11SLB_B11_Links.txt').read().splitlines() # S30 for SWIR 1\n",
    "for k in links.keys():\n",
    "    print(links[k][0])"
   ]
  },
  {
   "cell_type": "code",
   "execution_count": 5,
   "id": "62e7bced-6008-454e-bb2c-7c87980a740a",
   "metadata": {
    "tags": []
   },
   "outputs": [],
   "source": [
    "hls_bands = {}\n",
    "hls_bands[\"S02\"] = rioxarray.open_rasterio(links[\"02\"][4], chuncks=True).squeeze('band', drop=True)\n",
    "hls_bands[\"S03\"] = rioxarray.open_rasterio(links[\"03\"][4], chuncks=True).squeeze('band', drop=True)\n",
    "hls_bands[\"S04\"] = rioxarray.open_rasterio(links[\"04\"][4], chuncks=True).squeeze('band', drop=True)\n",
    "hls_bands[\"S11\"] = rioxarray.open_rasterio(links[\"11\"][3], chuncks=True).squeeze('band', drop=True)\n",
    "\n",
    "hls_bands[\"L02\"] = rioxarray.open_rasterio(links[\"02\"][2], chuncks=True).squeeze('band', drop=True)\n",
    "hls_bands[\"L03\"] = rioxarray.open_rasterio(links[\"03\"][2], chuncks=True).squeeze('band', drop=True)\n",
    "hls_bands[\"L04\"] = rioxarray.open_rasterio(links[\"04\"][2], chuncks=True).squeeze('band', drop=True)\n",
    "hls_bands[\"L06\"] = rioxarray.open_rasterio(links[\"06\"][0], chuncks=True).squeeze('band', drop=True)\n",
    "\n",
    "lidar = rioxarray.open_rasterio(\"../data/ASO_50M_SD_USCASF_20190714.tif\", chuncks=True).squeeze('band', drop=True)\n",
    "lidar = lidar.where(-100 < lidar, drop=True)\n",
    "# print(lidar)\n",
    "# lidar.hvplot.image(x='x', y='y', cmap='coolwarm', rasterize=True, width=800, height=600, colorbar=True)"
   ]
  },
  {
   "cell_type": "code",
   "execution_count": 6,
   "id": "4764a994-7b8b-4657-b4b0-23c3d3feda73",
   "metadata": {
    "tags": []
   },
   "outputs": [],
   "source": [
    "for band in hls_bands.keys():\n",
    "    hls_bands[band] = hls_bands[band].rio.reproject_match(lidar)"
   ]
  },
  {
   "cell_type": "code",
   "execution_count": 7,
   "id": "f7f33bc6-7058-4015-90cc-2c0488f78950",
   "metadata": {
    "tags": []
   },
   "outputs": [],
   "source": [
    "for band in hls_bands.keys():\n",
    "    hls_bands[band] = hls_bands[band].values.flatten()"
   ]
  },
  {
   "cell_type": "code",
   "execution_count": 8,
   "id": "60c5e50d-63f2-4147-92a8-bb5c3ace5e88",
   "metadata": {
    "tags": []
   },
   "outputs": [],
   "source": [
    "thresholded = lidar.where(0.01 < lidar)"
   ]
  },
  {
   "cell_type": "code",
   "execution_count": 9,
   "id": "8c04eee4-a27a-49c0-837b-87c6dfca421f",
   "metadata": {
    "tags": []
   },
   "outputs": [],
   "source": [
    "baseline = lidar.values.flatten()\n",
    "linear_lidar = thresholded.values.flatten()\n",
    "valid = ~np.isnan(baseline)\n",
    "linear_lidar_filtered = linear_lidar[valid]\n",
    "def filter_post(arr):\n",
    "    arr[np.isnan(arr) | np.isnan(-arr)] = 0\n",
    "    arr[arr > 0] = 1\n",
    "filter_post(linear_lidar_filtered)\n",
    "linear_lidar_filtered = linear_lidar_filtered.astype(int)"
   ]
  },
  {
   "cell_type": "code",
   "execution_count": 10,
   "id": "178fe3ca-7613-497d-bcb9-f4839207508f",
   "metadata": {
    "tags": []
   },
   "outputs": [],
   "source": [
    "for band in hls_bands.keys():\n",
    "    hls_bands[band] = hls_bands[band][valid]"
   ]
  },
  {
   "cell_type": "code",
   "execution_count": 11,
   "id": "1cb4fb2e-4bc4-4f34-bed5-4785d8c586ce",
   "metadata": {
    "tags": []
   },
   "outputs": [],
   "source": [
    "def write_to_csv(labels, *arrs, file_name='output.csv'):\n",
    "    with open('output.csv', 'w', newline='') as csvfile:\n",
    "        writer = csv.writer(csvfile)\n",
    "\n",
    "        # Writing header\n",
    "        writer.writerow(labels)\n",
    "\n",
    "        # Writing data row by row\n",
    "        writer.writerows(data)\n",
    "#     # Extract data and attributes\n",
    "#     data = []\n",
    "#     attributes = []\n",
    "\n",
    "#     for xarray in xarrays:\n",
    "#         data.append(xarray.values.flatten())\n",
    "#         attributes.append(xarray.attrs.get('long_name', ''))\n",
    "\n",
    "#     # Transpose data for CSV writing\n",
    "#     data_transposed = zip(*data)\n",
    "\n",
    "#     # Write to CSV file\n",
    "#     with open(file_name, 'w', newline='') as csvfile:\n",
    "#         writer = csv.writer(csvfile)\n",
    "        \n",
    "#         # Write attribute row\n",
    "#         writer.writerow(attributes)\n",
    "        \n",
    "#         # Write data rows\n",
    "#         writer.writerows(data_transposed)"
   ]
  },
  {
   "cell_type": "code",
   "execution_count": 13,
   "id": "63bc5f10-8f68-4487-8556-4c873cf6ee49",
   "metadata": {
    "tags": []
   },
   "outputs": [
    {
     "name": "stdout",
     "output_type": "stream",
     "text": [
      "Done exporting data\n"
     ]
    }
   ],
   "source": [
    "labels = [\"Blue\", \"Green\", \"Red\", \"Truth\"]\n",
    "data = np.column_stack((hls_bands[\"S02\"], hls_bands[\"S03\"], \\\n",
    "                        hls_bands[\"S04\"], linear_lidar_filtered))\n",
    "write_to_csv(labels, data)\n",
    "print(\"Done exporting data\")"
   ]
  }
 ],
 "metadata": {
  "kernelspec": {
   "display_name": "Python 3 (ipykernel)",
   "language": "python",
   "name": "python3"
  },
  "language_info": {
   "codemirror_mode": {
    "name": "ipython",
    "version": 3
   },
   "file_extension": ".py",
   "mimetype": "text/x-python",
   "name": "python",
   "nbconvert_exporter": "python",
   "pygments_lexer": "ipython3",
   "version": "3.11.8"
  }
 },
 "nbformat": 4,
 "nbformat_minor": 5
}
