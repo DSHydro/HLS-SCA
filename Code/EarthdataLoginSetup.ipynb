{
 "cells": [
  {
   "cell_type": "markdown",
   "id": "75bcffe2",
   "metadata": {},
   "source": [
    "After you get the links from Data Discovery, you will need to extract the tile info files (.tif) from NASA Earthdata. Go to [here](https://urs.earthdata.nasa.gov/) to set up an account and run the following file (edited from chapter 4 of the 2021 Cloud Hackathon) in Cryocloud.  "
   ]
  },
  {
   "cell_type": "code",
   "execution_count": 5,
   "id": "a5719600-8f02-4199-a45b-bdf644161a49",
   "metadata": {
    "tags": []
   },
   "outputs": [
    {
     "name": "stderr",
     "output_type": "stream",
     "text": [
      "chmod: cannot access '/home/jovyan/.netrc': No such file or directory\n"
     ]
    },
    {
     "name": "stdout",
     "output_type": "stream",
     "text": [
      "Enter NASA Earthdata Login Username \n",
      "(or create an account at urs.earthdata.nasa.gov):  ········\n",
      "Enter NASA Earthdata Login Password:  ········\n"
     ]
    }
   ],
   "source": [
    "# -*- coding: utf-8 -*-\n",
    "\"\"\"\n",
    "---------------------------------------------------------------------------------------------------\n",
    " How to Set Up Direct Access the LP DAAC Data Pool with Python\n",
    " The following Python code will configure a netrc profile that will allow users to download data\n",
    " from an Earthdata Login enabled server. See README for additional information\n",
    "---------------------------------------------------------------------------------------------------\n",
    " Author: Cole Krehbiel\n",
    " Last Updated: 11/20/2018\n",
    "-------------------------------------------------------------------------------\n",
    "\"\"\"\n",
    "# Load necessary packages into Python\n",
    "from netrc import netrc\n",
    "from subprocess import Popen\n",
    "from getpass import getpass\n",
    "import os\n",
    "\n",
    "# -----------------------------------AUTHENTICATION CONFIGURATION-------------------------------- #\n",
    "urs = 'urs.earthdata.nasa.gov'    # Earthdata URL to call for authentication\n",
    "prompts = ['Enter NASA Earthdata Login Username \\n(or create an account at urs.earthdata.nasa.gov): ',\n",
    "           'Enter NASA Earthdata Login Password: ']\n",
    "\n",
    "# NOTE this is only required on cryocloud. If you are doing this locally this is not needed. \n",
    "os.remove(\"/home/jovyan/.netrc\")\n",
    "\n",
    "# Determine if netrc file exists, and if so, if it includes NASA Earthdata Login Credentials\n",
    "try:\n",
    "    netrcDir = os.path.expanduser(\"~/.netrc\")\n",
    "    netrc(netrcDir).authenticators(urs)[0]\n",
    "\n",
    "# Below, create a netrc file and prompt user for NASA Earthdata Login Username and Password\n",
    "except FileNotFoundError:\n",
    "    homeDir = os.path.expanduser(\"~\")\n",
    "    Popen('touch {0}.netrc | chmod og-rw {0}.netrc | echo machine {1} >> {0}.netrc'.format(homeDir + os.sep, urs), shell=True)\n",
    "    Popen('echo login {} >> {}.netrc'.format(getpass(prompt=prompts[0]), homeDir + os.sep), shell=True)\n",
    "    Popen('echo password {} >> {}.netrc'.format(getpass(prompt=prompts[1]), homeDir + os.sep), shell=True)\n",
    "\n",
    "# Determine OS and edit netrc file if it exists but is not set up for NASA Earthdata Login\n",
    "except TypeError:\n",
    "    homeDir = os.path.expanduser(\"~\")\n",
    "    Popen('echo machine {1} >> {0}.netrc'.format(homeDir + os.sep, urs), shell=True)\n",
    "    Popen('echo login {} >> {}.netrc'.format(getpass(prompt=prompts[0]), homeDir + os.sep), shell=True)\n",
    "    Popen('echo password {} >> {}.netrc'.format(getpass(prompt=prompts[1]), homeDir + os.sep), shell=True)\n"
   ]
  }
 ],
 "metadata": {
  "kernelspec": {
   "display_name": "Python 3 (ipykernel)",
   "language": "python",
   "name": "python3"
  },
  "language_info": {
   "codemirror_mode": {
    "name": "ipython",
    "version": 3
   },
   "file_extension": ".py",
   "mimetype": "text/x-python",
   "name": "python",
   "nbconvert_exporter": "python",
   "pygments_lexer": "ipython3",
   "version": "3.10.13"
  }
 },
 "nbformat": 4,
 "nbformat_minor": 5
}
